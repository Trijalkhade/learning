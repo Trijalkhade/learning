{
 "cells": [
  {
   "cell_type": "code",
   "execution_count": 1,
   "id": "fb53b200-e94a-4267-8839-1a7ef51cd2b4",
   "metadata": {},
   "outputs": [],
   "source": [
    "import numpy as np"
   ]
  },
  {
   "cell_type": "code",
   "execution_count": 2,
   "id": "a7cd9558-ba60-49fd-8edd-fb94608b6987",
   "metadata": {},
   "outputs": [],
   "source": [
    "lst = [1,2,3,4]"
   ]
  },
  {
   "cell_type": "code",
   "execution_count": 3,
   "id": "804dece3-97d3-4a4e-88ad-59621fdc5d9d",
   "metadata": {},
   "outputs": [
    {
     "data": {
      "text/plain": [
       "[1, 2, 3, 4, 1, 2, 3, 4]"
      ]
     },
     "execution_count": 3,
     "metadata": {},
     "output_type": "execute_result"
    }
   ],
   "source": [
    "lst*2"
   ]
  },
  {
   "cell_type": "code",
   "execution_count": 4,
   "id": "7ab80a5c-17d7-40f6-8d69-357dfa4b57ea",
   "metadata": {},
   "outputs": [],
   "source": [
    "np_lst=np.array([1,2,3,4])"
   ]
  },
  {
   "cell_type": "code",
   "execution_count": 5,
   "id": "70ea4593-e913-4857-9d5d-cafb2945f532",
   "metadata": {},
   "outputs": [
    {
     "data": {
      "text/plain": [
       "array([2, 4, 6, 8])"
      ]
     },
     "execution_count": 5,
     "metadata": {},
     "output_type": "execute_result"
    }
   ],
   "source": [
    "np_lst * 2"
   ]
  },
  {
   "cell_type": "code",
   "execution_count": 6,
   "id": "02c96d9b-cae5-49c5-8e87-58af7faa416a",
   "metadata": {},
   "outputs": [],
   "source": [
    "np_arr_matrix = np.array([[1,2,3],[4,5,6],[7,8,9]])"
   ]
  },
  {
   "cell_type": "code",
   "execution_count": 7,
   "id": "80f6bccd-908e-4561-adb7-0213287a9ced",
   "metadata": {},
   "outputs": [
    {
     "data": {
      "text/plain": [
       "array([[1, 2, 3],\n",
       "       [4, 5, 6],\n",
       "       [7, 8, 9]])"
      ]
     },
     "execution_count": 7,
     "metadata": {},
     "output_type": "execute_result"
    }
   ],
   "source": [
    "np_arr_matrix"
   ]
  },
  {
   "cell_type": "code",
   "execution_count": 8,
   "id": "ed6a2adf-52ac-436c-844b-47fafde12b1a",
   "metadata": {},
   "outputs": [],
   "source": [
    "arr_0 = np.zeros(4)"
   ]
  },
  {
   "cell_type": "code",
   "execution_count": 9,
   "id": "c7fa253f-e72a-4da9-a8d6-191c92db7f8c",
   "metadata": {},
   "outputs": [
    {
     "data": {
      "text/plain": [
       "array([0., 0., 0., 0.])"
      ]
     },
     "execution_count": 9,
     "metadata": {},
     "output_type": "execute_result"
    }
   ],
   "source": [
    "arr_0"
   ]
  },
  {
   "cell_type": "code",
   "execution_count": 10,
   "id": "3c3fb253-693e-4e0e-96d6-430605fcc3a0",
   "metadata": {},
   "outputs": [],
   "source": [
    "arr1 = np.ones(3)"
   ]
  },
  {
   "cell_type": "code",
   "execution_count": 11,
   "id": "d31a3599-7f87-4a7c-b23f-ec0225aa920e",
   "metadata": {},
   "outputs": [
    {
     "data": {
      "text/plain": [
       "array([1., 1., 1.])"
      ]
     },
     "execution_count": 11,
     "metadata": {},
     "output_type": "execute_result"
    }
   ],
   "source": [
    "arr1"
   ]
  },
  {
   "cell_type": "code",
   "execution_count": 12,
   "id": "ab3b9c77-9b38-454c-a98d-2ad32c5b40ea",
   "metadata": {},
   "outputs": [],
   "source": [
    "arr2D_1 = np.ones([2,3])"
   ]
  },
  {
   "cell_type": "code",
   "execution_count": 13,
   "id": "e9d54d38-5277-4e64-8995-8b6ec04a171b",
   "metadata": {},
   "outputs": [
    {
     "data": {
      "text/plain": [
       "array([[1., 1., 1.],\n",
       "       [1., 1., 1.]])"
      ]
     },
     "execution_count": 13,
     "metadata": {},
     "output_type": "execute_result"
    }
   ],
   "source": [
    "arr2D_1"
   ]
  },
  {
   "cell_type": "code",
   "execution_count": 14,
   "id": "f4960886-f973-4adb-9f8b-1dad6758a82c",
   "metadata": {},
   "outputs": [
    {
     "data": {
      "text/plain": [
       "array([[1., 0., 0.],\n",
       "       [0., 1., 0.],\n",
       "       [0., 0., 1.]])"
      ]
     },
     "execution_count": 14,
     "metadata": {},
     "output_type": "execute_result"
    }
   ],
   "source": [
    "arr_i = np.eye(3)\n",
    "arr_i"
   ]
  },
  {
   "cell_type": "code",
   "execution_count": 15,
   "id": "feba4ff3-4409-40d3-ab6b-d640ecaa7f24",
   "metadata": {},
   "outputs": [
    {
     "data": {
      "text/plain": [
       "array([1, 2, 3, 4])"
      ]
     },
     "execution_count": 15,
     "metadata": {},
     "output_type": "execute_result"
    }
   ],
   "source": [
    "np.arange(1,5)"
   ]
  },
  {
   "cell_type": "code",
   "execution_count": 16,
   "id": "1ccf9c98-9b9c-4ff7-972d-595a92fdd206",
   "metadata": {},
   "outputs": [
    {
     "data": {
      "text/plain": [
       "array([0.68593891, 0.05248161])"
      ]
     },
     "execution_count": 16,
     "metadata": {},
     "output_type": "execute_result"
    }
   ],
   "source": [
    "np.random.rand(2)"
   ]
  },
  {
   "cell_type": "code",
   "execution_count": 17,
   "id": "1c13f959-94b3-4640-a3cb-f6846078aa96",
   "metadata": {},
   "outputs": [
    {
     "data": {
      "text/plain": [
       "array([[0.25022251, 0.06863046, 0.09571209, 0.93489376, 0.91542708],\n",
       "       [0.6242149 , 0.02348835, 0.87571426, 0.36083859, 0.84730797],\n",
       "       [0.03741758, 0.96430485, 0.48038083, 0.27512225, 0.63141344],\n",
       "       [0.95298312, 0.4246944 , 0.44535062, 0.96662188, 0.119417  ],\n",
       "       [0.75861999, 0.47146023, 0.84191841, 0.96174755, 0.19661877]])"
      ]
     },
     "execution_count": 17,
     "metadata": {},
     "output_type": "execute_result"
    }
   ],
   "source": [
    "np.random.rand(5,5)"
   ]
  },
  {
   "cell_type": "code",
   "execution_count": 18,
   "id": "0e4afbc7-5094-4259-bffd-6246fc64df0e",
   "metadata": {},
   "outputs": [
    {
     "data": {
      "text/plain": [
       "array([[-1.4149668 ,  0.97080918, -0.65249224, -0.50218618, -0.88965994],\n",
       "       [-0.27076197,  2.58445661, -1.9586579 ,  1.23382617,  0.43998467],\n",
       "       [-0.80289829, -0.39882586, -0.54906416,  0.6792507 , -0.71174173],\n",
       "       [-0.57655655, -0.28763265,  0.32731387, -0.79305093,  0.01477151],\n",
       "       [ 0.62250757, -1.31254729,  0.30267053, -1.47653647,  0.34437309]])"
      ]
     },
     "execution_count": 18,
     "metadata": {},
     "output_type": "execute_result"
    }
   ],
   "source": [
    "np.random.randn(5,5)"
   ]
  },
  {
   "cell_type": "code",
   "execution_count": 19,
   "id": "7abbed86-fe5f-4ea0-88b9-7695c8a56864",
   "metadata": {},
   "outputs": [
    {
     "data": {
      "text/plain": [
       "0"
      ]
     },
     "execution_count": 19,
     "metadata": {},
     "output_type": "execute_result"
    }
   ],
   "source": [
    "np.random.randint(5)"
   ]
  },
  {
   "cell_type": "code",
   "execution_count": 20,
   "id": "82d30411-d1f1-4c26-8b1d-4d78423fd396",
   "metadata": {},
   "outputs": [
    {
     "data": {
      "text/plain": [
       "array([22, 47, 23, 45, 31])"
      ]
     },
     "execution_count": 20,
     "metadata": {},
     "output_type": "execute_result"
    }
   ],
   "source": [
    "np.random.randint(20,50,5)"
   ]
  },
  {
   "cell_type": "code",
   "execution_count": 21,
   "id": "5d7c44cc-ef1f-4b75-8ff4-2fe991e9543e",
   "metadata": {},
   "outputs": [
    {
     "data": {
      "text/plain": [
       "array([  1. ,  10.9,  20.8,  30.7,  40.6,  50.5,  60.4,  70.3,  80.2,\n",
       "        90.1, 100. ])"
      ]
     },
     "execution_count": 21,
     "metadata": {},
     "output_type": "execute_result"
    }
   ],
   "source": [
    "lin = np.linspace(1,100,11)\n",
    "lin"
   ]
  },
  {
   "cell_type": "code",
   "execution_count": 22,
   "id": "c0089725-aa77-408c-a461-436ecb7a1e63",
   "metadata": {},
   "outputs": [
    {
     "data": {
      "text/plain": [
       "array([ 1. , 10.9, 20.8, 30.7])"
      ]
     },
     "execution_count": 22,
     "metadata": {},
     "output_type": "execute_result"
    }
   ],
   "source": [
    "lin[0:4]"
   ]
  },
  {
   "cell_type": "code",
   "execution_count": 23,
   "id": "3ed413a5-937d-4547-bca2-75aba3f174e9",
   "metadata": {},
   "outputs": [
    {
     "name": "stdout",
     "output_type": "stream",
     "text": [
      "['Are', 'you', 'coming', 'to', 'the', 'party?']\n"
     ]
    }
   ],
   "source": [
    "print(np.char.split(\"Are you coming to the party?\"))"
   ]
  },
  {
   "cell_type": "code",
   "execution_count": 24,
   "id": "c1041f6d-c631-4825-aeb9-291c26d9254d",
   "metadata": {},
   "outputs": [
    {
     "name": "stdout",
     "output_type": "stream",
     "text": [
      "['Hey', 'How are you']\n"
     ]
    }
   ],
   "source": [
    "print(np.char.splitlines(\"Hey\\nHow are you\"))"
   ]
  },
  {
   "cell_type": "code",
   "execution_count": 97,
   "id": "82d84ed1-937f-4a3b-aba3-e13454a8bbb4",
   "metadata": {},
   "outputs": [
    {
     "name": "stdout",
     "output_type": "stream",
     "text": [
      "['d:m:y' 'y-m-d']\n"
     ]
    }
   ],
   "source": [
    "print(np.char.join([\":\",\"-\"],[\"dmy\",\"ymd\"]))"
   ]
  },
  {
   "cell_type": "code",
   "execution_count": 95,
   "id": "50a3c4a1-51da-431e-a1d8-d0f513d8c10e",
   "metadata": {},
   "outputs": [
    {
     "name": "stdout",
     "output_type": "stream",
     "text": [
      "['Anit' 'meen' 'nin' 'nant']\n"
     ]
    }
   ],
   "source": [
    "print(np.char.strip([\"Anita\",\"meena\",\"nina\",\"anant\"],\"a\"))"
   ]
  },
  {
   "cell_type": "code",
   "execution_count": 98,
   "id": "97878fde-1fab-4fb1-8571-d232b86a5ec8",
   "metadata": {},
   "outputs": [
    {
     "name": "stdout",
     "output_type": "stream",
     "text": [
      "Are you going to the party?\n"
     ]
    }
   ],
   "source": [
    "print(np.char.replace(\"Are you coming to the party?\",\"coming\",\"going\"))"
   ]
  },
  {
   "cell_type": "code",
   "execution_count": 26,
   "id": "64d8e179-624b-4f12-9ed2-a9ccf1648c62",
   "metadata": {},
   "outputs": [
    {
     "data": {
      "text/plain": [
       "array([  0. ,   0. ,   0. ,   0. ,  40.6,  50.5,  60.4,  70.3,  80.2,\n",
       "        90.1, 100. ])"
      ]
     },
     "execution_count": 26,
     "metadata": {},
     "output_type": "execute_result"
    }
   ],
   "source": [
    "lin[0:4] = 0\n",
    "lin"
   ]
  },
  {
   "cell_type": "code",
   "execution_count": 27,
   "id": "25ea3a09-f69e-4e83-8b6b-4320683ab9e6",
   "metadata": {
    "scrolled": true
   },
   "outputs": [
    {
     "data": {
      "text/plain": [
       "['ALLOW_THREADS',\n",
       " 'BUFSIZE',\n",
       " 'CLIP',\n",
       " 'DataSource',\n",
       " 'ERR_CALL',\n",
       " 'ERR_DEFAULT',\n",
       " 'ERR_IGNORE',\n",
       " 'ERR_LOG',\n",
       " 'ERR_PRINT',\n",
       " 'ERR_RAISE',\n",
       " 'ERR_WARN',\n",
       " 'FLOATING_POINT_SUPPORT',\n",
       " 'FPE_DIVIDEBYZERO',\n",
       " 'FPE_INVALID',\n",
       " 'FPE_OVERFLOW',\n",
       " 'FPE_UNDERFLOW',\n",
       " 'False_',\n",
       " 'Inf',\n",
       " 'Infinity',\n",
       " 'MAXDIMS',\n",
       " 'MAY_SHARE_BOUNDS',\n",
       " 'MAY_SHARE_EXACT',\n",
       " 'NAN',\n",
       " 'NINF',\n",
       " 'NZERO',\n",
       " 'NaN',\n",
       " 'PINF',\n",
       " 'PZERO',\n",
       " 'RAISE',\n",
       " 'RankWarning',\n",
       " 'SHIFT_DIVIDEBYZERO',\n",
       " 'SHIFT_INVALID',\n",
       " 'SHIFT_OVERFLOW',\n",
       " 'SHIFT_UNDERFLOW',\n",
       " 'ScalarType',\n",
       " 'True_',\n",
       " 'UFUNC_BUFSIZE_DEFAULT',\n",
       " 'UFUNC_PYVALS_NAME',\n",
       " 'WRAP',\n",
       " '_CopyMode',\n",
       " '_NoValue',\n",
       " '_UFUNC_API',\n",
       " '__NUMPY_SETUP__',\n",
       " '__all__',\n",
       " '__builtins__',\n",
       " '__cached__',\n",
       " '__config__',\n",
       " '__deprecated_attrs__',\n",
       " '__dir__',\n",
       " '__doc__',\n",
       " '__expired_functions__',\n",
       " '__file__',\n",
       " '__former_attrs__',\n",
       " '__future_scalars__',\n",
       " '__getattr__',\n",
       " '__loader__',\n",
       " '__name__',\n",
       " '__package__',\n",
       " '__path__',\n",
       " '__spec__',\n",
       " '__version__',\n",
       " '_add_newdoc_ufunc',\n",
       " '_builtins',\n",
       " '_distributor_init',\n",
       " '_financial_names',\n",
       " '_get_promotion_state',\n",
       " '_globals',\n",
       " '_int_extended_msg',\n",
       " '_mat',\n",
       " '_no_nep50_warning',\n",
       " '_pyinstaller_hooks_dir',\n",
       " '_pytesttester',\n",
       " '_set_promotion_state',\n",
       " '_specific_msg',\n",
       " '_typing',\n",
       " '_using_numpy2_behavior',\n",
       " '_utils',\n",
       " 'abs',\n",
       " 'absolute',\n",
       " 'add',\n",
       " 'add_docstring',\n",
       " 'add_newdoc',\n",
       " 'add_newdoc_ufunc',\n",
       " 'all',\n",
       " 'allclose',\n",
       " 'alltrue',\n",
       " 'amax',\n",
       " 'amin',\n",
       " 'angle',\n",
       " 'any',\n",
       " 'append',\n",
       " 'apply_along_axis',\n",
       " 'apply_over_axes',\n",
       " 'arange',\n",
       " 'arccos',\n",
       " 'arccosh',\n",
       " 'arcsin',\n",
       " 'arcsinh',\n",
       " 'arctan',\n",
       " 'arctan2',\n",
       " 'arctanh',\n",
       " 'argmax',\n",
       " 'argmin',\n",
       " 'argpartition',\n",
       " 'argsort',\n",
       " 'argwhere',\n",
       " 'around',\n",
       " 'array',\n",
       " 'array2string',\n",
       " 'array_equal',\n",
       " 'array_equiv',\n",
       " 'array_repr',\n",
       " 'array_split',\n",
       " 'array_str',\n",
       " 'asanyarray',\n",
       " 'asarray',\n",
       " 'asarray_chkfinite',\n",
       " 'ascontiguousarray',\n",
       " 'asfarray',\n",
       " 'asfortranarray',\n",
       " 'asmatrix',\n",
       " 'atleast_1d',\n",
       " 'atleast_2d',\n",
       " 'atleast_3d',\n",
       " 'average',\n",
       " 'bartlett',\n",
       " 'base_repr',\n",
       " 'binary_repr',\n",
       " 'bincount',\n",
       " 'bitwise_and',\n",
       " 'bitwise_not',\n",
       " 'bitwise_or',\n",
       " 'bitwise_xor',\n",
       " 'blackman',\n",
       " 'block',\n",
       " 'bmat',\n",
       " 'bool_',\n",
       " 'broadcast',\n",
       " 'broadcast_arrays',\n",
       " 'broadcast_shapes',\n",
       " 'broadcast_to',\n",
       " 'busday_count',\n",
       " 'busday_offset',\n",
       " 'busdaycalendar',\n",
       " 'byte',\n",
       " 'byte_bounds',\n",
       " 'bytes_',\n",
       " 'c_',\n",
       " 'can_cast',\n",
       " 'cast',\n",
       " 'cbrt',\n",
       " 'cdouble',\n",
       " 'ceil',\n",
       " 'cfloat',\n",
       " 'char',\n",
       " 'character',\n",
       " 'chararray',\n",
       " 'choose',\n",
       " 'clip',\n",
       " 'clongdouble',\n",
       " 'clongfloat',\n",
       " 'column_stack',\n",
       " 'common_type',\n",
       " 'compare_chararrays',\n",
       " 'compat',\n",
       " 'complex128',\n",
       " 'complex64',\n",
       " 'complex_',\n",
       " 'complexfloating',\n",
       " 'compress',\n",
       " 'concatenate',\n",
       " 'conj',\n",
       " 'conjugate',\n",
       " 'convolve',\n",
       " 'copy',\n",
       " 'copysign',\n",
       " 'copyto',\n",
       " 'corrcoef',\n",
       " 'correlate',\n",
       " 'cos',\n",
       " 'cosh',\n",
       " 'count_nonzero',\n",
       " 'cov',\n",
       " 'cross',\n",
       " 'csingle',\n",
       " 'ctypeslib',\n",
       " 'cumprod',\n",
       " 'cumproduct',\n",
       " 'cumsum',\n",
       " 'datetime64',\n",
       " 'datetime_as_string',\n",
       " 'datetime_data',\n",
       " 'deg2rad',\n",
       " 'degrees',\n",
       " 'delete',\n",
       " 'deprecate',\n",
       " 'deprecate_with_doc',\n",
       " 'diag',\n",
       " 'diag_indices',\n",
       " 'diag_indices_from',\n",
       " 'diagflat',\n",
       " 'diagonal',\n",
       " 'diff',\n",
       " 'digitize',\n",
       " 'disp',\n",
       " 'divide',\n",
       " 'divmod',\n",
       " 'dot',\n",
       " 'double',\n",
       " 'dsplit',\n",
       " 'dstack',\n",
       " 'dtype',\n",
       " 'dtypes',\n",
       " 'e',\n",
       " 'ediff1d',\n",
       " 'einsum',\n",
       " 'einsum_path',\n",
       " 'emath',\n",
       " 'empty',\n",
       " 'empty_like',\n",
       " 'equal',\n",
       " 'errstate',\n",
       " 'euler_gamma',\n",
       " 'exceptions',\n",
       " 'exp',\n",
       " 'exp2',\n",
       " 'expand_dims',\n",
       " 'expm1',\n",
       " 'extract',\n",
       " 'eye',\n",
       " 'fabs',\n",
       " 'fastCopyAndTranspose',\n",
       " 'fft',\n",
       " 'fill_diagonal',\n",
       " 'find_common_type',\n",
       " 'finfo',\n",
       " 'fix',\n",
       " 'flatiter',\n",
       " 'flatnonzero',\n",
       " 'flexible',\n",
       " 'flip',\n",
       " 'fliplr',\n",
       " 'flipud',\n",
       " 'float16',\n",
       " 'float32',\n",
       " 'float64',\n",
       " 'float_',\n",
       " 'float_power',\n",
       " 'floating',\n",
       " 'floor',\n",
       " 'floor_divide',\n",
       " 'fmax',\n",
       " 'fmin',\n",
       " 'fmod',\n",
       " 'format_float_positional',\n",
       " 'format_float_scientific',\n",
       " 'format_parser',\n",
       " 'frexp',\n",
       " 'from_dlpack',\n",
       " 'frombuffer',\n",
       " 'fromfile',\n",
       " 'fromfunction',\n",
       " 'fromiter',\n",
       " 'frompyfunc',\n",
       " 'fromregex',\n",
       " 'fromstring',\n",
       " 'full',\n",
       " 'full_like',\n",
       " 'gcd',\n",
       " 'generic',\n",
       " 'genfromtxt',\n",
       " 'geomspace',\n",
       " 'get_array_wrap',\n",
       " 'get_include',\n",
       " 'get_printoptions',\n",
       " 'getbufsize',\n",
       " 'geterr',\n",
       " 'geterrcall',\n",
       " 'geterrobj',\n",
       " 'gradient',\n",
       " 'greater',\n",
       " 'greater_equal',\n",
       " 'half',\n",
       " 'hamming',\n",
       " 'hanning',\n",
       " 'heaviside',\n",
       " 'histogram',\n",
       " 'histogram2d',\n",
       " 'histogram_bin_edges',\n",
       " 'histogramdd',\n",
       " 'hsplit',\n",
       " 'hstack',\n",
       " 'hypot',\n",
       " 'i0',\n",
       " 'identity',\n",
       " 'iinfo',\n",
       " 'imag',\n",
       " 'in1d',\n",
       " 'index_exp',\n",
       " 'indices',\n",
       " 'inexact',\n",
       " 'inf',\n",
       " 'info',\n",
       " 'infty',\n",
       " 'inner',\n",
       " 'insert',\n",
       " 'int16',\n",
       " 'int32',\n",
       " 'int64',\n",
       " 'int8',\n",
       " 'int_',\n",
       " 'intc',\n",
       " 'integer',\n",
       " 'interp',\n",
       " 'intersect1d',\n",
       " 'intp',\n",
       " 'invert',\n",
       " 'is_busday',\n",
       " 'isclose',\n",
       " 'iscomplex',\n",
       " 'iscomplexobj',\n",
       " 'isfinite',\n",
       " 'isfortran',\n",
       " 'isin',\n",
       " 'isinf',\n",
       " 'isnan',\n",
       " 'isnat',\n",
       " 'isneginf',\n",
       " 'isposinf',\n",
       " 'isreal',\n",
       " 'isrealobj',\n",
       " 'isscalar',\n",
       " 'issctype',\n",
       " 'issubclass_',\n",
       " 'issubdtype',\n",
       " 'issubsctype',\n",
       " 'iterable',\n",
       " 'ix_',\n",
       " 'kaiser',\n",
       " 'kron',\n",
       " 'lcm',\n",
       " 'ldexp',\n",
       " 'left_shift',\n",
       " 'less',\n",
       " 'less_equal',\n",
       " 'lexsort',\n",
       " 'lib',\n",
       " 'linalg',\n",
       " 'linspace',\n",
       " 'little_endian',\n",
       " 'load',\n",
       " 'loadtxt',\n",
       " 'log',\n",
       " 'log10',\n",
       " 'log1p',\n",
       " 'log2',\n",
       " 'logaddexp',\n",
       " 'logaddexp2',\n",
       " 'logical_and',\n",
       " 'logical_not',\n",
       " 'logical_or',\n",
       " 'logical_xor',\n",
       " 'logspace',\n",
       " 'longcomplex',\n",
       " 'longdouble',\n",
       " 'longfloat',\n",
       " 'longlong',\n",
       " 'lookfor',\n",
       " 'ma',\n",
       " 'mask_indices',\n",
       " 'mat',\n",
       " 'matmul',\n",
       " 'matrix',\n",
       " 'max',\n",
       " 'maximum',\n",
       " 'maximum_sctype',\n",
       " 'may_share_memory',\n",
       " 'mean',\n",
       " 'median',\n",
       " 'memmap',\n",
       " 'meshgrid',\n",
       " 'mgrid',\n",
       " 'min',\n",
       " 'min_scalar_type',\n",
       " 'minimum',\n",
       " 'mintypecode',\n",
       " 'mod',\n",
       " 'modf',\n",
       " 'moveaxis',\n",
       " 'msort',\n",
       " 'multiply',\n",
       " 'nan',\n",
       " 'nan_to_num',\n",
       " 'nanargmax',\n",
       " 'nanargmin',\n",
       " 'nancumprod',\n",
       " 'nancumsum',\n",
       " 'nanmax',\n",
       " 'nanmean',\n",
       " 'nanmedian',\n",
       " 'nanmin',\n",
       " 'nanpercentile',\n",
       " 'nanprod',\n",
       " 'nanquantile',\n",
       " 'nanstd',\n",
       " 'nansum',\n",
       " 'nanvar',\n",
       " 'nbytes',\n",
       " 'ndarray',\n",
       " 'ndenumerate',\n",
       " 'ndim',\n",
       " 'ndindex',\n",
       " 'nditer',\n",
       " 'negative',\n",
       " 'nested_iters',\n",
       " 'newaxis',\n",
       " 'nextafter',\n",
       " 'nonzero',\n",
       " 'not_equal',\n",
       " 'numarray',\n",
       " 'number',\n",
       " 'obj2sctype',\n",
       " 'object_',\n",
       " 'ogrid',\n",
       " 'oldnumeric',\n",
       " 'ones',\n",
       " 'ones_like',\n",
       " 'outer',\n",
       " 'packbits',\n",
       " 'pad',\n",
       " 'partition',\n",
       " 'percentile',\n",
       " 'pi',\n",
       " 'piecewise',\n",
       " 'place',\n",
       " 'poly',\n",
       " 'poly1d',\n",
       " 'polyadd',\n",
       " 'polyder',\n",
       " 'polydiv',\n",
       " 'polyfit',\n",
       " 'polyint',\n",
       " 'polymul',\n",
       " 'polynomial',\n",
       " 'polysub',\n",
       " 'polyval',\n",
       " 'positive',\n",
       " 'power',\n",
       " 'printoptions',\n",
       " 'prod',\n",
       " 'product',\n",
       " 'promote_types',\n",
       " 'ptp',\n",
       " 'put',\n",
       " 'put_along_axis',\n",
       " 'putmask',\n",
       " 'quantile',\n",
       " 'r_',\n",
       " 'rad2deg',\n",
       " 'radians',\n",
       " 'random',\n",
       " 'ravel',\n",
       " 'ravel_multi_index',\n",
       " 'real',\n",
       " 'real_if_close',\n",
       " 'rec',\n",
       " 'recarray',\n",
       " 'recfromcsv',\n",
       " 'recfromtxt',\n",
       " 'reciprocal',\n",
       " 'record',\n",
       " 'remainder',\n",
       " 'repeat',\n",
       " 'require',\n",
       " 'reshape',\n",
       " 'resize',\n",
       " 'result_type',\n",
       " 'right_shift',\n",
       " 'rint',\n",
       " 'roll',\n",
       " 'rollaxis',\n",
       " 'roots',\n",
       " 'rot90',\n",
       " 'round',\n",
       " 'round_',\n",
       " 'row_stack',\n",
       " 's_',\n",
       " 'safe_eval',\n",
       " 'save',\n",
       " 'savetxt',\n",
       " 'savez',\n",
       " 'savez_compressed',\n",
       " 'sctype2char',\n",
       " 'sctypeDict',\n",
       " 'sctypes',\n",
       " 'searchsorted',\n",
       " 'select',\n",
       " 'set_numeric_ops',\n",
       " 'set_printoptions',\n",
       " 'set_string_function',\n",
       " 'setbufsize',\n",
       " 'setdiff1d',\n",
       " 'seterr',\n",
       " 'seterrcall',\n",
       " 'seterrobj',\n",
       " 'setxor1d',\n",
       " 'shape',\n",
       " 'shares_memory',\n",
       " 'short',\n",
       " 'show_config',\n",
       " 'show_runtime',\n",
       " 'sign',\n",
       " 'signbit',\n",
       " 'signedinteger',\n",
       " 'sin',\n",
       " 'sinc',\n",
       " 'single',\n",
       " 'singlecomplex',\n",
       " 'sinh',\n",
       " 'size',\n",
       " 'sometrue',\n",
       " 'sort',\n",
       " 'sort_complex',\n",
       " 'source',\n",
       " 'spacing',\n",
       " 'split',\n",
       " 'sqrt',\n",
       " 'square',\n",
       " 'squeeze',\n",
       " 'stack',\n",
       " 'std',\n",
       " 'str_',\n",
       " 'string_',\n",
       " 'subtract',\n",
       " 'sum',\n",
       " 'swapaxes',\n",
       " 'take',\n",
       " 'take_along_axis',\n",
       " 'tan',\n",
       " 'tanh',\n",
       " 'tensordot',\n",
       " 'test',\n",
       " 'testing',\n",
       " 'tile',\n",
       " 'timedelta64',\n",
       " 'trace',\n",
       " 'tracemalloc_domain',\n",
       " 'transpose',\n",
       " 'trapz',\n",
       " 'tri',\n",
       " 'tril',\n",
       " 'tril_indices',\n",
       " 'tril_indices_from',\n",
       " 'trim_zeros',\n",
       " 'triu',\n",
       " 'triu_indices',\n",
       " 'triu_indices_from',\n",
       " 'true_divide',\n",
       " 'trunc',\n",
       " 'typecodes',\n",
       " 'typename',\n",
       " 'ubyte',\n",
       " 'ufunc',\n",
       " 'uint',\n",
       " 'uint16',\n",
       " 'uint32',\n",
       " 'uint64',\n",
       " 'uint8',\n",
       " 'uintc',\n",
       " 'uintp',\n",
       " 'ulonglong',\n",
       " 'unicode_',\n",
       " 'union1d',\n",
       " 'unique',\n",
       " 'unpackbits',\n",
       " 'unravel_index',\n",
       " 'unsignedinteger',\n",
       " 'unwrap',\n",
       " 'ushort',\n",
       " 'vander',\n",
       " 'var',\n",
       " 'vdot',\n",
       " 'vectorize',\n",
       " 'version',\n",
       " 'void',\n",
       " 'vsplit',\n",
       " 'vstack',\n",
       " 'where',\n",
       " 'who',\n",
       " 'zeros',\n",
       " 'zeros_like']"
      ]
     },
     "execution_count": 27,
     "metadata": {},
     "output_type": "execute_result"
    }
   ],
   "source": [
    "dir(np)   # numpy version and the configuration"
   ]
  },
  {
   "cell_type": "markdown",
   "id": "f3bdc9aa-ea97-43cd-8ecf-904851947475",
   "metadata": {},
   "source": [
    "# MATPLOTLIB"
   ]
  },
  {
   "cell_type": "code",
   "execution_count": 28,
   "id": "130b3359-2bf9-41df-ba30-1e5797368081",
   "metadata": {},
   "outputs": [],
   "source": [
    "import matplotlib.pyplot as plt"
   ]
  },
  {
   "cell_type": "code",
   "execution_count": 29,
   "id": "b22dface-3915-47bf-9a55-a7865921ccb7",
   "metadata": {},
   "outputs": [],
   "source": [
    "x = [1,2,3,4,5,6]\n",
    "y = [20,40,60,40,20,0]"
   ]
  },
  {
   "cell_type": "code",
   "execution_count": 30,
   "id": "f9c85bca-ce4f-44c0-8763-d3a4791d8592",
   "metadata": {},
   "outputs": [
    {
     "data": {
      "image/png": "[encoded data removed]",
      "text/plain": [
       "<Figure size 640x480 with 1 Axes>"
      ]
     },
     "metadata": {},
     "output_type": "display_data"
    }
   ],
   "source": [
    "plt.plot(x,y)\n",
    "plt.show()"
   ]
  },
  {
   "cell_type": "code",
   "execution_count": 31,
   "id": "a9d5b460-476e-4817-9304-41bbb45f5630",
   "metadata": {},
   "outputs": [
    {
     "data": {
      "image/png": "[encoded data removed]",
      "text/plain": [
       "<Figure size 640x480 with 1 Axes>"
      ]
     },
     "metadata": {},
     "output_type": "display_data"
    }
   ],
   "source": [
    "plt.plot(x,y, color=\"red\")\n",
    "plt.show()"
   ]
  },
  {
   "cell_type": "code",
   "execution_count": 32,
   "id": "3062a995-077f-4af9-aa63-671f828e52a7",
   "metadata": {},
   "outputs": [
    {
     "data": {
      "image/png": "[encoded data removed]",
      "text/plain": [
       "<Figure size 640x480 with 1 Axes>"
      ]
     },
     "metadata": {},
     "output_type": "display_data"
    },
    {
     "data": {
      "image/png": "[encoded data removed]",
      "text/plain": [
       "<Figure size 640x480 with 1 Axes>"
      ]
     },
     "metadata": {},
     "output_type": "display_data"
    }
   ],
   "source": [
    "plt.plot(x,y, color=\"red\", linestyle=\"--\")\n",
    "plt.show()\n",
    "plt.plot(x,y, color=\"red\", linestyle=\"dotted\")\n",
    "plt.show()"
   ]
  },
  {
   "cell_type": "code",
   "execution_count": 33,
   "id": "6be207f9-c083-429a-8605-bf21a55ed68f",
   "metadata": {},
   "outputs": [
    {
     "data": {
      "image/png": "[encoded data removed]",
      "text/plain": [
       "<Figure size 640x480 with 1 Axes>"
      ]
     },
     "metadata": {},
     "output_type": "display_data"
    }
   ],
   "source": [
    "plt.plot(x,y, \"g+--\")\n",
    "plt.show()"
   ]
  },
  {
   "cell_type": "code",
   "execution_count": 34,
   "id": "afb9ef72-a453-4e57-a289-1ba5c2f49e5f",
   "metadata": {},
   "outputs": [
    {
     "data": {
      "image/png": "[encoded data removed]",
      "text/plain": [
       "<Figure size 640x480 with 1 Axes>"
      ]
     },
     "metadata": {},
     "output_type": "display_data"
    }
   ],
   "source": [
    "plt.plot(x,y, \"rs--\")\n",
    "plt.show()"
   ]
  },
  {
   "cell_type": "code",
   "execution_count": 35,
   "id": "ae65dc73-c203-4b6b-aab3-47af34fef7ca",
   "metadata": {},
   "outputs": [],
   "source": [
    "y1=[10,20,32,45,60,80]"
   ]
  },
  {
   "cell_type": "code",
   "execution_count": 36,
   "id": "61660b72-d346-4c53-a02d-4579af812dc8",
   "metadata": {},
   "outputs": [
    {
     "data": {
      "image/png": "[encoded data removed]",
      "text/plain": [
       "<Figure size 640x480 with 1 Axes>"
      ]
     },
     "metadata": {},
     "output_type": "display_data"
    }
   ],
   "source": [
    "plt.plot(x,y, \"r*--\")\n",
    "plt.plot(x,y1, \"gD\")\n",
    "plt.show()"
   ]
  },
  {
   "cell_type": "code",
   "execution_count": 37,
   "id": "ab577bc2-3863-48ec-bc27-434bccc2cb0d",
   "metadata": {},
   "outputs": [
    {
     "data": {
      "text/plain": [
       "<BarContainer object of 6 artists>"
      ]
     },
     "execution_count": 37,
     "metadata": {},
     "output_type": "execute_result"
    },
    {
     "data": {
      "image/png": "[encoded data removed]",
      "text/plain": [
       "<Figure size 640x480 with 1 Axes>"
      ]
     },
     "metadata": {},
     "output_type": "display_data"
    }
   ],
   "source": [
    "plt.bar(x,y)"
   ]
  },
  {
   "cell_type": "code",
   "execution_count": 38,
   "id": "e51b4d6c-6885-48e8-aa69-44bf0f94ea73",
   "metadata": {},
   "outputs": [
    {
     "data": {
      "text/plain": [
       "[<matplotlib.patches.Polygon at 0x22498395910>]"
      ]
     },
     "execution_count": 38,
     "metadata": {},
     "output_type": "execute_result"
    },
    {
     "data": {
      "image/png": "[encoded data removed]",
      "text/plain": [
       "<Figure size 640x480 with 1 Axes>"
      ]
     },
     "metadata": {},
     "output_type": "display_data"
    }
   ],
   "source": [
    "plt.fill(x,y)"
   ]
  },
  {
   "cell_type": "code",
   "execution_count": 39,
   "id": "01f278ac-a9b5-4313-8615-9c6946ded0e3",
   "metadata": {},
   "outputs": [
    {
     "data": {
      "text/plain": [
       "([<matplotlib.patches.Wedge at 0x22499d860c0>,\n",
       "  <matplotlib.patches.Wedge at 0x224983eb050>,\n",
       "  <matplotlib.patches.Wedge at 0x22499d860f0>,\n",
       "  <matplotlib.patches.Wedge at 0x22499d865a0>,\n",
       "  <matplotlib.patches.Wedge at 0x22499d86ab0>,\n",
       "  <matplotlib.patches.Wedge at 0x22499d86ed0>],\n",
       " [Text(1.087713908390803, 0.16394649582471824, ''),\n",
       "  Text(0.9088626448409262, 0.6196520740002058, ''),\n",
       "  Text(0.2447729879062314, 1.0724207124032321, ''),\n",
       "  Text(-0.8063571098828889, 0.7481899567231004, ''),\n",
       "  Text(-0.9088626013289132, -0.6196521378206009, ''),\n",
       "  Text(0.6858388884465332, -0.8600145458621175, '')])"
      ]
     },
     "execution_count": 39,
     "metadata": {},
     "output_type": "execute_result"
    },
    {
     "data": {
      "image/png": "[encoded data removed]",
      "text/plain": [
       "<Figure size 640x480 with 1 Axes>"
      ]
     },
     "metadata": {},
     "output_type": "display_data"
    }
   ],
   "source": [
    "plt.pie(x)"
   ]
  },
  {
   "cell_type": "markdown",
   "id": "8c10bc2d-8de2-40b4-b3c6-d32195933d1c",
   "metadata": {},
   "source": [
    "# Bar Plot"
   ]
  },
  {
   "cell_type": "code",
   "execution_count": 40,
   "id": "60d5c21c-9da5-4dd6-a0ae-640251a66aa3",
   "metadata": {},
   "outputs": [],
   "source": [
    "x = [\"python\",\"C\",\"Java\",\"C++\"]\n",
    "y = [85,70,60,82]\n",
    "c = [\"y\",\"r\",\"b\",\"g\"]"
   ]
  },
  {
   "cell_type": "code",
   "execution_count": 41,
   "id": "584dc1ee-ac06-4752-8f09-c6d8a533effa",
   "metadata": {},
   "outputs": [
    {
     "data": {
      "image/png": "[encoded data removed]",
      "text/plain": [
       "<Figure size 640x480 with 1 Axes>"
      ]
     },
     "metadata": {},
     "output_type": "display_data"
    }
   ],
   "source": [
    "plt.xlabel(\"Languages\", fontsize=15)\n",
    "plt.ylabel(\"Popularity\",fontsize=20)\n",
    "plt.title(\"Rainbow\", fontsize=30)\n",
    "plt.bar(x,y, width=0.4, color=c, align=\"center\", edgecolor=\"black\", linewidth=2.5, linestyle=\":\", alpha=0.7, label=[\"Scale\",\"b\",\"c\",\"d\"])\n",
    "plt.legend(loc=9)\n",
    "plt.show()"
   ]
  },
  {
   "cell_type": "code",
   "execution_count": 42,
   "id": "e483ab20-4987-45a3-a6b2-74f59c8e59fa",
   "metadata": {},
   "outputs": [],
   "source": [
    "x = [\"python\",\"C\",\"Java\",\"C++\"]\n",
    "y = [85,70,60,82]\n",
    "z = [20,30,40,50]\n",
    "width=0.4\n",
    "p = np.arange(len(x))\n",
    "p1 = [j+width for j in p]\n"
   ]
  },
  {
   "cell_type": "code",
   "execution_count": 43,
   "id": "95f73271-21b4-4a99-b030-49180939d6bd",
   "metadata": {},
   "outputs": [
    {
     "data": {
      "image/png": "[encoded data removed]",
      "text/plain": [
       "<Figure size 640x480 with 1 Axes>"
      ]
     },
     "metadata": {},
     "output_type": "display_data"
    }
   ],
   "source": [
    "plt.xlabel(\"Languages\", fontsize=15)\n",
    "plt.ylabel(\"Popularity\",fontsize=20)\n",
    "plt.title(\"Rainbow\", fontsize=30)\n",
    "plt.bar(p,y, width, color=\"r\", edgecolor=\"black\", linewidth=2.5, alpha=1, label=\"popularity\")\n",
    "plt.bar(p1,z, width, color=\"g\", edgecolor=\"black\", linewidth=2.5, alpha=1, label=\"popularity1\")\n",
    "plt.xticks(p+width/2,x)\n",
    "plt.legend(facecolor=\"skyblue\", framealpha=0.7, shadow=True)\n",
    "plt.show()"
   ]
  },
  {
   "cell_type": "markdown",
   "id": "768c1b02-fc6a-42d3-9f97-a64c0539c862",
   "metadata": {},
   "source": [
    "# Scatter plot"
   ]
  },
  {
   "cell_type": "code",
   "execution_count": 44,
   "id": "9eeb5bca-7f03-4560-8f3d-1eb67437dbc1",
   "metadata": {},
   "outputs": [
    {
     "data": {
      "text/plain": [
       "<function matplotlib.pyplot.show(close=None, block=None)>"
      ]
     },
     "execution_count": 44,
     "metadata": {},
     "output_type": "execute_result"
    },
    {
     "data": {
      "image/png": "[encoded data removed]",
      "text/plain": [
       "<Figure size 640x480 with 1 Axes>"
      ]
     },
     "metadata": {},
     "output_type": "display_data"
    }
   ],
   "source": [
    "x = [1,2,3,4,5,6]\n",
    "y = [2,4,1,5,3,8]\n",
    "np_size = np.array(y) * 100\n",
    "plt.title(\"scatterplot\", fontsize=20)\n",
    "plt.scatter(x,y, color=\"r\", s=np_size, marker=\"*\", edgecolor=\"black\", linewidth=2)\n",
    "plt.xlabel(\"Day\", fontsize=15)\n",
    "plt.ylabel(\"No.\", fontsize=15)\n",
    "plt.text(3,7,\"SWIMS\", fontsize=15, rotation=180)\n",
    "plt.show"
   ]
  },
  {
   "cell_type": "markdown",
   "id": "906f4d2e-fe5d-4bd7-8c2e-48077ab2f57e",
   "metadata": {},
   "source": [
    "# Histogram Plot"
   ]
  },
  {
   "cell_type": "code",
   "execution_count": 45,
   "id": "95793468-9643-4925-9443-50d2c189d574",
   "metadata": {},
   "outputs": [],
   "source": [
    "x= np.random.randint(10,60,50)\n",
    "l=[10,20,30,40,50,60]"
   ]
  },
  {
   "cell_type": "code",
   "execution_count": 46,
   "id": "57bf1bc6-8549-44a4-afab-5128ea81f27a",
   "metadata": {},
   "outputs": [
    {
     "data": {
      "image/png": "[encoded data removed]",
      "text/plain": [
       "<Figure size 640x480 with 1 Axes>"
      ]
     },
     "metadata": {},
     "output_type": "display_data"
    }
   ],
   "source": [
    "plt.hist(x, color=\"g\", bins=l, edgecolor=\"black\")\n",
    "plt.xlabel(\"Languages\", fontsize=15)\n",
    "plt.ylabel(\"Popularity\",fontsize=20)\n",
    "plt.title(\"Rainbow\", fontsize=30)\n",
    "plt.show()\n"
   ]
  },
  {
   "cell_type": "markdown",
   "id": "12c7d986-458e-4d3a-819c-0506f5352458",
   "metadata": {},
   "source": [
    "# PANDAS"
   ]
  },
  {
   "cell_type": "code",
   "execution_count": 47,
   "id": "34d0ccc2-c0b7-4998-8525-43d2d368c60e",
   "metadata": {},
   "outputs": [],
   "source": [
    "import pandas as pd"
   ]
  },
  {
   "cell_type": "code",
   "execution_count": 48,
   "id": "742e29d0-2f0a-4617-9bc1-27290266371f",
   "metadata": {},
   "outputs": [
    {
     "name": "stdout",
     "output_type": "stream",
     "text": [
      "['ArrowDtype', 'BooleanDtype', 'Categorical', 'CategoricalDtype', 'CategoricalIndex', 'DataFrame', 'DateOffset', 'DatetimeIndex', 'DatetimeTZDtype', 'ExcelFile', 'ExcelWriter', 'Flags', 'Float32Dtype', 'Float64Dtype', 'Grouper', 'HDFStore', 'Index', 'IndexSlice', 'Int16Dtype', 'Int32Dtype', 'Int64Dtype', 'Int8Dtype', 'Interval', 'IntervalDtype', 'IntervalIndex', 'MultiIndex', 'NA', 'NaT', 'NamedAgg', 'Period', 'PeriodDtype', 'PeriodIndex', 'RangeIndex', 'Series', 'SparseDtype', 'StringDtype', 'Timedelta', 'TimedeltaIndex', 'Timestamp', 'UInt16Dtype', 'UInt32Dtype', 'UInt64Dtype', 'UInt8Dtype', '__all__', '__builtins__', '__cached__', '__doc__', '__docformat__', '__file__', '__git_version__', '__loader__', '__name__', '__package__', '__path__', '__spec__', '__version__', '_built_with_meson', '_config', '_is_numpy_dev', '_libs', '_pandas_datetime_CAPI', '_pandas_parser_CAPI', '_testing', '_typing', '_version_meson', 'annotations', 'api', 'array', 'arrays', 'bdate_range', 'compat', 'concat', 'core', 'crosstab', 'cut', 'date_range', 'describe_option', 'errors', 'eval', 'factorize', 'from_dummies', 'get_dummies', 'get_option', 'infer_freq', 'interval_range', 'io', 'isna', 'isnull', 'json_normalize', 'lreshape', 'melt', 'merge', 'merge_asof', 'merge_ordered', 'notna', 'notnull', 'offsets', 'option_context', 'options', 'pandas', 'period_range', 'pivot', 'pivot_table', 'plotting', 'qcut', 'read_clipboard', 'read_csv', 'read_excel', 'read_feather', 'read_fwf', 'read_gbq', 'read_hdf', 'read_html', 'read_json', 'read_orc', 'read_parquet', 'read_pickle', 'read_sas', 'read_spss', 'read_sql', 'read_sql_query', 'read_sql_table', 'read_stata', 'read_table', 'read_xml', 'reset_option', 'set_eng_float_format', 'set_option', 'show_versions', 'test', 'testing', 'timedelta_range', 'to_datetime', 'to_numeric', 'to_pickle', 'to_timedelta', 'tseries', 'unique', 'util', 'value_counts', 'wide_to_long']\n"
     ]
    }
   ],
   "source": [
    "print(dir(pd))"
   ]
  },
  {
   "cell_type": "code",
   "execution_count": 49,
   "id": "29e0538a-3451-41e9-90cb-bdc1470fe472",
   "metadata": {},
   "outputs": [],
   "source": [
    "S = pd.Series([1,2,3,4])"
   ]
  },
  {
   "cell_type": "code",
   "execution_count": 50,
   "id": "e6dc0cb5-cb3a-4ff4-bc78-3e1f36d8e6fc",
   "metadata": {},
   "outputs": [
    {
     "data": {
      "text/plain": [
       "0    1\n",
       "1    2\n",
       "2    3\n",
       "3    4\n",
       "dtype: int64"
      ]
     },
     "execution_count": 50,
     "metadata": {},
     "output_type": "execute_result"
    }
   ],
   "source": [
    "S"
   ]
  },
  {
   "cell_type": "code",
   "execution_count": 51,
   "id": "b3127261-b889-4d46-88e0-7a29b78a1e42",
   "metadata": {},
   "outputs": [
    {
     "data": {
      "text/plain": [
       "RangeIndex(start=0, stop=4, step=1)"
      ]
     },
     "execution_count": 51,
     "metadata": {},
     "output_type": "execute_result"
    }
   ],
   "source": [
    "S.index"
   ]
  },
  {
   "cell_type": "code",
   "execution_count": 52,
   "id": "0a54b5db-211b-4b72-a9ae-205168c9c24e",
   "metadata": {},
   "outputs": [
    {
     "data": {
      "text/plain": [
       "array([1, 2, 3, 4], dtype=int64)"
      ]
     },
     "execution_count": 52,
     "metadata": {},
     "output_type": "execute_result"
    }
   ],
   "source": [
    "S.values"
   ]
  },
  {
   "cell_type": "code",
   "execution_count": 53,
   "id": "cfafc4aa-daf4-4ded-b8ce-d6a93cfcae26",
   "metadata": {},
   "outputs": [],
   "source": [
    "S = pd.Series([1,2,3,4], index=['a','b','c','d'])"
   ]
  },
  {
   "cell_type": "code",
   "execution_count": 54,
   "id": "fe2406ac-41c2-4792-9451-4f21f1d475a0",
   "metadata": {},
   "outputs": [
    {
     "data": {
      "text/plain": [
       "a    1\n",
       "b    2\n",
       "c    3\n",
       "d    4\n",
       "dtype: int64"
      ]
     },
     "execution_count": 54,
     "metadata": {},
     "output_type": "execute_result"
    }
   ],
   "source": [
    "S"
   ]
  },
  {
   "cell_type": "code",
   "execution_count": 55,
   "id": "89b9e95c-71b7-41d6-b0a4-f2136a4ad796",
   "metadata": {},
   "outputs": [],
   "source": [
    "S_dict = {\"USA\":[20000,25000,30000], \"India\":[10000,15000,20000], \"Japan\":[15000,20000,25000]}"
   ]
  },
  {
   "cell_type": "code",
   "execution_count": 56,
   "id": "774ca0c0-b466-4fc4-a909-8f14a8e8c5c8",
   "metadata": {},
   "outputs": [],
   "source": [
    "_ser = pd.Series(S_dict)"
   ]
  },
  {
   "cell_type": "code",
   "execution_count": 57,
   "id": "9b783f88-3ee1-4a7c-99a4-8a053254c635",
   "metadata": {},
   "outputs": [
    {
     "data": {
      "text/plain": [
       "USA      [20000, 25000, 30000]\n",
       "India    [10000, 15000, 20000]\n",
       "Japan    [15000, 20000, 25000]\n",
       "dtype: object"
      ]
     },
     "execution_count": 57,
     "metadata": {},
     "output_type": "execute_result"
    }
   ],
   "source": [
    "_ser"
   ]
  },
  {
   "cell_type": "code",
   "execution_count": 58,
   "id": "cdc86e4b-04a3-458d-abef-e1560b0d0008",
   "metadata": {},
   "outputs": [],
   "source": [
    "df = pd.DataFrame(S_dict)"
   ]
  },
  {
   "cell_type": "code",
   "execution_count": 59,
   "id": "16d380e4-fd39-4cea-8a64-45b9053a6cff",
   "metadata": {},
   "outputs": [
    {
     "data": {
      "text/html": [
       "<div>\n",
       "<style scoped>\n",
       "    .dataframe tbody tr th:only-of-type {\n",
       "        vertical-align: middle;\n",
       "    }\n",
       "\n",
       "    .dataframe tbody tr th {\n",
       "        vertical-align: top;\n",
       "    }\n",
       "\n",
       "    .dataframe thead th {\n",
       "        text-align: right;\n",
       "    }\n",
       "</style>\n",
       "<table border=\"1\" class=\"dataframe\">\n",
       "  <thead>\n",
       "    <tr style=\"text-align: right;\">\n",
       "      <th></th>\n",
       "      <th>USA</th>\n",
       "      <th>India</th>\n",
       "      <th>Japan</th>\n",
       "    </tr>\n",
       "  </thead>\n",
       "  <tbody>\n",
       "    <tr>\n",
       "      <th>0</th>\n",
       "      <td>20000</td>\n",
       "      <td>10000</td>\n",
       "      <td>15000</td>\n",
       "    </tr>\n",
       "    <tr>\n",
       "      <th>1</th>\n",
       "      <td>25000</td>\n",
       "      <td>15000</td>\n",
       "      <td>20000</td>\n",
       "    </tr>\n",
       "    <tr>\n",
       "      <th>2</th>\n",
       "      <td>30000</td>\n",
       "      <td>20000</td>\n",
       "      <td>25000</td>\n",
       "    </tr>\n",
       "  </tbody>\n",
       "</table>\n",
       "</div>"
      ],
      "text/plain": [
       "     USA  India  Japan\n",
       "0  20000  10000  15000\n",
       "1  25000  15000  20000\n",
       "2  30000  20000  25000"
      ]
     },
     "execution_count": 59,
     "metadata": {},
     "output_type": "execute_result"
    }
   ],
   "source": [
    "df"
   ]
  },
  {
   "cell_type": "code",
   "execution_count": 60,
   "id": "46c724ea-54f2-46ed-b091-3eb00c59d325",
   "metadata": {},
   "outputs": [
    {
     "data": {
      "text/plain": [
       "<bound method DataFrame.info of      USA  India  Japan\n",
       "0  20000  10000  15000\n",
       "1  25000  15000  20000\n",
       "2  30000  20000  25000>"
      ]
     },
     "execution_count": 60,
     "metadata": {},
     "output_type": "execute_result"
    }
   ],
   "source": [
    "df.info"
   ]
  },
  {
   "cell_type": "code",
   "execution_count": 61,
   "id": "7c50737f-9c4c-4ab2-b741-fe1e6a0ecef6",
   "metadata": {},
   "outputs": [
    {
     "name": "stderr",
     "output_type": "stream",
     "text": [
      "C:\\Users\\vijay\\AppData\\Local\\Temp\\ipykernel_16012\\1118058742.py:1: FutureWarning: ChainedAssignmentError: behaviour will change in pandas 3.0!\n",
      "You are setting values through chained assignment. Currently this works in certain cases, but when using Copy-on-Write (which will become the default behaviour in pandas 3.0) this will never work to update the original DataFrame or Series, because the intermediate object on which we are setting values will behave as a copy.\n",
      "A typical example is when you are setting values in a column of a DataFrame, like:\n",
      "\n",
      "df[\"col\"][row_indexer] = value\n",
      "\n",
      "Use `df.loc[row_indexer, \"col\"] = values` instead, to perform the assignment in a single step and ensure this keeps updating the original `df`.\n",
      "\n",
      "See the caveats in the documentation: https://pandas.pydata.org/pandas-docs/stable/user_guide/indexing.html#returning-a-view-versus-a-copy\n",
      "\n",
      "  df['USA'][0] = None\n"
     ]
    }
   ],
   "source": [
    "df['USA'][0] = None"
   ]
  },
  {
   "cell_type": "code",
   "execution_count": 62,
   "id": "24d1b7f1-1351-4a51-855f-e8da513711c3",
   "metadata": {},
   "outputs": [
    {
     "data": {
      "text/html": [
       "<div>\n",
       "<style scoped>\n",
       "    .dataframe tbody tr th:only-of-type {\n",
       "        vertical-align: middle;\n",
       "    }\n",
       "\n",
       "    .dataframe tbody tr th {\n",
       "        vertical-align: top;\n",
       "    }\n",
       "\n",
       "    .dataframe thead th {\n",
       "        text-align: right;\n",
       "    }\n",
       "</style>\n",
       "<table border=\"1\" class=\"dataframe\">\n",
       "  <thead>\n",
       "    <tr style=\"text-align: right;\">\n",
       "      <th></th>\n",
       "      <th>USA</th>\n",
       "      <th>India</th>\n",
       "      <th>Japan</th>\n",
       "    </tr>\n",
       "  </thead>\n",
       "  <tbody>\n",
       "    <tr>\n",
       "      <th>0</th>\n",
       "      <td>NaN</td>\n",
       "      <td>10000</td>\n",
       "      <td>15000</td>\n",
       "    </tr>\n",
       "    <tr>\n",
       "      <th>1</th>\n",
       "      <td>25000.0</td>\n",
       "      <td>15000</td>\n",
       "      <td>20000</td>\n",
       "    </tr>\n",
       "    <tr>\n",
       "      <th>2</th>\n",
       "      <td>30000.0</td>\n",
       "      <td>20000</td>\n",
       "      <td>25000</td>\n",
       "    </tr>\n",
       "  </tbody>\n",
       "</table>\n",
       "</div>"
      ],
      "text/plain": [
       "       USA  India  Japan\n",
       "0      NaN  10000  15000\n",
       "1  25000.0  15000  20000\n",
       "2  30000.0  20000  25000"
      ]
     },
     "execution_count": 62,
     "metadata": {},
     "output_type": "execute_result"
    }
   ],
   "source": [
    "df"
   ]
  },
  {
   "cell_type": "code",
   "execution_count": 63,
   "id": "faeee59f-79cb-4595-8d0d-f41de0b23359",
   "metadata": {},
   "outputs": [
    {
     "data": {
      "text/plain": [
       "<bound method DataFrame.info of        USA  India  Japan\n",
       "0      NaN  10000  15000\n",
       "1  25000.0  15000  20000\n",
       "2  30000.0  20000  25000>"
      ]
     },
     "execution_count": 63,
     "metadata": {},
     "output_type": "execute_result"
    }
   ],
   "source": [
    "df.info"
   ]
  },
  {
   "cell_type": "code",
   "execution_count": 64,
   "id": "26af2a74-7949-4c14-b994-4fae4b6df7e6",
   "metadata": {},
   "outputs": [],
   "source": [
    "df.fillna(df['USA'].median(), inplace = True)"
   ]
  },
  {
   "cell_type": "code",
   "execution_count": 65,
   "id": "47bfd2a6-5350-4707-8a69-d0162e8b14fb",
   "metadata": {},
   "outputs": [
    {
     "data": {
      "text/html": [
       "<div>\n",
       "<style scoped>\n",
       "    .dataframe tbody tr th:only-of-type {\n",
       "        vertical-align: middle;\n",
       "    }\n",
       "\n",
       "    .dataframe tbody tr th {\n",
       "        vertical-align: top;\n",
       "    }\n",
       "\n",
       "    .dataframe thead th {\n",
       "        text-align: right;\n",
       "    }\n",
       "</style>\n",
       "<table border=\"1\" class=\"dataframe\">\n",
       "  <thead>\n",
       "    <tr style=\"text-align: right;\">\n",
       "      <th></th>\n",
       "      <th>USA</th>\n",
       "      <th>India</th>\n",
       "      <th>Japan</th>\n",
       "    </tr>\n",
       "  </thead>\n",
       "  <tbody>\n",
       "    <tr>\n",
       "      <th>0</th>\n",
       "      <td>27500.0</td>\n",
       "      <td>10000</td>\n",
       "      <td>15000</td>\n",
       "    </tr>\n",
       "    <tr>\n",
       "      <th>1</th>\n",
       "      <td>25000.0</td>\n",
       "      <td>15000</td>\n",
       "      <td>20000</td>\n",
       "    </tr>\n",
       "    <tr>\n",
       "      <th>2</th>\n",
       "      <td>30000.0</td>\n",
       "      <td>20000</td>\n",
       "      <td>25000</td>\n",
       "    </tr>\n",
       "  </tbody>\n",
       "</table>\n",
       "</div>"
      ],
      "text/plain": [
       "       USA  India  Japan\n",
       "0  27500.0  10000  15000\n",
       "1  25000.0  15000  20000\n",
       "2  30000.0  20000  25000"
      ]
     },
     "execution_count": 65,
     "metadata": {},
     "output_type": "execute_result"
    }
   ],
   "source": [
    "df"
   ]
  },
  {
   "cell_type": "code",
   "execution_count": 66,
   "id": "31944299-a845-42fe-9174-1c842210e0c7",
   "metadata": {},
   "outputs": [
    {
     "data": {
      "text/plain": [
       "USA      0.0\n",
       "India    0.0\n",
       "Japan    0.0\n",
       "dtype: float64"
      ]
     },
     "execution_count": 66,
     "metadata": {},
     "output_type": "execute_result"
    }
   ],
   "source": [
    "df.isnull().mean()"
   ]
  },
  {
   "cell_type": "code",
   "execution_count": 67,
   "id": "a8cd9f0e-d574-4e1e-ba19-60d58a582f97",
   "metadata": {},
   "outputs": [],
   "source": [
    "#new format\n",
    "df.loc[0,'USA'] = None"
   ]
  },
  {
   "cell_type": "code",
   "execution_count": 68,
   "id": "deb7305d-3b28-421e-ae5d-14d879967f1b",
   "metadata": {},
   "outputs": [
    {
     "data": {
      "text/html": [
       "<div>\n",
       "<style scoped>\n",
       "    .dataframe tbody tr th:only-of-type {\n",
       "        vertical-align: middle;\n",
       "    }\n",
       "\n",
       "    .dataframe tbody tr th {\n",
       "        vertical-align: top;\n",
       "    }\n",
       "\n",
       "    .dataframe thead th {\n",
       "        text-align: right;\n",
       "    }\n",
       "</style>\n",
       "<table border=\"1\" class=\"dataframe\">\n",
       "  <thead>\n",
       "    <tr style=\"text-align: right;\">\n",
       "      <th></th>\n",
       "      <th>USA</th>\n",
       "      <th>India</th>\n",
       "      <th>Japan</th>\n",
       "    </tr>\n",
       "  </thead>\n",
       "  <tbody>\n",
       "    <tr>\n",
       "      <th>0</th>\n",
       "      <td>NaN</td>\n",
       "      <td>10000</td>\n",
       "      <td>15000</td>\n",
       "    </tr>\n",
       "    <tr>\n",
       "      <th>1</th>\n",
       "      <td>25000.0</td>\n",
       "      <td>15000</td>\n",
       "      <td>20000</td>\n",
       "    </tr>\n",
       "    <tr>\n",
       "      <th>2</th>\n",
       "      <td>30000.0</td>\n",
       "      <td>20000</td>\n",
       "      <td>25000</td>\n",
       "    </tr>\n",
       "  </tbody>\n",
       "</table>\n",
       "</div>"
      ],
      "text/plain": [
       "       USA  India  Japan\n",
       "0      NaN  10000  15000\n",
       "1  25000.0  15000  20000\n",
       "2  30000.0  20000  25000"
      ]
     },
     "execution_count": 68,
     "metadata": {},
     "output_type": "execute_result"
    }
   ],
   "source": [
    "df"
   ]
  },
  {
   "cell_type": "code",
   "execution_count": 69,
   "id": "07dc43ea-296d-45a4-a246-43a6c99dc40c",
   "metadata": {},
   "outputs": [
    {
     "data": {
      "text/plain": [
       "USA      1\n",
       "India    0\n",
       "Japan    0\n",
       "dtype: int64"
      ]
     },
     "execution_count": 69,
     "metadata": {},
     "output_type": "execute_result"
    }
   ],
   "source": [
    "#df.isnull().mean()  OR\n",
    "df.isnull().sum()"
   ]
  },
  {
   "cell_type": "code",
   "execution_count": 70,
   "id": "5758501c-d1c6-40db-b708-d6f0d657dc9e",
   "metadata": {},
   "outputs": [],
   "source": [
    "df.drop(('Japan'), inplace = True, axis = 1)"
   ]
  },
  {
   "cell_type": "code",
   "execution_count": 71,
   "id": "57a116c5-71c8-48f2-9891-9d39b31bee4b",
   "metadata": {},
   "outputs": [
    {
     "data": {
      "text/html": [
       "<div>\n",
       "<style scoped>\n",
       "    .dataframe tbody tr th:only-of-type {\n",
       "        vertical-align: middle;\n",
       "    }\n",
       "\n",
       "    .dataframe tbody tr th {\n",
       "        vertical-align: top;\n",
       "    }\n",
       "\n",
       "    .dataframe thead th {\n",
       "        text-align: right;\n",
       "    }\n",
       "</style>\n",
       "<table border=\"1\" class=\"dataframe\">\n",
       "  <thead>\n",
       "    <tr style=\"text-align: right;\">\n",
       "      <th></th>\n",
       "      <th>USA</th>\n",
       "      <th>India</th>\n",
       "    </tr>\n",
       "  </thead>\n",
       "  <tbody>\n",
       "    <tr>\n",
       "      <th>0</th>\n",
       "      <td>NaN</td>\n",
       "      <td>10000</td>\n",
       "    </tr>\n",
       "    <tr>\n",
       "      <th>1</th>\n",
       "      <td>25000.0</td>\n",
       "      <td>15000</td>\n",
       "    </tr>\n",
       "    <tr>\n",
       "      <th>2</th>\n",
       "      <td>30000.0</td>\n",
       "      <td>20000</td>\n",
       "    </tr>\n",
       "  </tbody>\n",
       "</table>\n",
       "</div>"
      ],
      "text/plain": [
       "       USA  India\n",
       "0      NaN  10000\n",
       "1  25000.0  15000\n",
       "2  30000.0  20000"
      ]
     },
     "execution_count": 71,
     "metadata": {},
     "output_type": "execute_result"
    }
   ],
   "source": [
    "df"
   ]
  },
  {
   "cell_type": "code",
   "execution_count": 72,
   "id": "9f2f0dfc-8807-4f89-949b-4b797cd41c60",
   "metadata": {},
   "outputs": [
    {
     "data": {
      "text/html": [
       "<div>\n",
       "<style scoped>\n",
       "    .dataframe tbody tr th:only-of-type {\n",
       "        vertical-align: middle;\n",
       "    }\n",
       "\n",
       "    .dataframe tbody tr th {\n",
       "        vertical-align: top;\n",
       "    }\n",
       "\n",
       "    .dataframe thead th {\n",
       "        text-align: right;\n",
       "    }\n",
       "</style>\n",
       "<table border=\"1\" class=\"dataframe\">\n",
       "  <thead>\n",
       "    <tr style=\"text-align: right;\">\n",
       "      <th></th>\n",
       "      <th>USA</th>\n",
       "      <th>India</th>\n",
       "    </tr>\n",
       "  </thead>\n",
       "  <tbody>\n",
       "    <tr>\n",
       "      <th>count</th>\n",
       "      <td>2.000000</td>\n",
       "      <td>3.0</td>\n",
       "    </tr>\n",
       "    <tr>\n",
       "      <th>mean</th>\n",
       "      <td>27500.000000</td>\n",
       "      <td>15000.0</td>\n",
       "    </tr>\n",
       "    <tr>\n",
       "      <th>std</th>\n",
       "      <td>3535.533906</td>\n",
       "      <td>5000.0</td>\n",
       "    </tr>\n",
       "    <tr>\n",
       "      <th>min</th>\n",
       "      <td>25000.000000</td>\n",
       "      <td>10000.0</td>\n",
       "    </tr>\n",
       "    <tr>\n",
       "      <th>25%</th>\n",
       "      <td>26250.000000</td>\n",
       "      <td>12500.0</td>\n",
       "    </tr>\n",
       "    <tr>\n",
       "      <th>50%</th>\n",
       "      <td>27500.000000</td>\n",
       "      <td>15000.0</td>\n",
       "    </tr>\n",
       "    <tr>\n",
       "      <th>75%</th>\n",
       "      <td>28750.000000</td>\n",
       "      <td>17500.0</td>\n",
       "    </tr>\n",
       "    <tr>\n",
       "      <th>max</th>\n",
       "      <td>30000.000000</td>\n",
       "      <td>20000.0</td>\n",
       "    </tr>\n",
       "  </tbody>\n",
       "</table>\n",
       "</div>"
      ],
      "text/plain": [
       "                USA    India\n",
       "count      2.000000      3.0\n",
       "mean   27500.000000  15000.0\n",
       "std     3535.533906   5000.0\n",
       "min    25000.000000  10000.0\n",
       "25%    26250.000000  12500.0\n",
       "50%    27500.000000  15000.0\n",
       "75%    28750.000000  17500.0\n",
       "max    30000.000000  20000.0"
      ]
     },
     "execution_count": 72,
     "metadata": {},
     "output_type": "execute_result"
    }
   ],
   "source": [
    "df.describe()"
   ]
  },
  {
   "cell_type": "code",
   "execution_count": 73,
   "id": "75a387bd-d207-46dc-8f21-ed350a534f56",
   "metadata": {},
   "outputs": [],
   "source": [
    "loans = pd.read_csv('loans.csv', index_col=\"client_id\")    # Make sure the file is in the same folder or give full address"
   ]
  },
  {
   "cell_type": "code",
   "execution_count": 74,
   "id": "25bf8071-672d-450c-b853-93799feb12c5",
   "metadata": {},
   "outputs": [
    {
     "data": {
      "text/html": [
       "<div>\n",
       "<style scoped>\n",
       "    .dataframe tbody tr th:only-of-type {\n",
       "        vertical-align: middle;\n",
       "    }\n",
       "\n",
       "    .dataframe tbody tr th {\n",
       "        vertical-align: top;\n",
       "    }\n",
       "\n",
       "    .dataframe thead th {\n",
       "        text-align: right;\n",
       "    }\n",
       "</style>\n",
       "<table border=\"1\" class=\"dataframe\">\n",
       "  <thead>\n",
       "    <tr style=\"text-align: right;\">\n",
       "      <th></th>\n",
       "      <th>loan_type</th>\n",
       "      <th>loan_amount</th>\n",
       "      <th>repaid</th>\n",
       "      <th>loan_id</th>\n",
       "      <th>loan_start</th>\n",
       "      <th>loan_end</th>\n",
       "      <th>rate</th>\n",
       "    </tr>\n",
       "    <tr>\n",
       "      <th>client_id</th>\n",
       "      <th></th>\n",
       "      <th></th>\n",
       "      <th></th>\n",
       "      <th></th>\n",
       "      <th></th>\n",
       "      <th></th>\n",
       "      <th></th>\n",
       "    </tr>\n",
       "  </thead>\n",
       "  <tbody>\n",
       "    <tr>\n",
       "      <th>46109</th>\n",
       "      <td>home</td>\n",
       "      <td>13672</td>\n",
       "      <td>0</td>\n",
       "      <td>10243</td>\n",
       "      <td>2002-04-16</td>\n",
       "      <td>2003-12-20</td>\n",
       "      <td>2.15</td>\n",
       "    </tr>\n",
       "    <tr>\n",
       "      <th>46109</th>\n",
       "      <td>credit</td>\n",
       "      <td>9794</td>\n",
       "      <td>0</td>\n",
       "      <td>10984</td>\n",
       "      <td>2003-10-21</td>\n",
       "      <td>2005-07-17</td>\n",
       "      <td>1.25</td>\n",
       "    </tr>\n",
       "    <tr>\n",
       "      <th>46109</th>\n",
       "      <td>home</td>\n",
       "      <td>12734</td>\n",
       "      <td>1</td>\n",
       "      <td>10990</td>\n",
       "      <td>2006-02-01</td>\n",
       "      <td>2007-07-05</td>\n",
       "      <td>0.68</td>\n",
       "    </tr>\n",
       "    <tr>\n",
       "      <th>46109</th>\n",
       "      <td>cash</td>\n",
       "      <td>12518</td>\n",
       "      <td>1</td>\n",
       "      <td>10596</td>\n",
       "      <td>2010-12-08</td>\n",
       "      <td>2013-05-05</td>\n",
       "      <td>1.24</td>\n",
       "    </tr>\n",
       "    <tr>\n",
       "      <th>46109</th>\n",
       "      <td>credit</td>\n",
       "      <td>14049</td>\n",
       "      <td>1</td>\n",
       "      <td>11415</td>\n",
       "      <td>2010-07-07</td>\n",
       "      <td>2012-05-21</td>\n",
       "      <td>3.13</td>\n",
       "    </tr>\n",
       "    <tr>\n",
       "      <th>...</th>\n",
       "      <td>...</td>\n",
       "      <td>...</td>\n",
       "      <td>...</td>\n",
       "      <td>...</td>\n",
       "      <td>...</td>\n",
       "      <td>...</td>\n",
       "      <td>...</td>\n",
       "    </tr>\n",
       "    <tr>\n",
       "      <th>26945</th>\n",
       "      <td>other</td>\n",
       "      <td>12963</td>\n",
       "      <td>0</td>\n",
       "      <td>10330</td>\n",
       "      <td>2001-11-26</td>\n",
       "      <td>2004-06-11</td>\n",
       "      <td>2.46</td>\n",
       "    </tr>\n",
       "    <tr>\n",
       "      <th>26945</th>\n",
       "      <td>credit</td>\n",
       "      <td>1728</td>\n",
       "      <td>1</td>\n",
       "      <td>10248</td>\n",
       "      <td>2004-01-27</td>\n",
       "      <td>2005-06-21</td>\n",
       "      <td>5.27</td>\n",
       "    </tr>\n",
       "    <tr>\n",
       "      <th>26945</th>\n",
       "      <td>other</td>\n",
       "      <td>9329</td>\n",
       "      <td>0</td>\n",
       "      <td>10154</td>\n",
       "      <td>2001-12-17</td>\n",
       "      <td>2004-07-22</td>\n",
       "      <td>5.65</td>\n",
       "    </tr>\n",
       "    <tr>\n",
       "      <th>26945</th>\n",
       "      <td>home</td>\n",
       "      <td>4197</td>\n",
       "      <td>0</td>\n",
       "      <td>10333</td>\n",
       "      <td>2003-10-16</td>\n",
       "      <td>2005-07-10</td>\n",
       "      <td>4.50</td>\n",
       "    </tr>\n",
       "    <tr>\n",
       "      <th>26945</th>\n",
       "      <td>home</td>\n",
       "      <td>3643</td>\n",
       "      <td>0</td>\n",
       "      <td>11434</td>\n",
       "      <td>2010-03-24</td>\n",
       "      <td>2011-12-22</td>\n",
       "      <td>0.13</td>\n",
       "    </tr>\n",
       "  </tbody>\n",
       "</table>\n",
       "<p>443 rows × 7 columns</p>\n",
       "</div>"
      ],
      "text/plain": [
       "          loan_type  loan_amount  repaid  loan_id  loan_start    loan_end  \\\n",
       "client_id                                                                   \n",
       "46109          home        13672       0    10243  2002-04-16  2003-12-20   \n",
       "46109        credit         9794       0    10984  2003-10-21  2005-07-17   \n",
       "46109          home        12734       1    10990  2006-02-01  2007-07-05   \n",
       "46109          cash        12518       1    10596  2010-12-08  2013-05-05   \n",
       "46109        credit        14049       1    11415  2010-07-07  2012-05-21   \n",
       "...             ...          ...     ...      ...         ...         ...   \n",
       "26945         other        12963       0    10330  2001-11-26  2004-06-11   \n",
       "26945        credit         1728       1    10248  2004-01-27  2005-06-21   \n",
       "26945         other         9329       0    10154  2001-12-17  2004-07-22   \n",
       "26945          home         4197       0    10333  2003-10-16  2005-07-10   \n",
       "26945          home         3643       0    11434  2010-03-24  2011-12-22   \n",
       "\n",
       "           rate  \n",
       "client_id        \n",
       "46109      2.15  \n",
       "46109      1.25  \n",
       "46109      0.68  \n",
       "46109      1.24  \n",
       "46109      3.13  \n",
       "...         ...  \n",
       "26945      2.46  \n",
       "26945      5.27  \n",
       "26945      5.65  \n",
       "26945      4.50  \n",
       "26945      0.13  \n",
       "\n",
       "[443 rows x 7 columns]"
      ]
     },
     "execution_count": 74,
     "metadata": {},
     "output_type": "execute_result"
    }
   ],
   "source": [
    "loans"
   ]
  },
  {
   "cell_type": "code",
   "execution_count": 75,
   "id": "e3f8ff69-46e3-44bd-946c-b0f5c2d1fa49",
   "metadata": {},
   "outputs": [
    {
     "data": {
      "text/html": [
       "<div>\n",
       "<style scoped>\n",
       "    .dataframe tbody tr th:only-of-type {\n",
       "        vertical-align: middle;\n",
       "    }\n",
       "\n",
       "    .dataframe tbody tr th {\n",
       "        vertical-align: top;\n",
       "    }\n",
       "\n",
       "    .dataframe thead th {\n",
       "        text-align: right;\n",
       "    }\n",
       "</style>\n",
       "<table border=\"1\" class=\"dataframe\">\n",
       "  <thead>\n",
       "    <tr style=\"text-align: right;\">\n",
       "      <th></th>\n",
       "      <th>loan_type</th>\n",
       "      <th>loan_amount</th>\n",
       "      <th>repaid</th>\n",
       "      <th>loan_id</th>\n",
       "      <th>loan_start</th>\n",
       "      <th>loan_end</th>\n",
       "      <th>rate</th>\n",
       "    </tr>\n",
       "    <tr>\n",
       "      <th>client_id</th>\n",
       "      <th></th>\n",
       "      <th></th>\n",
       "      <th></th>\n",
       "      <th></th>\n",
       "      <th></th>\n",
       "      <th></th>\n",
       "      <th></th>\n",
       "    </tr>\n",
       "  </thead>\n",
       "  <tbody>\n",
       "    <tr>\n",
       "      <th>46109</th>\n",
       "      <td>home</td>\n",
       "      <td>13672</td>\n",
       "      <td>0</td>\n",
       "      <td>10243</td>\n",
       "      <td>2002-04-16</td>\n",
       "      <td>2003-12-20</td>\n",
       "      <td>2.15</td>\n",
       "    </tr>\n",
       "    <tr>\n",
       "      <th>46109</th>\n",
       "      <td>credit</td>\n",
       "      <td>9794</td>\n",
       "      <td>0</td>\n",
       "      <td>10984</td>\n",
       "      <td>2003-10-21</td>\n",
       "      <td>2005-07-17</td>\n",
       "      <td>1.25</td>\n",
       "    </tr>\n",
       "    <tr>\n",
       "      <th>46109</th>\n",
       "      <td>home</td>\n",
       "      <td>12734</td>\n",
       "      <td>1</td>\n",
       "      <td>10990</td>\n",
       "      <td>2006-02-01</td>\n",
       "      <td>2007-07-05</td>\n",
       "      <td>0.68</td>\n",
       "    </tr>\n",
       "    <tr>\n",
       "      <th>46109</th>\n",
       "      <td>cash</td>\n",
       "      <td>12518</td>\n",
       "      <td>1</td>\n",
       "      <td>10596</td>\n",
       "      <td>2010-12-08</td>\n",
       "      <td>2013-05-05</td>\n",
       "      <td>1.24</td>\n",
       "    </tr>\n",
       "    <tr>\n",
       "      <th>46109</th>\n",
       "      <td>credit</td>\n",
       "      <td>14049</td>\n",
       "      <td>1</td>\n",
       "      <td>11415</td>\n",
       "      <td>2010-07-07</td>\n",
       "      <td>2012-05-21</td>\n",
       "      <td>3.13</td>\n",
       "    </tr>\n",
       "  </tbody>\n",
       "</table>\n",
       "</div>"
      ],
      "text/plain": [
       "          loan_type  loan_amount  repaid  loan_id  loan_start    loan_end  \\\n",
       "client_id                                                                   \n",
       "46109          home        13672       0    10243  2002-04-16  2003-12-20   \n",
       "46109        credit         9794       0    10984  2003-10-21  2005-07-17   \n",
       "46109          home        12734       1    10990  2006-02-01  2007-07-05   \n",
       "46109          cash        12518       1    10596  2010-12-08  2013-05-05   \n",
       "46109        credit        14049       1    11415  2010-07-07  2012-05-21   \n",
       "\n",
       "           rate  \n",
       "client_id        \n",
       "46109      2.15  \n",
       "46109      1.25  \n",
       "46109      0.68  \n",
       "46109      1.24  \n",
       "46109      3.13  "
      ]
     },
     "execution_count": 75,
     "metadata": {},
     "output_type": "execute_result"
    }
   ],
   "source": [
    "loans.head()"
   ]
  },
  {
   "cell_type": "code",
   "execution_count": 76,
   "id": "3e945256-f73e-4b66-9d02-988753d8ea3b",
   "metadata": {},
   "outputs": [
    {
     "data": {
      "text/html": [
       "<div>\n",
       "<style scoped>\n",
       "    .dataframe tbody tr th:only-of-type {\n",
       "        vertical-align: middle;\n",
       "    }\n",
       "\n",
       "    .dataframe tbody tr th {\n",
       "        vertical-align: top;\n",
       "    }\n",
       "\n",
       "    .dataframe thead th {\n",
       "        text-align: right;\n",
       "    }\n",
       "</style>\n",
       "<table border=\"1\" class=\"dataframe\">\n",
       "  <thead>\n",
       "    <tr style=\"text-align: right;\">\n",
       "      <th></th>\n",
       "      <th>loan_type</th>\n",
       "      <th>loan_amount</th>\n",
       "      <th>repaid</th>\n",
       "      <th>loan_id</th>\n",
       "      <th>loan_start</th>\n",
       "      <th>loan_end</th>\n",
       "      <th>rate</th>\n",
       "    </tr>\n",
       "    <tr>\n",
       "      <th>client_id</th>\n",
       "      <th></th>\n",
       "      <th></th>\n",
       "      <th></th>\n",
       "      <th></th>\n",
       "      <th></th>\n",
       "      <th></th>\n",
       "      <th></th>\n",
       "    </tr>\n",
       "  </thead>\n",
       "  <tbody>\n",
       "    <tr>\n",
       "      <th>26945</th>\n",
       "      <td>other</td>\n",
       "      <td>12963</td>\n",
       "      <td>0</td>\n",
       "      <td>10330</td>\n",
       "      <td>2001-11-26</td>\n",
       "      <td>2004-06-11</td>\n",
       "      <td>2.46</td>\n",
       "    </tr>\n",
       "    <tr>\n",
       "      <th>26945</th>\n",
       "      <td>credit</td>\n",
       "      <td>1728</td>\n",
       "      <td>1</td>\n",
       "      <td>10248</td>\n",
       "      <td>2004-01-27</td>\n",
       "      <td>2005-06-21</td>\n",
       "      <td>5.27</td>\n",
       "    </tr>\n",
       "    <tr>\n",
       "      <th>26945</th>\n",
       "      <td>other</td>\n",
       "      <td>9329</td>\n",
       "      <td>0</td>\n",
       "      <td>10154</td>\n",
       "      <td>2001-12-17</td>\n",
       "      <td>2004-07-22</td>\n",
       "      <td>5.65</td>\n",
       "    </tr>\n",
       "    <tr>\n",
       "      <th>26945</th>\n",
       "      <td>home</td>\n",
       "      <td>4197</td>\n",
       "      <td>0</td>\n",
       "      <td>10333</td>\n",
       "      <td>2003-10-16</td>\n",
       "      <td>2005-07-10</td>\n",
       "      <td>4.50</td>\n",
       "    </tr>\n",
       "    <tr>\n",
       "      <th>26945</th>\n",
       "      <td>home</td>\n",
       "      <td>3643</td>\n",
       "      <td>0</td>\n",
       "      <td>11434</td>\n",
       "      <td>2010-03-24</td>\n",
       "      <td>2011-12-22</td>\n",
       "      <td>0.13</td>\n",
       "    </tr>\n",
       "  </tbody>\n",
       "</table>\n",
       "</div>"
      ],
      "text/plain": [
       "          loan_type  loan_amount  repaid  loan_id  loan_start    loan_end  \\\n",
       "client_id                                                                   \n",
       "26945         other        12963       0    10330  2001-11-26  2004-06-11   \n",
       "26945        credit         1728       1    10248  2004-01-27  2005-06-21   \n",
       "26945         other         9329       0    10154  2001-12-17  2004-07-22   \n",
       "26945          home         4197       0    10333  2003-10-16  2005-07-10   \n",
       "26945          home         3643       0    11434  2010-03-24  2011-12-22   \n",
       "\n",
       "           rate  \n",
       "client_id        \n",
       "26945      2.46  \n",
       "26945      5.27  \n",
       "26945      5.65  \n",
       "26945      4.50  \n",
       "26945      0.13  "
      ]
     },
     "execution_count": 76,
     "metadata": {},
     "output_type": "execute_result"
    }
   ],
   "source": [
    "loans.tail()"
   ]
  },
  {
   "cell_type": "code",
   "execution_count": 77,
   "id": "5a460cb4-9903-422f-979b-d372b59a4877",
   "metadata": {},
   "outputs": [
    {
     "name": "stdout",
     "output_type": "stream",
     "text": [
      "<class 'pandas.core.frame.DataFrame'>\n",
      "Index: 443 entries, 46109 to 26945\n",
      "Data columns (total 7 columns):\n",
      " #   Column       Non-Null Count  Dtype  \n",
      "---  ------       --------------  -----  \n",
      " 0   loan_type    443 non-null    object \n",
      " 1   loan_amount  443 non-null    int64  \n",
      " 2   repaid       443 non-null    int64  \n",
      " 3   loan_id      443 non-null    int64  \n",
      " 4   loan_start   443 non-null    object \n",
      " 5   loan_end     443 non-null    object \n",
      " 6   rate         443 non-null    float64\n",
      "dtypes: float64(1), int64(3), object(3)\n",
      "memory usage: 27.7+ KB\n"
     ]
    }
   ],
   "source": [
    "loans.info()"
   ]
  },
  {
   "cell_type": "code",
   "execution_count": 78,
   "id": "2e6a7dd8-80a2-4f3f-8fea-b644b6369cf9",
   "metadata": {},
   "outputs": [
    {
     "data": {
      "text/plain": [
       "(443, 7)"
      ]
     },
     "execution_count": 78,
     "metadata": {},
     "output_type": "execute_result"
    }
   ],
   "source": [
    "loans.shape"
   ]
  },
  {
   "cell_type": "code",
   "execution_count": 79,
   "id": "0e5018fc-fb2c-4de1-98a9-ad6eebac2184",
   "metadata": {},
   "outputs": [],
   "source": [
    "loans[\"loan_id\"] = loans[\"loan_id\"].astype('object')"
   ]
  },
  {
   "cell_type": "code",
   "execution_count": 80,
   "id": "513dbf59-3509-4b13-83ae-5ad55e205a22",
   "metadata": {},
   "outputs": [],
   "source": [
    "loans[\"repaid\"] = loans[\"repaid\"].astype(\"category\")"
   ]
  },
  {
   "cell_type": "code",
   "execution_count": 81,
   "id": "de6deda1-3793-49bc-838a-72c7e9eb359e",
   "metadata": {},
   "outputs": [],
   "source": [
    "loans[\"loan_start\"] = pd.to_datetime(loans[\"loan_start\"], format='%Y-%m-%d')"
   ]
  },
  {
   "cell_type": "code",
   "execution_count": 82,
   "id": "50ea5613-1060-4ddf-ae1d-db6d46daa676",
   "metadata": {},
   "outputs": [],
   "source": [
    "loans[\"loan_end\"] = pd.to_datetime(loans[\"loan_end\"], format='%Y-%m-%d')"
   ]
  },
  {
   "cell_type": "code",
   "execution_count": 83,
   "id": "dfe8cbff-3ed7-460e-b34b-4c01286a249b",
   "metadata": {},
   "outputs": [
    {
     "data": {
      "text/html": [
       "<div>\n",
       "<style scoped>\n",
       "    .dataframe tbody tr th:only-of-type {\n",
       "        vertical-align: middle;\n",
       "    }\n",
       "\n",
       "    .dataframe tbody tr th {\n",
       "        vertical-align: top;\n",
       "    }\n",
       "\n",
       "    .dataframe thead th {\n",
       "        text-align: right;\n",
       "    }\n",
       "</style>\n",
       "<table border=\"1\" class=\"dataframe\">\n",
       "  <thead>\n",
       "    <tr style=\"text-align: right;\">\n",
       "      <th></th>\n",
       "      <th>loan_type</th>\n",
       "      <th>loan_amount</th>\n",
       "      <th>repaid</th>\n",
       "      <th>loan_id</th>\n",
       "      <th>loan_start</th>\n",
       "      <th>loan_end</th>\n",
       "      <th>rate</th>\n",
       "    </tr>\n",
       "    <tr>\n",
       "      <th>client_id</th>\n",
       "      <th></th>\n",
       "      <th></th>\n",
       "      <th></th>\n",
       "      <th></th>\n",
       "      <th></th>\n",
       "      <th></th>\n",
       "      <th></th>\n",
       "    </tr>\n",
       "  </thead>\n",
       "  <tbody>\n",
       "    <tr>\n",
       "      <th>46109</th>\n",
       "      <td>home</td>\n",
       "      <td>13672</td>\n",
       "      <td>0</td>\n",
       "      <td>10243</td>\n",
       "      <td>2002-04-16</td>\n",
       "      <td>2003-12-20</td>\n",
       "      <td>2.15</td>\n",
       "    </tr>\n",
       "    <tr>\n",
       "      <th>46109</th>\n",
       "      <td>credit</td>\n",
       "      <td>9794</td>\n",
       "      <td>0</td>\n",
       "      <td>10984</td>\n",
       "      <td>2003-10-21</td>\n",
       "      <td>2005-07-17</td>\n",
       "      <td>1.25</td>\n",
       "    </tr>\n",
       "    <tr>\n",
       "      <th>46109</th>\n",
       "      <td>home</td>\n",
       "      <td>12734</td>\n",
       "      <td>1</td>\n",
       "      <td>10990</td>\n",
       "      <td>2006-02-01</td>\n",
       "      <td>2007-07-05</td>\n",
       "      <td>0.68</td>\n",
       "    </tr>\n",
       "    <tr>\n",
       "      <th>46109</th>\n",
       "      <td>cash</td>\n",
       "      <td>12518</td>\n",
       "      <td>1</td>\n",
       "      <td>10596</td>\n",
       "      <td>2010-12-08</td>\n",
       "      <td>2013-05-05</td>\n",
       "      <td>1.24</td>\n",
       "    </tr>\n",
       "    <tr>\n",
       "      <th>46109</th>\n",
       "      <td>credit</td>\n",
       "      <td>14049</td>\n",
       "      <td>1</td>\n",
       "      <td>11415</td>\n",
       "      <td>2010-07-07</td>\n",
       "      <td>2012-05-21</td>\n",
       "      <td>3.13</td>\n",
       "    </tr>\n",
       "    <tr>\n",
       "      <th>...</th>\n",
       "      <td>...</td>\n",
       "      <td>...</td>\n",
       "      <td>...</td>\n",
       "      <td>...</td>\n",
       "      <td>...</td>\n",
       "      <td>...</td>\n",
       "      <td>...</td>\n",
       "    </tr>\n",
       "    <tr>\n",
       "      <th>26945</th>\n",
       "      <td>other</td>\n",
       "      <td>12963</td>\n",
       "      <td>0</td>\n",
       "      <td>10330</td>\n",
       "      <td>2001-11-26</td>\n",
       "      <td>2004-06-11</td>\n",
       "      <td>2.46</td>\n",
       "    </tr>\n",
       "    <tr>\n",
       "      <th>26945</th>\n",
       "      <td>credit</td>\n",
       "      <td>1728</td>\n",
       "      <td>1</td>\n",
       "      <td>10248</td>\n",
       "      <td>2004-01-27</td>\n",
       "      <td>2005-06-21</td>\n",
       "      <td>5.27</td>\n",
       "    </tr>\n",
       "    <tr>\n",
       "      <th>26945</th>\n",
       "      <td>other</td>\n",
       "      <td>9329</td>\n",
       "      <td>0</td>\n",
       "      <td>10154</td>\n",
       "      <td>2001-12-17</td>\n",
       "      <td>2004-07-22</td>\n",
       "      <td>5.65</td>\n",
       "    </tr>\n",
       "    <tr>\n",
       "      <th>26945</th>\n",
       "      <td>home</td>\n",
       "      <td>4197</td>\n",
       "      <td>0</td>\n",
       "      <td>10333</td>\n",
       "      <td>2003-10-16</td>\n",
       "      <td>2005-07-10</td>\n",
       "      <td>4.50</td>\n",
       "    </tr>\n",
       "    <tr>\n",
       "      <th>26945</th>\n",
       "      <td>home</td>\n",
       "      <td>3643</td>\n",
       "      <td>0</td>\n",
       "      <td>11434</td>\n",
       "      <td>2010-03-24</td>\n",
       "      <td>2011-12-22</td>\n",
       "      <td>0.13</td>\n",
       "    </tr>\n",
       "  </tbody>\n",
       "</table>\n",
       "<p>443 rows × 7 columns</p>\n",
       "</div>"
      ],
      "text/plain": [
       "          loan_type  loan_amount repaid loan_id loan_start   loan_end  rate\n",
       "client_id                                                                  \n",
       "46109          home        13672      0   10243 2002-04-16 2003-12-20  2.15\n",
       "46109        credit         9794      0   10984 2003-10-21 2005-07-17  1.25\n",
       "46109          home        12734      1   10990 2006-02-01 2007-07-05  0.68\n",
       "46109          cash        12518      1   10596 2010-12-08 2013-05-05  1.24\n",
       "46109        credit        14049      1   11415 2010-07-07 2012-05-21  3.13\n",
       "...             ...          ...    ...     ...        ...        ...   ...\n",
       "26945         other        12963      0   10330 2001-11-26 2004-06-11  2.46\n",
       "26945        credit         1728      1   10248 2004-01-27 2005-06-21  5.27\n",
       "26945         other         9329      0   10154 2001-12-17 2004-07-22  5.65\n",
       "26945          home         4197      0   10333 2003-10-16 2005-07-10  4.50\n",
       "26945          home         3643      0   11434 2010-03-24 2011-12-22  0.13\n",
       "\n",
       "[443 rows x 7 columns]"
      ]
     },
     "execution_count": 83,
     "metadata": {},
     "output_type": "execute_result"
    }
   ],
   "source": [
    "loans"
   ]
  },
  {
   "cell_type": "code",
   "execution_count": 84,
   "id": "f48872fb-b0a8-4fc0-937d-75444cd3c136",
   "metadata": {},
   "outputs": [
    {
     "name": "stdout",
     "output_type": "stream",
     "text": [
      "<class 'pandas.core.frame.DataFrame'>\n",
      "Index: 443 entries, 46109 to 26945\n",
      "Data columns (total 7 columns):\n",
      " #   Column       Non-Null Count  Dtype         \n",
      "---  ------       --------------  -----         \n",
      " 0   loan_type    443 non-null    object        \n",
      " 1   loan_amount  443 non-null    int64         \n",
      " 2   repaid       443 non-null    category      \n",
      " 3   loan_id      443 non-null    object        \n",
      " 4   loan_start   443 non-null    datetime64[ns]\n",
      " 5   loan_end     443 non-null    datetime64[ns]\n",
      " 6   rate         443 non-null    float64       \n",
      "dtypes: category(1), datetime64[ns](2), float64(1), int64(1), object(2)\n",
      "memory usage: 24.8+ KB\n"
     ]
    }
   ],
   "source": [
    "loans.info()"
   ]
  },
  {
   "cell_type": "code",
   "execution_count": 85,
   "id": "4f0f5a33-9b3b-47cf-bda2-887107dd5a0e",
   "metadata": {},
   "outputs": [
    {
     "data": {
      "text/plain": [
       "loan_type              object\n",
       "loan_amount             int64\n",
       "repaid               category\n",
       "loan_id                object\n",
       "loan_start     datetime64[ns]\n",
       "loan_end       datetime64[ns]\n",
       "rate                  float64\n",
       "dtype: object"
      ]
     },
     "execution_count": 85,
     "metadata": {},
     "output_type": "execute_result"
    }
   ],
   "source": [
    "loans.dtypes"
   ]
  },
  {
   "cell_type": "code",
   "execution_count": 86,
   "id": "3dec1084-4750-4308-836c-87448620080b",
   "metadata": {},
   "outputs": [
    {
     "data": {
      "text/html": [
       "<div>\n",
       "<style scoped>\n",
       "    .dataframe tbody tr th:only-of-type {\n",
       "        vertical-align: middle;\n",
       "    }\n",
       "\n",
       "    .dataframe tbody tr th {\n",
       "        vertical-align: top;\n",
       "    }\n",
       "\n",
       "    .dataframe thead th {\n",
       "        text-align: right;\n",
       "    }\n",
       "</style>\n",
       "<table border=\"1\" class=\"dataframe\">\n",
       "  <thead>\n",
       "    <tr style=\"text-align: right;\">\n",
       "      <th></th>\n",
       "      <th>loan_amount</th>\n",
       "      <th>loan_start</th>\n",
       "      <th>loan_end</th>\n",
       "      <th>rate</th>\n",
       "    </tr>\n",
       "  </thead>\n",
       "  <tbody>\n",
       "    <tr>\n",
       "      <th>count</th>\n",
       "      <td>443.000000</td>\n",
       "      <td>443</td>\n",
       "      <td>443</td>\n",
       "      <td>443.000000</td>\n",
       "    </tr>\n",
       "    <tr>\n",
       "      <th>mean</th>\n",
       "      <td>7982.311512</td>\n",
       "      <td>2007-08-02 12:56:53.092550912</td>\n",
       "      <td>2009-08-23 11:35:37.246049536</td>\n",
       "      <td>3.217156</td>\n",
       "    </tr>\n",
       "    <tr>\n",
       "      <th>min</th>\n",
       "      <td>559.000000</td>\n",
       "      <td>2000-01-26 00:00:00</td>\n",
       "      <td>2001-08-02 00:00:00</td>\n",
       "      <td>0.010000</td>\n",
       "    </tr>\n",
       "    <tr>\n",
       "      <th>25%</th>\n",
       "      <td>4232.500000</td>\n",
       "      <td>2003-10-19 00:00:00</td>\n",
       "      <td>2005-09-12 12:00:00</td>\n",
       "      <td>1.220000</td>\n",
       "    </tr>\n",
       "    <tr>\n",
       "      <th>50%</th>\n",
       "      <td>8320.000000</td>\n",
       "      <td>2007-03-10 00:00:00</td>\n",
       "      <td>2009-03-19 00:00:00</td>\n",
       "      <td>2.780000</td>\n",
       "    </tr>\n",
       "    <tr>\n",
       "      <th>75%</th>\n",
       "      <td>11739.000000</td>\n",
       "      <td>2011-07-31 00:00:00</td>\n",
       "      <td>2013-09-11 12:00:00</td>\n",
       "      <td>4.750000</td>\n",
       "    </tr>\n",
       "    <tr>\n",
       "      <th>max</th>\n",
       "      <td>14971.000000</td>\n",
       "      <td>2014-11-11 00:00:00</td>\n",
       "      <td>2017-05-07 00:00:00</td>\n",
       "      <td>12.620000</td>\n",
       "    </tr>\n",
       "    <tr>\n",
       "      <th>std</th>\n",
       "      <td>4172.891992</td>\n",
       "      <td>NaN</td>\n",
       "      <td>NaN</td>\n",
       "      <td>2.397168</td>\n",
       "    </tr>\n",
       "  </tbody>\n",
       "</table>\n",
       "</div>"
      ],
      "text/plain": [
       "        loan_amount                     loan_start  \\\n",
       "count    443.000000                            443   \n",
       "mean    7982.311512  2007-08-02 12:56:53.092550912   \n",
       "min      559.000000            2000-01-26 00:00:00   \n",
       "25%     4232.500000            2003-10-19 00:00:00   \n",
       "50%     8320.000000            2007-03-10 00:00:00   \n",
       "75%    11739.000000            2011-07-31 00:00:00   \n",
       "max    14971.000000            2014-11-11 00:00:00   \n",
       "std     4172.891992                            NaN   \n",
       "\n",
       "                            loan_end        rate  \n",
       "count                            443  443.000000  \n",
       "mean   2009-08-23 11:35:37.246049536    3.217156  \n",
       "min              2001-08-02 00:00:00    0.010000  \n",
       "25%              2005-09-12 12:00:00    1.220000  \n",
       "50%              2009-03-19 00:00:00    2.780000  \n",
       "75%              2013-09-11 12:00:00    4.750000  \n",
       "max              2017-05-07 00:00:00   12.620000  \n",
       "std                              NaN    2.397168  "
      ]
     },
     "execution_count": 86,
     "metadata": {},
     "output_type": "execute_result"
    }
   ],
   "source": [
    "loans.describe()"
   ]
  },
  {
   "cell_type": "code",
   "execution_count": 87,
   "id": "71697429-62a0-4b05-b6bd-b32c0f5b8e5f",
   "metadata": {},
   "outputs": [
    {
     "data": {
      "text/plain": [
       "loan_type      0\n",
       "loan_amount    0\n",
       "repaid         0\n",
       "loan_id        0\n",
       "loan_start     0\n",
       "loan_end       0\n",
       "rate           0\n",
       "dtype: int64"
      ]
     },
     "execution_count": 87,
     "metadata": {},
     "output_type": "execute_result"
    }
   ],
   "source": [
    "loans.isnull().sum()"
   ]
  },
  {
   "cell_type": "code",
   "execution_count": 88,
   "id": "9a2550da-bc84-40ab-a6d9-c6f03b7c37ed",
   "metadata": {},
   "outputs": [],
   "source": [
    "from sklearn.datasets import make_blobs\n",
    "import numpy as np\n",
    "import matplotlib.pyplot as plt"
   ]
  },
  {
   "cell_type": "code",
   "execution_count": 89,
   "id": "f5d4c45f-84d7-4a77-ba0d-95e7b159418e",
   "metadata": {},
   "outputs": [],
   "source": [
    "x,y = make_blobs(n_samples= 1000, centers = 10, random_state = 10)\n",
    "labels = ['b','r']"
   ]
  },
  {
   "cell_type": "code",
   "execution_count": 90,
   "id": "15140f86-b956-48fb-835f-75d5c21f094e",
   "metadata": {},
   "outputs": [
    {
     "data": {
      "text/plain": [
       "(array([[-6.09934226,  5.42784246],\n",
       "        [ 7.66002897,  5.10302135],\n",
       "        [ 8.47927248,  5.27419528],\n",
       "        ...,\n",
       "        [-6.18228514,  5.12813368],\n",
       "        [-0.35088249, -5.00317212],\n",
       "        [ 4.78829924, -3.99414847]]),\n",
       " array([3, 9, 9, 5, 3, 1, 3, 4, 9, 8, 7, 3, 1, 6, 3, 6, 5, 3, 1, 9, 7, 5,\n",
       "        8, 2, 7, 8, 8, 4, 5, 9, 9, 1, 2, 9, 7, 7, 0, 1, 0, 3, 9, 9, 2, 9,\n",
       "        9, 5, 9, 8, 6, 2, 1, 5, 9, 5, 7, 5, 3, 0, 0, 8, 7, 0, 7, 1, 6, 6,\n",
       "        3, 3, 5, 5, 9, 8, 4, 6, 7, 0, 7, 1, 0, 9, 6, 4, 1, 4, 7, 5, 4, 6,\n",
       "        6, 4, 9, 2, 7, 4, 7, 1, 8, 9, 5, 8, 1, 6, 3, 1, 1, 0, 1, 8, 7, 6,\n",
       "        6, 1, 0, 7, 5, 0, 5, 4, 5, 1, 3, 1, 9, 2, 6, 5, 2, 0, 1, 0, 7, 9,\n",
       "        8, 0, 2, 0, 3, 8, 3, 5, 3, 7, 0, 6, 1, 8, 7, 6, 9, 0, 5, 6, 9, 6,\n",
       "        5, 5, 4, 7, 6, 6, 8, 8, 0, 1, 2, 2, 9, 9, 9, 1, 5, 9, 5, 9, 8, 7,\n",
       "        9, 1, 8, 6, 8, 7, 7, 6, 3, 7, 8, 4, 6, 3, 4, 6, 0, 6, 4, 4, 9, 9,\n",
       "        4, 1, 6, 8, 3, 0, 7, 0, 4, 1, 7, 7, 0, 7, 5, 8, 9, 1, 9, 7, 4, 3,\n",
       "        8, 8, 2, 8, 4, 8, 6, 0, 1, 4, 1, 2, 9, 2, 5, 8, 7, 3, 5, 5, 2, 5,\n",
       "        1, 5, 3, 1, 0, 4, 7, 4, 3, 0, 4, 9, 6, 6, 5, 1, 2, 1, 4, 8, 0, 8,\n",
       "        5, 3, 1, 4, 2, 9, 8, 3, 2, 9, 7, 3, 3, 1, 4, 6, 6, 5, 3, 2, 2, 6,\n",
       "        7, 8, 1, 7, 0, 7, 1, 1, 5, 7, 1, 0, 1, 9, 7, 4, 2, 4, 4, 0, 9, 3,\n",
       "        4, 8, 2, 2, 0, 2, 7, 9, 8, 6, 4, 6, 8, 8, 0, 1, 9, 5, 1, 5, 1, 3,\n",
       "        1, 0, 7, 7, 2, 0, 4, 2, 0, 8, 1, 0, 7, 7, 1, 6, 4, 7, 9, 9, 2, 6,\n",
       "        2, 6, 8, 2, 9, 4, 7, 2, 7, 0, 2, 0, 5, 0, 6, 0, 3, 6, 4, 4, 0, 4,\n",
       "        4, 9, 0, 4, 0, 1, 2, 6, 3, 4, 9, 4, 8, 1, 4, 7, 9, 7, 2, 2, 0, 5,\n",
       "        7, 9, 3, 5, 6, 5, 8, 1, 6, 4, 5, 6, 2, 4, 1, 8, 0, 0, 6, 6, 5, 6,\n",
       "        4, 3, 2, 7, 0, 2, 8, 6, 5, 1, 9, 8, 2, 4, 5, 5, 6, 2, 8, 9, 9, 0,\n",
       "        6, 7, 5, 7, 0, 1, 7, 9, 9, 1, 2, 0, 0, 3, 6, 2, 8, 0, 8, 2, 4, 6,\n",
       "        7, 5, 7, 2, 8, 2, 0, 3, 6, 8, 9, 8, 8, 8, 2, 6, 1, 0, 4, 3, 3, 4,\n",
       "        0, 3, 6, 5, 3, 4, 7, 1, 3, 5, 3, 2, 4, 1, 8, 6, 0, 2, 7, 6, 3, 7,\n",
       "        5, 7, 9, 0, 9, 7, 2, 0, 2, 1, 6, 5, 0, 2, 9, 2, 3, 1, 9, 5, 2, 7,\n",
       "        9, 2, 9, 0, 5, 7, 0, 8, 4, 3, 4, 3, 0, 0, 2, 4, 8, 5, 4, 9, 4, 7,\n",
       "        7, 4, 1, 3, 8, 7, 2, 0, 4, 9, 4, 6, 8, 5, 6, 9, 9, 5, 6, 6, 8, 6,\n",
       "        1, 9, 4, 5, 5, 8, 1, 9, 9, 4, 9, 2, 2, 8, 2, 3, 5, 1, 1, 9, 1, 5,\n",
       "        3, 3, 3, 5, 6, 8, 0, 0, 8, 0, 8, 8, 8, 5, 5, 3, 8, 4, 0, 4, 7, 2,\n",
       "        0, 1, 3, 4, 5, 4, 4, 4, 2, 7, 8, 7, 7, 8, 3, 6, 2, 5, 5, 1, 1, 7,\n",
       "        9, 6, 3, 9, 5, 9, 3, 3, 6, 2, 8, 7, 0, 2, 7, 4, 7, 9, 1, 4, 2, 2,\n",
       "        9, 5, 6, 6, 4, 3, 6, 1, 6, 2, 4, 2, 4, 3, 2, 1, 7, 8, 5, 9, 7, 5,\n",
       "        3, 7, 7, 3, 6, 1, 4, 0, 3, 2, 6, 9, 9, 7, 7, 3, 9, 8, 7, 8, 3, 2,\n",
       "        5, 4, 5, 5, 0, 6, 6, 9, 5, 0, 8, 7, 6, 2, 2, 5, 8, 4, 2, 0, 2, 0,\n",
       "        0, 1, 0, 6, 0, 9, 4, 1, 0, 3, 9, 8, 8, 8, 3, 6, 2, 5, 3, 4, 9, 4,\n",
       "        8, 3, 9, 4, 4, 5, 5, 3, 0, 4, 8, 0, 7, 1, 5, 2, 2, 2, 8, 4, 0, 3,\n",
       "        2, 6, 3, 1, 4, 7, 9, 8, 1, 4, 0, 6, 1, 6, 3, 1, 2, 5, 2, 3, 6, 5,\n",
       "        3, 5, 1, 8, 5, 1, 8, 0, 0, 7, 3, 8, 5, 0, 5, 3, 4, 9, 5, 9, 3, 9,\n",
       "        6, 5, 6, 5, 2, 8, 1, 9, 8, 3, 9, 2, 7, 4, 6, 8, 6, 5, 8, 8, 1, 4,\n",
       "        0, 3, 1, 9, 6, 4, 0, 6, 3, 2, 1, 1, 5, 9, 5, 0, 6, 4, 7, 4, 1, 4,\n",
       "        2, 4, 0, 4, 1, 3, 3, 8, 9, 1, 6, 2, 3, 0, 7, 6, 8, 7, 3, 8, 0, 7,\n",
       "        7, 1, 4, 9, 2, 0, 1, 5, 0, 1, 6, 0, 9, 3, 1, 6, 9, 6, 8, 6, 2, 7,\n",
       "        5, 3, 3, 7, 9, 2, 8, 0, 0, 3, 5, 9, 2, 2, 1, 3, 5, 1, 7, 7, 7, 2,\n",
       "        5, 4, 0, 1, 1, 3, 4, 8, 6, 3, 3, 9, 7, 7, 3, 0, 3, 6, 9, 6, 2, 0,\n",
       "        7, 3, 3, 3, 5, 1, 7, 5, 4, 2, 2, 4, 2, 2, 1, 7, 8, 9, 1, 6, 0, 5,\n",
       "        5, 3, 7, 4, 0, 1, 1, 8, 5, 7, 2, 2, 5, 2, 9, 8, 4, 8, 8, 8, 1, 6,\n",
       "        6, 4, 9, 3, 3, 6, 8, 3, 2, 8]))"
      ]
     },
     "execution_count": 90,
     "metadata": {},
     "output_type": "execute_result"
    }
   ],
   "source": [
    "x,y"
   ]
  },
  {
   "cell_type": "code",
   "execution_count": 91,
   "id": "4c5fe704-5cff-48ff-b395-f1dd11e415e0",
   "metadata": {},
   "outputs": [],
   "source": [
    "y = np.take(labels, (y<5))"
   ]
  },
  {
   "cell_type": "code",
   "execution_count": 92,
   "id": "6e18f849-9f94-456c-a2f9-b69252e81d46",
   "metadata": {},
   "outputs": [
    {
     "data": {
      "text/plain": [
       "array(['r', 'b', 'b', 'b', 'r', 'r', 'r', 'r', 'b', 'b', 'b', 'r', 'r',\n",
       "       'b', 'r', 'b', 'b', 'r', 'r', 'b', 'b', 'b', 'b', 'r', 'b', 'b',\n",
       "       'b', 'r', 'b', 'b', 'b', 'r', 'r', 'b', 'b', 'b', 'r', 'r', 'r',\n",
       "       'r', 'b', 'b', 'r', 'b', 'b', 'b', 'b', 'b', 'b', 'r', 'r', 'b',\n",
       "       'b', 'b', 'b', 'b', 'r', 'r', 'r', 'b', 'b', 'r', 'b', 'r', 'b',\n",
       "       'b', 'r', 'r', 'b', 'b', 'b', 'b', 'r', 'b', 'b', 'r', 'b', 'r',\n",
       "       'r', 'b', 'b', 'r', 'r', 'r', 'b', 'b', 'r', 'b', 'b', 'r', 'b',\n",
       "       'r', 'b', 'r', 'b', 'r', 'b', 'b', 'b', 'b', 'r', 'b', 'r', 'r',\n",
       "       'r', 'r', 'r', 'b', 'b', 'b', 'b', 'r', 'r', 'b', 'b', 'r', 'b',\n",
       "       'r', 'b', 'r', 'r', 'r', 'b', 'r', 'b', 'b', 'r', 'r', 'r', 'r',\n",
       "       'b', 'b', 'b', 'r', 'r', 'r', 'r', 'b', 'r', 'b', 'r', 'b', 'r',\n",
       "       'b', 'r', 'b', 'b', 'b', 'b', 'r', 'b', 'b', 'b', 'b', 'b', 'b',\n",
       "       'r', 'b', 'b', 'b', 'b', 'b', 'r', 'r', 'r', 'r', 'b', 'b', 'b',\n",
       "       'r', 'b', 'b', 'b', 'b', 'b', 'b', 'b', 'r', 'b', 'b', 'b', 'b',\n",
       "       'b', 'b', 'r', 'b', 'b', 'r', 'b', 'r', 'r', 'b', 'r', 'b', 'r',\n",
       "       'r', 'b', 'b', 'r', 'r', 'b', 'b', 'r', 'r', 'b', 'r', 'r', 'r',\n",
       "       'b', 'b', 'r', 'b', 'b', 'b', 'b', 'r', 'b', 'b', 'r', 'r', 'b',\n",
       "       'b', 'r', 'b', 'r', 'b', 'b', 'r', 'r', 'r', 'r', 'r', 'b', 'r',\n",
       "       'b', 'b', 'b', 'r', 'b', 'b', 'r', 'b', 'r', 'b', 'r', 'r', 'r',\n",
       "       'r', 'b', 'r', 'r', 'r', 'r', 'b', 'b', 'b', 'b', 'r', 'r', 'r',\n",
       "       'r', 'b', 'r', 'b', 'b', 'r', 'r', 'r', 'r', 'b', 'b', 'r', 'r',\n",
       "       'b', 'b', 'r', 'r', 'r', 'r', 'b', 'b', 'b', 'r', 'r', 'r', 'b',\n",
       "       'b', 'b', 'r', 'b', 'r', 'b', 'r', 'r', 'b', 'b', 'r', 'r', 'r',\n",
       "       'b', 'b', 'r', 'r', 'r', 'r', 'r', 'b', 'r', 'r', 'b', 'r', 'r',\n",
       "       'r', 'r', 'b', 'b', 'b', 'b', 'r', 'b', 'b', 'b', 'r', 'r', 'b',\n",
       "       'b', 'r', 'b', 'r', 'r', 'r', 'r', 'b', 'b', 'r', 'r', 'r', 'r',\n",
       "       'r', 'b', 'r', 'r', 'b', 'b', 'r', 'b', 'r', 'b', 'b', 'b', 'r',\n",
       "       'b', 'r', 'b', 'b', 'r', 'b', 'r', 'b', 'r', 'b', 'r', 'r', 'r',\n",
       "       'b', 'r', 'b', 'r', 'r', 'b', 'r', 'r', 'r', 'r', 'r', 'b', 'r',\n",
       "       'r', 'r', 'r', 'r', 'b', 'r', 'r', 'b', 'r', 'b', 'r', 'r', 'b',\n",
       "       'b', 'b', 'r', 'r', 'r', 'b', 'b', 'b', 'r', 'b', 'b', 'b', 'b',\n",
       "       'r', 'b', 'r', 'b', 'b', 'r', 'r', 'r', 'b', 'r', 'r', 'b', 'b',\n",
       "       'b', 'b', 'r', 'r', 'r', 'b', 'r', 'r', 'b', 'b', 'b', 'r', 'b',\n",
       "       'b', 'r', 'r', 'b', 'b', 'b', 'r', 'b', 'b', 'b', 'r', 'b', 'b',\n",
       "       'b', 'b', 'r', 'r', 'b', 'b', 'b', 'r', 'r', 'r', 'r', 'r', 'b',\n",
       "       'r', 'b', 'r', 'b', 'r', 'r', 'b', 'b', 'b', 'b', 'r', 'b', 'r',\n",
       "       'r', 'r', 'b', 'b', 'b', 'b', 'b', 'b', 'r', 'b', 'r', 'r', 'r',\n",
       "       'r', 'r', 'r', 'r', 'r', 'b', 'b', 'r', 'r', 'b', 'r', 'r', 'b',\n",
       "       'r', 'r', 'r', 'r', 'b', 'b', 'r', 'r', 'b', 'b', 'r', 'b', 'b',\n",
       "       'b', 'b', 'r', 'b', 'b', 'r', 'r', 'r', 'r', 'b', 'b', 'r', 'r',\n",
       "       'b', 'r', 'r', 'r', 'b', 'b', 'r', 'b', 'b', 'r', 'b', 'r', 'b',\n",
       "       'b', 'r', 'b', 'r', 'r', 'r', 'r', 'r', 'r', 'r', 'r', 'b', 'b',\n",
       "       'r', 'b', 'r', 'b', 'b', 'r', 'r', 'r', 'b', 'b', 'r', 'r', 'r',\n",
       "       'b', 'r', 'b', 'b', 'b', 'b', 'b', 'b', 'b', 'b', 'b', 'b', 'b',\n",
       "       'r', 'b', 'r', 'b', 'b', 'b', 'r', 'b', 'b', 'r', 'b', 'r', 'r',\n",
       "       'b', 'r', 'r', 'b', 'r', 'r', 'b', 'r', 'b', 'r', 'r', 'r', 'b',\n",
       "       'b', 'b', 'r', 'r', 'b', 'r', 'b', 'b', 'b', 'b', 'b', 'r', 'b',\n",
       "       'r', 'r', 'r', 'b', 'r', 'r', 'r', 'r', 'r', 'b', 'r', 'r', 'r',\n",
       "       'r', 'b', 'b', 'b', 'b', 'b', 'r', 'b', 'r', 'b', 'b', 'r', 'r',\n",
       "       'b', 'b', 'b', 'r', 'b', 'b', 'b', 'r', 'r', 'b', 'r', 'b', 'b',\n",
       "       'r', 'r', 'b', 'r', 'b', 'b', 'r', 'r', 'r', 'r', 'b', 'b', 'b',\n",
       "       'b', 'r', 'r', 'b', 'r', 'b', 'r', 'r', 'r', 'r', 'r', 'r', 'r',\n",
       "       'b', 'b', 'b', 'b', 'b', 'b', 'r', 'b', 'b', 'r', 'b', 'r', 'r',\n",
       "       'r', 'r', 'r', 'b', 'b', 'b', 'b', 'b', 'r', 'b', 'b', 'b', 'b',\n",
       "       'r', 'r', 'b', 'r', 'b', 'b', 'r', 'b', 'b', 'b', 'b', 'r', 'b',\n",
       "       'b', 'b', 'r', 'r', 'b', 'b', 'r', 'r', 'r', 'r', 'r', 'r', 'r',\n",
       "       'r', 'b', 'r', 'b', 'r', 'r', 'r', 'r', 'b', 'b', 'b', 'b', 'r',\n",
       "       'b', 'r', 'b', 'r', 'r', 'b', 'r', 'b', 'r', 'b', 'r', 'r', 'b',\n",
       "       'b', 'r', 'r', 'r', 'b', 'r', 'b', 'r', 'b', 'r', 'r', 'r', 'b',\n",
       "       'r', 'r', 'r', 'r', 'b', 'r', 'r', 'r', 'b', 'b', 'b', 'r', 'r',\n",
       "       'r', 'b', 'r', 'b', 'r', 'r', 'r', 'b', 'r', 'r', 'b', 'b', 'r',\n",
       "       'b', 'r', 'b', 'b', 'r', 'b', 'r', 'r', 'b', 'r', 'b', 'b', 'r',\n",
       "       'b', 'r', 'r', 'b', 'b', 'b', 'r', 'b', 'b', 'b', 'b', 'b', 'r',\n",
       "       'b', 'r', 'b', 'b', 'r', 'b', 'r', 'b', 'r', 'b', 'b', 'b', 'b',\n",
       "       'b', 'b', 'r', 'r', 'r', 'r', 'r', 'b', 'b', 'r', 'r', 'b', 'r',\n",
       "       'r', 'r', 'r', 'b', 'b', 'b', 'r', 'b', 'r', 'b', 'r', 'r', 'r',\n",
       "       'r', 'r', 'r', 'r', 'r', 'r', 'r', 'b', 'b', 'r', 'b', 'r', 'r',\n",
       "       'r', 'b', 'b', 'b', 'b', 'r', 'b', 'r', 'b', 'b', 'r', 'r', 'b',\n",
       "       'r', 'r', 'r', 'b', 'r', 'r', 'b', 'r', 'b', 'r', 'r', 'b', 'b',\n",
       "       'b', 'b', 'b', 'r', 'b', 'b', 'r', 'r', 'b', 'b', 'r', 'b', 'r',\n",
       "       'r', 'r', 'b', 'b', 'r', 'r', 'r', 'r', 'b', 'r', 'b', 'b', 'b',\n",
       "       'r', 'b', 'r', 'r', 'r', 'r', 'r', 'r', 'b', 'b', 'r', 'r', 'b',\n",
       "       'b', 'b', 'r', 'r', 'r', 'b', 'b', 'b', 'r', 'r', 'b', 'r', 'r',\n",
       "       'r', 'b', 'r', 'b', 'b', 'r', 'r', 'r', 'r', 'r', 'r', 'r', 'b',\n",
       "       'b', 'b', 'r', 'b', 'r', 'b', 'b', 'r', 'b', 'r', 'r', 'r', 'r',\n",
       "       'b', 'b', 'b', 'r', 'r', 'b', 'r', 'b', 'b', 'r', 'b', 'b', 'b',\n",
       "       'r', 'b', 'b', 'r', 'b', 'r', 'r', 'b', 'b', 'r', 'r', 'b'],\n",
       "      dtype='<U1')"
      ]
     },
     "execution_count": 92,
     "metadata": {},
     "output_type": "execute_result"
    }
   ],
   "source": [
    "y"
   ]
  },
  {
   "cell_type": "code",
   "execution_count": 93,
   "id": "7fb4c70c-c2bf-43fa-9c61-f2d199792d31",
   "metadata": {},
   "outputs": [
    {
     "data": {
      "text/plain": [
       "<function matplotlib.pyplot.show(close=None, block=None)>"
      ]
     },
     "execution_count": 93,
     "metadata": {},
     "output_type": "execute_result"
    },
    {
     "data": {
      "image/png": "[encoded data removed]",
      "text/plain": [
       "<Figure size 640x480 with 1 Axes>"
      ]
     },
     "metadata": {},
     "output_type": "display_data"
    }
   ],
   "source": [
    "plt.figure()\n",
    "for label in labels:\n",
    "    mask = (y == label)\n",
    "    plt.scatter(x[mask,0], x[mask,1], c=label)\n",
    "plt.show"
   ]
  },
  {
   "cell_type": "code",
   "execution_count": 94,
   "id": "6571e575-c8ba-4d7c-adf6-f24825a004fc",
   "metadata": {},
   "outputs": [
    {
     "ename": "ImportError",
     "evalue": "cannot import name 'KneighborsClassifier' from 'sklearn.neighbors' (C:\\Users\\vijay\\anaconda3\\Lib\\site-packages\\sklearn\\neighbors\\__init__.py)",
     "output_type": "error",
     "traceback": [
      "\u001b[1;31m---------------------------------------------------------------------------\u001b[0m",
      "\u001b[1;31mImportError\u001b[0m                               Traceback (most recent call last)",
      "Cell \u001b[1;32mIn[94], line 1\u001b[0m\n\u001b[1;32m----> 1\u001b[0m \u001b[38;5;28;01mfrom\u001b[39;00m \u001b[38;5;21;01msklearn\u001b[39;00m\u001b[38;5;21;01m.\u001b[39;00m\u001b[38;5;21;01mneighbors\u001b[39;00m \u001b[38;5;28;01mimport\u001b[39;00m KneighborsClassifier\n",
      "\u001b[1;31mImportError\u001b[0m: cannot import name 'KneighborsClassifier' from 'sklearn.neighbors' (C:\\Users\\vijay\\anaconda3\\Lib\\site-packages\\sklearn\\neighbors\\__init__.py)"
     ]
    }
   ],
   "source": [
    "from sklearn.neighbors import KneighborsClassifier"
   ]
  },
  {
   "cell_type": "code",
   "execution_count": null,
   "id": "86e7d2c3-86ef-46ec-99db-38ce0b033a4d",
   "metadata": {},
   "outputs": [],
   "source": [
    "model.KneighborsClassifier(n_neighbors=5)\n",
    "model.fit(x,y)"
   ]
  },
  {
   "cell_type": "code",
   "execution_count": null,
   "id": "24572ebe-f8e6-4a59-a518-0aaa4e2ef7b4",
   "metadata": {},
   "outputs": [],
   "source": []
  }
 ],
 "metadata": {
  "kernelspec": {
   "display_name": "Python 3 (ipykernel)",
   "language": "python",
   "name": "python3"
  },
  "language_info": {
   "codemirror_mode": {
    "name": "ipython",
    "version": 3
   },
   "file_extension": ".py",
   "mimetype": "text/x-python",
   "name": "python",
   "nbconvert_exporter": "python",
   "pygments_lexer": "ipython3",
   "version": "3.12.7"
  }
 },
 "nbformat": 4,
 "nbformat_minor": 5
}
