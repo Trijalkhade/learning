{
 "cells": [
  {
   "cell_type": "markdown",
   "id": "8c5f900c-bd54-4428-a356-20cc646850ce",
   "metadata": {},
   "source": [
    "# Python Basics"
   ]
  },
  {
   "cell_type": "code",
   "execution_count": 1,
   "id": "5ffb6d51-7aa4-406d-b692-3b1179f38d1a",
   "metadata": {},
   "outputs": [
    {
     "name": "stdout",
     "output_type": "stream",
     "text": [
      "Package                           Version\n",
      "--------------------------------- ------------------\n",
      "aiobotocore                       2.12.3\n",
      "aiohappyeyeballs                  2.4.0\n",
      "aiohttp                           3.10.5\n",
      "aioitertools                      0.7.1\n",
      "aiosignal                         1.2.0\n",
      "alabaster                         0.7.16\n",
      "altair                            5.0.1\n",
      "anaconda-anon-usage               0.4.4\n",
      "anaconda-catalogs                 0.2.0\n",
      "anaconda-client                   1.12.3\n",
      "anaconda-cloud-auth               0.5.1\n",
      "anaconda-navigator                2.6.3\n",
      "anaconda-project                  0.11.1\n",
      "annotated-types                   0.6.0\n",
      "anyio                             4.2.0\n",
      "appdirs                           1.4.4\n",
      "archspec                          0.2.3\n",
      "argon2-cffi                       21.3.0\n",
      "argon2-cffi-bindings              21.2.0\n",
      "arrow                             1.2.3\n",
      "astroid                           2.14.2\n",
      "astropy                           6.1.3\n",
      "astropy-iers-data                 0.2024.9.2.0.33.23\n",
      "asttokens                         2.0.5\n",
      "async-lru                         2.0.4\n",
      "atomicwrites                      1.4.0\n",
      "attrs                             23.1.0\n",
      "Automat                           20.2.0\n",
      "autopep8                          2.0.4\n",
      "Babel                             2.11.0\n",
      "bcrypt                            3.2.0\n",
      "beautifulsoup4                    4.12.3\n",
      "binaryornot                       0.4.4\n",
      "black                             24.8.0\n",
      "bleach                            4.1.0\n",
      "blinker                           1.6.2\n",
      "bokeh                             3.6.0\n",
      "boltons                           23.0.0\n",
      "botocore                          1.34.69\n",
      "Bottleneck                        1.3.7\n",
      "Brotli                            1.0.9\n",
      "cachetools                        5.3.3\n",
      "certifi                           2024.8.30\n",
      "cffi                              1.17.1\n",
      "chardet                           4.0.0\n",
      "charset-normalizer                3.3.2\n",
      "click                             8.1.7\n",
      "cloudpickle                       3.0.0\n",
      "colorama                          0.4.6\n",
      "colorcet                          3.1.0\n",
      "comm                              0.2.1\n",
      "conda                             24.9.2\n",
      "conda-build                       24.9.0\n",
      "conda-content-trust               0.2.0\n",
      "conda_index                       0.5.0\n",
      "conda-libmamba-solver             24.9.0\n",
      "conda-pack                        0.7.1\n",
      "conda-package-handling            2.3.0\n",
      "conda_package_streaming           0.10.0\n",
      "conda-repo-cli                    1.0.114\n",
      "conda-token                       0.5.0+1.g2209e04\n",
      "constantly                        23.10.4\n",
      "contourpy                         1.2.0\n",
      "cookiecutter                      2.6.0\n",
      "cryptography                      43.0.0\n",
      "cssselect                         1.2.0\n",
      "cycler                            0.11.0\n",
      "cytoolz                           0.12.2\n",
      "dask                              2024.8.2\n",
      "dask-expr                         1.1.13\n",
      "datashader                        0.16.3\n",
      "debugpy                           1.6.7\n",
      "decorator                         5.1.1\n",
      "defusedxml                        0.7.1\n",
      "diff-match-patch                  20200713\n",
      "dill                              0.3.8\n",
      "distributed                       2024.8.2\n",
      "distro                            1.9.0\n",
      "docstring-to-markdown             0.11\n",
      "docutils                          0.18.1\n",
      "et-xmlfile                        1.1.0\n",
      "executing                         0.8.3\n",
      "fastjsonschema                    2.16.2\n",
      "filelock                          3.13.1\n",
      "flake8                            7.0.0\n",
      "Flask                             3.0.3\n",
      "fonttools                         4.51.0\n",
      "frozendict                        2.4.2\n",
      "frozenlist                        1.4.0\n",
      "fsspec                            2024.6.1\n",
      "gensim                            4.3.3\n",
      "gitdb                             4.0.7\n",
      "GitPython                         3.1.43\n",
      "greenlet                          3.0.1\n",
      "h11                               0.14.0\n",
      "h5py                              3.11.0\n",
      "HeapDict                          1.0.1\n",
      "holoviews                         1.19.1\n",
      "httpcore                          1.0.2\n",
      "httpx                             0.27.0\n",
      "hvplot                            0.11.0\n",
      "hyperlink                         21.0.0\n",
      "idna                              3.7\n",
      "imagecodecs                       2023.1.23\n",
      "imageio                           2.33.1\n",
      "imagesize                         1.4.1\n",
      "imbalanced-learn                  0.12.3\n",
      "importlib-metadata                7.0.1\n",
      "incremental                       22.10.0\n",
      "inflection                        0.5.1\n",
      "iniconfig                         1.1.1\n",
      "intake                            2.0.7\n",
      "intervaltree                      3.1.0\n",
      "ipykernel                         6.28.0\n",
      "ipython                           8.27.0\n",
      "ipython-genutils                  0.2.0\n",
      "ipywidgets                        7.8.1\n",
      "isort                             5.13.2\n",
      "itemadapter                       0.3.0\n",
      "itemloaders                       1.1.0\n",
      "itsdangerous                      2.2.0\n",
      "jaraco.classes                    3.2.1\n",
      "jedi                              0.19.1\n",
      "jellyfish                         1.0.1\n",
      "Jinja2                            3.1.4\n",
      "jmespath                          1.0.1\n",
      "joblib                            1.4.2\n",
      "json5                             0.9.6\n",
      "jsonpatch                         1.33\n",
      "jsonpointer                       2.1\n",
      "jsonschema                        4.23.0\n",
      "jsonschema-specifications         2023.7.1\n",
      "jupyter                           1.0.0\n",
      "jupyter_client                    8.6.0\n",
      "jupyter-console                   6.6.3\n",
      "jupyter_core                      5.7.2\n",
      "jupyter-events                    0.10.0\n",
      "jupyter-lsp                       2.2.0\n",
      "jupyter_server                    2.14.1\n",
      "jupyter_server_terminals          0.4.4\n",
      "jupyterlab                        4.2.5\n",
      "jupyterlab-pygments               0.1.2\n",
      "jupyterlab_server                 2.27.3\n",
      "jupyterlab-widgets                1.0.0\n",
      "keyring                           24.3.1\n",
      "kiwisolver                        1.4.4\n",
      "lazy_loader                       0.4\n",
      "lazy-object-proxy                 1.10.0\n",
      "lckr_jupyterlab_variableinspector 3.1.0\n",
      "libarchive-c                      5.1\n",
      "libmambapy                        1.5.8\n",
      "linkify-it-py                     2.0.0\n",
      "llvmlite                          0.43.0\n",
      "lmdb                              1.4.1\n",
      "locket                            1.0.0\n",
      "lxml                              5.2.1\n",
      "lz4                               4.3.2\n",
      "Markdown                          3.4.1\n",
      "markdown-it-py                    2.2.0\n",
      "MarkupSafe                        2.1.3\n",
      "matplotlib                        3.9.2\n",
      "matplotlib-inline                 0.1.6\n",
      "mccabe                            0.7.0\n",
      "mdit-py-plugins                   0.3.0\n",
      "mdurl                             0.1.0\n",
      "menuinst                          2.1.2\n",
      "mistune                           2.0.4\n",
      "mkl_fft                           1.3.10\n",
      "mkl_random                        1.2.7\n",
      "mkl-service                       2.4.0\n",
      "more-itertools                    10.3.0\n",
      "mpmath                            1.3.0\n",
      "msgpack                           1.0.3\n",
      "multidict                         6.0.4\n",
      "multipledispatch                  0.6.0\n",
      "mypy                              1.11.2\n",
      "mypy-extensions                   1.0.0\n",
      "navigator-updater                 0.5.1\n",
      "nbclient                          0.8.0\n",
      "nbconvert                         7.16.4\n",
      "nbformat                          5.10.4\n",
      "nest-asyncio                      1.6.0\n",
      "networkx                          3.3\n",
      "nltk                              3.9.1\n",
      "notebook                          7.2.2\n",
      "notebook_shim                     0.2.3\n",
      "numba                             0.60.0\n",
      "numexpr                           2.8.7\n",
      "numpy                             1.26.4\n",
      "numpydoc                          1.7.0\n",
      "openpyxl                          3.1.5\n",
      "overrides                         7.4.0\n",
      "packaging                         24.1\n",
      "pandas                            2.2.2\n",
      "pandocfilters                     1.5.0\n",
      "panel                             1.5.2\n",
      "param                             2.1.1\n",
      "paramiko                          2.8.1\n",
      "parsel                            1.8.1\n",
      "parso                             0.8.3\n",
      "partd                             1.4.1\n",
      "pathspec                          0.10.3\n",
      "patsy                             0.5.6\n",
      "pexpect                           4.8.0\n",
      "pickleshare                       0.7.5\n",
      "pillow                            10.4.0\n",
      "pip                               24.2\n",
      "pkce                              1.0.3\n",
      "pkginfo                           1.10.0\n",
      "platformdirs                      3.10.0\n",
      "plotly                            5.24.1\n",
      "pluggy                            1.0.0\n",
      "ply                               3.11\n",
      "prometheus-client                 0.14.1\n",
      "prompt-toolkit                    3.0.43\n",
      "Protego                           0.1.16\n",
      "protobuf                          4.25.3\n",
      "psutil                            5.9.0\n",
      "ptyprocess                        0.7.0\n",
      "pure-eval                         0.2.2\n",
      "py-cpuinfo                        9.0.0\n",
      "pyarrow                           16.1.0\n",
      "pyasn1                            0.4.8\n",
      "pyasn1-modules                    0.2.8\n",
      "pycodestyle                       2.11.1\n",
      "pycosat                           0.6.6\n",
      "pycparser                         2.21\n",
      "pyct                              0.5.0\n",
      "pycurl                            7.45.3\n",
      "pydantic                          2.8.2\n",
      "pydantic_core                     2.20.1\n",
      "pydeck                            0.8.0\n",
      "PyDispatcher                      2.0.5\n",
      "pydocstyle                        6.3.0\n",
      "pyerfa                            2.0.1.4\n",
      "pyflakes                          3.2.0\n",
      "Pygments                          2.15.1\n",
      "PyJWT                             2.8.0\n",
      "pylint                            2.16.2\n",
      "pylint-venv                       3.0.3\n",
      "pyls-spyder                       0.4.0\n",
      "PyNaCl                            1.5.0\n",
      "pyodbc                            5.1.0\n",
      "pyOpenSSL                         24.2.1\n",
      "pyparsing                         3.1.2\n",
      "PyQt5                             5.15.10\n",
      "PyQt5-sip                         12.13.0\n",
      "PyQtWebEngine                     5.15.6\n",
      "PySocks                           1.7.1\n",
      "pytest                            7.4.4\n",
      "python-dateutil                   2.9.0.post0\n",
      "python-dotenv                     0.21.0\n",
      "python-json-logger                2.0.7\n",
      "python-lsp-black                  2.0.0\n",
      "python-lsp-jsonrpc                1.1.2\n",
      "python-lsp-server                 1.10.0\n",
      "python-slugify                    5.0.2\n",
      "pytoolconfig                      1.2.6\n",
      "pytz                              2024.1\n",
      "pyviz_comms                       3.0.2\n",
      "PyWavelets                        1.7.0\n",
      "pywin32                           305.1\n",
      "pywin32-ctypes                    0.2.2\n",
      "pywinpty                          2.0.10\n",
      "PyYAML                            6.0.1\n",
      "pyzmq                             25.1.2\n",
      "QDarkStyle                        3.2.3\n",
      "qstylizer                         0.2.2\n",
      "QtAwesome                         1.3.1\n",
      "qtconsole                         5.5.1\n",
      "QtPy                              2.4.1\n",
      "queuelib                          1.6.2\n",
      "referencing                       0.30.2\n",
      "regex                             2024.9.11\n",
      "requests                          2.32.3\n",
      "requests-file                     1.5.1\n",
      "requests-toolbelt                 1.0.0\n",
      "rfc3339-validator                 0.1.4\n",
      "rfc3986-validator                 0.1.1\n",
      "rich                              13.7.1\n",
      "rope                              1.12.0\n",
      "rpds-py                           0.10.6\n",
      "Rtree                             1.0.1\n",
      "ruamel.yaml                       0.18.6\n",
      "ruamel.yaml.clib                  0.2.8\n",
      "ruamel-yaml-conda                 0.17.21\n",
      "s3fs                              2024.6.1\n",
      "scikit-image                      0.24.0\n",
      "scikit-learn                      1.5.1\n",
      "scipy                             1.13.1\n",
      "Scrapy                            2.11.1\n",
      "seaborn                           0.13.2\n",
      "semver                            3.0.2\n",
      "Send2Trash                        1.8.2\n",
      "service-identity                  18.1.0\n",
      "setuptools                        75.1.0\n",
      "sip                               6.7.12\n",
      "six                               1.16.0\n",
      "smart-open                        5.2.1\n",
      "smmap                             4.0.0\n",
      "sniffio                           1.3.0\n",
      "snowballstemmer                   2.2.0\n",
      "sortedcontainers                  2.4.0\n",
      "soupsieve                         2.5\n",
      "Sphinx                            7.3.7\n",
      "sphinxcontrib-applehelp           1.0.2\n",
      "sphinxcontrib-devhelp             1.0.2\n",
      "sphinxcontrib-htmlhelp            2.0.0\n",
      "sphinxcontrib-jsmath              1.0.1\n",
      "sphinxcontrib-qthelp              1.0.3\n",
      "sphinxcontrib-serializinghtml     1.1.10\n",
      "spyder                            5.5.1\n",
      "spyder-kernels                    2.5.0\n",
      "SQLAlchemy                        2.0.34\n",
      "stack-data                        0.2.0\n",
      "statsmodels                       0.14.2\n",
      "streamlit                         1.37.1\n",
      "sympy                             1.13.2\n",
      "tables                            3.10.1\n",
      "tabulate                          0.9.0\n",
      "tblib                             1.7.0\n",
      "tenacity                          8.2.3\n",
      "terminado                         0.17.1\n",
      "text-unidecode                    1.3\n",
      "textdistance                      4.2.1\n",
      "threadpoolctl                     3.5.0\n",
      "three-merge                       0.1.1\n",
      "tifffile                          2023.4.12\n",
      "tinycss2                          1.2.1\n",
      "tldextract                        5.1.2\n",
      "toml                              0.10.2\n",
      "tomli                             2.0.1\n",
      "tomlkit                           0.11.1\n",
      "toolz                             0.12.0\n",
      "tornado                           6.4.1\n",
      "tqdm                              4.66.5\n",
      "traitlets                         5.14.3\n",
      "truststore                        0.8.0\n",
      "Twisted                           23.10.0\n",
      "twisted-iocpsupport               1.0.2\n",
      "typing_extensions                 4.11.0\n",
      "tzdata                            2023.3\n",
      "uc-micro-py                       1.0.1\n",
      "ujson                             5.10.0\n",
      "unicodedata2                      15.1.0\n",
      "Unidecode                         1.3.8\n",
      "urllib3                           2.2.3\n",
      "w3lib                             2.1.2\n",
      "watchdog                          4.0.1\n",
      "wcwidth                           0.2.5\n",
      "webencodings                      0.5.1\n",
      "websocket-client                  1.8.0\n",
      "Werkzeug                          3.0.3\n",
      "whatthepatch                      1.0.2\n",
      "wheel                             0.44.0\n",
      "widgetsnbextension                3.6.6\n",
      "win-inet-pton                     1.1.0\n",
      "wrapt                             1.14.1\n",
      "xarray                            2023.6.0\n",
      "xlwings                           0.32.1\n",
      "xyzservices                       2022.9.0\n",
      "yapf                              0.40.2\n",
      "yarl                              1.11.0\n",
      "zict                              3.0.0\n",
      "zipp                              3.17.0\n",
      "zope.interface                    5.4.0\n",
      "zstandard                         0.23.0\n"
     ]
    }
   ],
   "source": [
    "!pip list"
   ]
  },
  {
   "cell_type": "code",
   "execution_count": 2,
   "id": "77e175b4-87ee-4d57-b5ee-cf9ffae2c04e",
   "metadata": {},
   "outputs": [],
   "source": [
    "# Keywords- Reserved words"
   ]
  },
  {
   "cell_type": "code",
   "execution_count": 3,
   "id": "ad5f8fd4-545b-4866-8932-cc18b98f0f96",
   "metadata": {},
   "outputs": [],
   "source": [
    "import keyword"
   ]
  },
  {
   "cell_type": "code",
   "execution_count": 4,
   "id": "3d3a7ced-f730-4cfe-b6ed-9f5bf6e3eee2",
   "metadata": {},
   "outputs": [
    {
     "name": "stdout",
     "output_type": "stream",
     "text": [
      "['False', 'None', 'True', 'and', 'as', 'assert', 'async', 'await', 'break', 'class', 'continue', 'def', 'del', 'elif', 'else', 'except', 'finally', 'for', 'from', 'global', 'if', 'import', 'in', 'is', 'lambda', 'nonlocal', 'not', 'or', 'pass', 'raise', 'return', 'try', 'while', 'with', 'yield']\n"
     ]
    }
   ],
   "source": [
    "print(keyword.kwlist)"
   ]
  },
  {
   "cell_type": "code",
   "execution_count": 5,
   "id": "6f392f69-243c-4b63-b0d8-882417f0d4c6",
   "metadata": {},
   "outputs": [
    {
     "data": {
      "text/plain": [
       "35"
      ]
     },
     "execution_count": 5,
     "metadata": {},
     "output_type": "execute_result"
    }
   ],
   "source": [
    "len(keyword.kwlist)"
   ]
  },
  {
   "cell_type": "code",
   "execution_count": 6,
   "id": "86eb3cc1-c353-411e-8e17-6c4a3a68190c",
   "metadata": {},
   "outputs": [
    {
     "name": "stdout",
     "output_type": "stream",
     "text": [
      "Hello world!\n"
     ]
    }
   ],
   "source": [
    "print(\"Hello world!\")"
   ]
  },
  {
   "cell_type": "code",
   "execution_count": 7,
   "id": "57fabd36-0fd9-4ed9-9d4d-6e8ec54b9e3c",
   "metadata": {},
   "outputs": [],
   "source": [
    "# import=5 here, import is a keyword in green bold color ERROR"
   ]
  },
  {
   "cell_type": "code",
   "execution_count": 8,
   "id": "03aa8a70-e94f-47fa-a7d2-1d0e5c25f311",
   "metadata": {},
   "outputs": [],
   "source": [
    "# print=5  here, print and len are in-build fn / methods which we can redefine by assigning values in python"
   ]
  },
  {
   "cell_type": "code",
   "execution_count": 9,
   "id": "af921923-3081-40cf-89fb-3222fa0b823f",
   "metadata": {},
   "outputs": [
    {
     "name": "stdout",
     "output_type": "stream",
     "text": [
      "Hello world!\n"
     ]
    }
   ],
   "source": [
    "print(\"Hello world!\")"
   ]
  },
  {
   "cell_type": "code",
   "execution_count": 10,
   "id": "b7ce4a80-369c-4ada-836c-c84170f5b87a",
   "metadata": {},
   "outputs": [],
   "source": [
    "def hello():\n",
    "    print(\"Hello 1\")"
   ]
  },
  {
   "cell_type": "code",
   "execution_count": 11,
   "id": "7200affa-d59c-440d-8dd9-4e1261070755",
   "metadata": {},
   "outputs": [
    {
     "name": "stdout",
     "output_type": "stream",
     "text": [
      "Hello 1\n"
     ]
    }
   ],
   "source": [
    "hello()"
   ]
  },
  {
   "cell_type": "code",
   "execution_count": 12,
   "id": "3d5ab903-709c-4630-b019-d1c0aa59e98f",
   "metadata": {},
   "outputs": [],
   "source": [
    "def hello():    # Re-define the funtion\n",
    "    print(\"Hello 2\")"
   ]
  },
  {
   "cell_type": "code",
   "execution_count": 13,
   "id": "8c33e3f7-f888-4679-a43b-40fbd8e33863",
   "metadata": {},
   "outputs": [
    {
     "name": "stdout",
     "output_type": "stream",
     "text": [
      "Hello 2\n"
     ]
    }
   ],
   "source": [
    "hello()"
   ]
  },
  {
   "cell_type": "code",
   "execution_count": 14,
   "id": "a6de80e5-cfc3-499f-abee-fb6719623637",
   "metadata": {},
   "outputs": [
    {
     "name": "stdout",
     "output_type": "stream",
     "text": [
      "['ArithmeticError', 'AssertionError', 'AttributeError', 'BaseException', 'BaseExceptionGroup', 'BlockingIOError', 'BrokenPipeError', 'BufferError', 'BytesWarning', 'ChildProcessError', 'ConnectionAbortedError', 'ConnectionError', 'ConnectionRefusedError', 'ConnectionResetError', 'DeprecationWarning', 'EOFError', 'EncodingWarning', 'EnvironmentError', 'Exception', 'ExceptionGroup', 'FileExistsError', 'FileNotFoundError', 'FloatingPointError', 'FutureWarning', 'GeneratorExit', 'IOError', 'ImportError', 'ImportWarning', 'IndentationError', 'IndexError', 'InterruptedError', 'IsADirectoryError', 'KeyError', 'KeyboardInterrupt', 'LookupError', 'MemoryError', 'ModuleNotFoundError', 'NameError', 'NotADirectoryError', 'NotImplementedError', 'OSError', 'OverflowError', 'PendingDeprecationWarning', 'PermissionError', 'ProcessLookupError', 'RecursionError', 'ReferenceError', 'ResourceWarning', 'RuntimeError', 'RuntimeWarning', 'StopAsyncIteration', 'StopIteration', 'SyntaxError', 'SyntaxWarning', 'SystemError', 'SystemExit', 'TabError', 'TimeoutError', 'TypeError', 'UnboundLocalError', 'UnicodeDecodeError', 'UnicodeEncodeError', 'UnicodeError', 'UnicodeTranslateError', 'UnicodeWarning', 'UserWarning', 'ValueError', 'Warning', 'WindowsError', 'ZeroDivisionError', '__build_class__', '__import__', '__loader__', 'abs', 'aiter', 'all', 'anext', 'any', 'ascii', 'bin', 'bool', 'breakpoint', 'bytearray', 'bytes', 'callable', 'chr', 'classmethod', 'compile', 'complex', 'copyright', 'credits', 'delattr', 'dict', 'dir', 'display', 'divmod', 'enumerate', 'eval', 'exec', 'execfile', 'filter', 'float', 'format', 'frozenset', 'get_ipython', 'getattr', 'globals', 'hasattr', 'hash', 'help', 'hex', 'id', 'input', 'int', 'isinstance', 'issubclass', 'iter', 'len', 'license', 'list', 'locals', 'map', 'max', 'memoryview', 'min', 'next', 'object', 'oct', 'open', 'ord', 'pow', 'print', 'property', 'range', 'repr', 'reversed', 'round', 'runfile', 'set', 'setattr', 'slice', 'sorted', 'staticmethod', 'str', 'sum', 'super', 'tuple', 'type', 'vars', 'zip']\n"
     ]
    }
   ],
   "source": [
    "import builtins\n",
    "\n",
    "built_in_functions = [func for func in dir(builtins) if callable(getattr(builtins,func))]\n",
    "\n",
    "print(built_in_functions)"
   ]
  },
  {
   "cell_type": "code",
   "execution_count": 15,
   "id": "ac766d55-972c-4858-8fdc-5639dfbce33e",
   "metadata": {},
   "outputs": [],
   "source": [
    "#identifier - keywords"
   ]
  },
  {
   "cell_type": "code",
   "execution_count": 16,
   "id": "8f76f5f5-728e-44ba-98fc-080e3922c2bf",
   "metadata": {},
   "outputs": [],
   "source": [
    "a = 5"
   ]
  },
  {
   "cell_type": "code",
   "execution_count": 17,
   "id": "a39af7b9-fc32-425f-bb74-82dd7c69fa6b",
   "metadata": {},
   "outputs": [
    {
     "data": {
      "text/plain": [
       "5"
      ]
     },
     "execution_count": 17,
     "metadata": {},
     "output_type": "execute_result"
    }
   ],
   "source": [
    "a"
   ]
  },
  {
   "cell_type": "code",
   "execution_count": 18,
   "id": "60f72158-b3dc-4a3d-af02-70417109370e",
   "metadata": {},
   "outputs": [],
   "source": [
    "b = 3"
   ]
  },
  {
   "cell_type": "code",
   "execution_count": 19,
   "id": "28285c38-d7a8-4adc-95e3-7c02b997dcfd",
   "metadata": {},
   "outputs": [
    {
     "data": {
      "text/plain": [
       "3"
      ]
     },
     "execution_count": 19,
     "metadata": {},
     "output_type": "execute_result"
    }
   ],
   "source": [
    "b"
   ]
  },
  {
   "cell_type": "code",
   "execution_count": 20,
   "id": "f398cfb5-dd34-40a3-9c81-49a83c848557",
   "metadata": {},
   "outputs": [],
   "source": [
    "#A-Z,a-z,0-9(dont begin with numbers), _(readability)"
   ]
  },
  {
   "cell_type": "code",
   "execution_count": 21,
   "id": "a4f0a0dc-f2ae-4ce5-b607-bc98c5536bc0",
   "metadata": {},
   "outputs": [],
   "source": [
    "var1= \"Variable 1\""
   ]
  },
  {
   "cell_type": "code",
   "execution_count": 22,
   "id": "3856c3fa-10c7-4639-87b8-e13622c46ab3",
   "metadata": {},
   "outputs": [],
   "source": [
    "#1var = \"Variable 1\""
   ]
  },
  {
   "cell_type": "code",
   "execution_count": 23,
   "id": "c1f0c4e2-76eb-43e3-aa92-a769eab7c342",
   "metadata": {},
   "outputs": [],
   "source": [
    "Variable_to_store_str = \"var\""
   ]
  },
  {
   "cell_type": "code",
   "execution_count": 24,
   "id": "472d53df-2da2-419d-9068-50c7f8645e70",
   "metadata": {},
   "outputs": [],
   "source": [
    "# a@ = 2 syntax error"
   ]
  },
  {
   "cell_type": "code",
   "execution_count": 25,
   "id": "08de6b28-26c2-4167-973d-22a43416679f",
   "metadata": {},
   "outputs": [],
   "source": [
    "# to \n",
    "# use\n",
    "# comments\n",
    "# use \n",
    "# ctrl + frontslash "
   ]
  },
  {
   "cell_type": "code",
   "execution_count": 26,
   "id": "ac1a4f44-06ea-4fd7-acec-890dd3f18334",
   "metadata": {},
   "outputs": [
    {
     "data": {
      "text/plain": [
       "' this is \\na multi line\\ncomment '"
      ]
     },
     "execution_count": 26,
     "metadata": {},
     "output_type": "execute_result"
    }
   ],
   "source": [
    "\"\"\" this is \n",
    "a multi line\n",
    "comment \"\"\""
   ]
  },
  {
   "cell_type": "code",
   "execution_count": 27,
   "id": "6f4a6f87-05c2-437c-b087-5fdec9595c07",
   "metadata": {},
   "outputs": [],
   "source": [
    "#doc string\n",
    "def hello():\n",
    "    \"\"\" This is a function to\n",
    "    print greeting message\"\"\"\n",
    "    print(\"Hello There!!!\")"
   ]
  },
  {
   "cell_type": "code",
   "execution_count": 28,
   "id": "4d861666-2cb2-4c88-a277-9df32e06a880",
   "metadata": {},
   "outputs": [
    {
     "name": "stdout",
     "output_type": "stream",
     "text": [
      "Hello There!!!\n"
     ]
    }
   ],
   "source": [
    "hello()"
   ]
  },
  {
   "cell_type": "code",
   "execution_count": 29,
   "id": "79b23163-ff1f-43fe-b1c9-2321af380e67",
   "metadata": {},
   "outputs": [
    {
     "name": "stdout",
     "output_type": "stream",
     "text": [
      " This is a function to\n",
      "    print greeting message\n"
     ]
    }
   ],
   "source": [
    "print(hello.__doc__)"
   ]
  },
  {
   "cell_type": "code",
   "execution_count": 30,
   "id": "f6e9e797-d166-4c5e-a857-86aa76449f55",
   "metadata": {},
   "outputs": [
    {
     "data": {
      "text/plain": [
       "' This is a function to\\n    print greeting message'"
      ]
     },
     "execution_count": 30,
     "metadata": {},
     "output_type": "execute_result"
    }
   ],
   "source": [
    "hello.__doc__"
   ]
  },
  {
   "cell_type": "code",
   "execution_count": 31,
   "id": "5304b807-fba6-4687-a5f2-4f076079d33c",
   "metadata": {},
   "outputs": [],
   "source": [
    "##indentation"
   ]
  },
  {
   "cell_type": "code",
   "execution_count": 32,
   "id": "eb46f429-3e27-4785-9901-7309f84febd7",
   "metadata": {},
   "outputs": [
    {
     "name": "stdout",
     "output_type": "stream",
     "text": [
      "Inside 1\n",
      "Inside 2\n",
      "Outside\n"
     ]
    }
   ],
   "source": [
    "if(True):\n",
    "    print(\"Inside 1\")\n",
    "    print(\"Inside 2\")\n",
    "print(\"Outside\")"
   ]
  },
  {
   "cell_type": "code",
   "execution_count": 33,
   "id": "8ce0923b-d28f-4936-be89-ffe67e703c8a",
   "metadata": {},
   "outputs": [
    {
     "name": "stdout",
     "output_type": "stream",
     "text": [
      "Outside\n"
     ]
    }
   ],
   "source": [
    "if(False):\n",
    "    print(\"Inside 1\")\n",
    "    print(\"Inside 2\")\n",
    "print(\"Outside\")"
   ]
  },
  {
   "cell_type": "code",
   "execution_count": 34,
   "id": "7706917b-afc1-47c3-bd78-43845f9f837f",
   "metadata": {},
   "outputs": [],
   "source": [
    "a1 = 1+2+3+4+5+6 \\\n",
    "     +7"
   ]
  },
  {
   "cell_type": "code",
   "execution_count": 35,
   "id": "33bf3210-ddd8-4447-9132-f715e9bf5bc6",
   "metadata": {},
   "outputs": [
    {
     "data": {
      "text/plain": [
       "28"
      ]
     },
     "execution_count": 35,
     "metadata": {},
     "output_type": "execute_result"
    }
   ],
   "source": [
    "a1"
   ]
  },
  {
   "cell_type": "code",
   "execution_count": 36,
   "id": "3a67404c-91cf-4ce9-9c73-abbff07564d8",
   "metadata": {},
   "outputs": [],
   "source": [
    "a2 =  (1+2+3+4+5+6\n",
    "     +7 )"
   ]
  },
  {
   "cell_type": "code",
   "execution_count": 37,
   "id": "d35d509f-e9a9-4c05-be7c-88fa546c9755",
   "metadata": {},
   "outputs": [
    {
     "data": {
      "text/plain": [
       "28"
      ]
     },
     "execution_count": 37,
     "metadata": {},
     "output_type": "execute_result"
    }
   ],
   "source": [
    "a2"
   ]
  },
  {
   "cell_type": "code",
   "execution_count": 38,
   "id": "c9c35601-84b8-41b6-8bca-dd4f43a938a5",
   "metadata": {},
   "outputs": [],
   "source": [
    "a,b = 5,3"
   ]
  },
  {
   "cell_type": "code",
   "execution_count": 39,
   "id": "86c545da-d563-4377-ad6c-1a779dab3a33",
   "metadata": {},
   "outputs": [
    {
     "data": {
      "text/plain": [
       "(5, 3)"
      ]
     },
     "execution_count": 39,
     "metadata": {},
     "output_type": "execute_result"
    }
   ],
   "source": [
    "a,b"
   ]
  },
  {
   "cell_type": "code",
   "execution_count": 40,
   "id": "e5cfca10-5353-4bd6-a6c1-714ae9ed312e",
   "metadata": {},
   "outputs": [],
   "source": [
    "def fun():\n",
    "    return 2, \"var\""
   ]
  },
  {
   "cell_type": "code",
   "execution_count": 41,
   "id": "540634a9-b384-4fda-b113-1d7d89b0fd0a",
   "metadata": {},
   "outputs": [],
   "source": [
    "c,d = fun()"
   ]
  },
  {
   "cell_type": "code",
   "execution_count": 42,
   "id": "22eec27d-6e81-4d9e-a0df-fcba11f5ef78",
   "metadata": {},
   "outputs": [
    {
     "data": {
      "text/plain": [
       "(2, 'var')"
      ]
     },
     "execution_count": 42,
     "metadata": {},
     "output_type": "execute_result"
    }
   ],
   "source": [
    "c,d"
   ]
  },
  {
   "cell_type": "code",
   "execution_count": 43,
   "id": "3cc9136a-b894-433a-99fa-f74f2c382186",
   "metadata": {},
   "outputs": [],
   "source": [
    "b=2.5"
   ]
  },
  {
   "cell_type": "code",
   "execution_count": 44,
   "id": "15e05568-3bbf-4fa9-9817-e876e55f9573",
   "metadata": {},
   "outputs": [
    {
     "data": {
      "text/plain": [
       "float"
      ]
     },
     "execution_count": 44,
     "metadata": {},
     "output_type": "execute_result"
    }
   ],
   "source": [
    "type(b)"
   ]
  },
  {
   "cell_type": "code",
   "execution_count": 45,
   "id": "6ebc5026-fec1-4076-8487-51a9b99c6d19",
   "metadata": {},
   "outputs": [],
   "source": [
    "c=1 + 6j  #complex numbers"
   ]
  },
  {
   "cell_type": "code",
   "execution_count": 46,
   "id": "4c72dd8b-4646-441a-aa5f-4632fea6a898",
   "metadata": {},
   "outputs": [
    {
     "data": {
      "text/plain": [
       "(1+6j)"
      ]
     },
     "execution_count": 46,
     "metadata": {},
     "output_type": "execute_result"
    }
   ],
   "source": [
    "c"
   ]
  },
  {
   "cell_type": "code",
   "execution_count": 47,
   "id": "f7ff2df5-fc2d-4c94-8a5d-2355e3faa5a3",
   "metadata": {},
   "outputs": [],
   "source": [
    "t = True"
   ]
  },
  {
   "cell_type": "code",
   "execution_count": 48,
   "id": "e7c60524-a445-4d2d-9e55-5616757d9dd6",
   "metadata": {},
   "outputs": [],
   "source": [
    "s = \"var\""
   ]
  },
  {
   "cell_type": "code",
   "execution_count": 49,
   "id": "1b6e95c6-f005-42da-804b-d3587489ecf2",
   "metadata": {},
   "outputs": [],
   "source": [
    "#list\n",
    "list1 = [1,2,3,4,5.55,\"var1\"]  #list has [] parenthesis"
   ]
  },
  {
   "cell_type": "code",
   "execution_count": 50,
   "id": "94f265e5-1900-4f19-9fff-492c93ba34a1",
   "metadata": {},
   "outputs": [],
   "source": [
    "list1[0]=3"
   ]
  },
  {
   "cell_type": "code",
   "execution_count": 51,
   "id": "be2781ee-18f2-4534-a215-a01e1fe831d7",
   "metadata": {},
   "outputs": [
    {
     "data": {
      "text/plain": [
       "[3, 2, 3, 4, 5.55, 'var1']"
      ]
     },
     "execution_count": 51,
     "metadata": {},
     "output_type": "execute_result"
    }
   ],
   "source": [
    "list1"
   ]
  },
  {
   "cell_type": "code",
   "execution_count": 52,
   "id": "e4d873de-12d9-40b5-a65c-42da4bc252b0",
   "metadata": {},
   "outputs": [],
   "source": [
    "tup = (1,2,3,4,5.55,\"var1\") #tupple has () parenthesis"
   ]
  },
  {
   "cell_type": "code",
   "execution_count": 53,
   "id": "db446a60-2b5e-4ecc-a357-c1de33567b98",
   "metadata": {},
   "outputs": [],
   "source": [
    "#tup[0] = 3   #tuple cannot be assigned values "
   ]
  },
  {
   "cell_type": "code",
   "execution_count": 54,
   "id": "be0f0007-fec5-4078-82ee-4db12391ff55",
   "metadata": {},
   "outputs": [
    {
     "data": {
      "text/plain": [
       "(1, 2, 3, 4, 5.55, 'var1')"
      ]
     },
     "execution_count": 54,
     "metadata": {},
     "output_type": "execute_result"
    }
   ],
   "source": [
    "tup"
   ]
  },
  {
   "cell_type": "code",
   "execution_count": 55,
   "id": "6d32ee32-268d-45fc-87ba-bc0d0bdaa8d9",
   "metadata": {},
   "outputs": [],
   "source": [
    "s = {1,10,2,3,11,4,1,\"var\",100,2}   #set has {} parenthesis"
   ]
  },
  {
   "cell_type": "code",
   "execution_count": 56,
   "id": "b85c7f8b-64af-4931-86f6-aa301ca36c7e",
   "metadata": {},
   "outputs": [
    {
     "data": {
      "text/plain": [
       "{1, 10, 100, 11, 2, 3, 4, 'var'}"
      ]
     },
     "execution_count": 56,
     "metadata": {},
     "output_type": "execute_result"
    }
   ],
   "source": [
    "s"
   ]
  },
  {
   "cell_type": "code",
   "execution_count": 57,
   "id": "09797e15-e047-4ed1-967d-19f8c6cd5c1b",
   "metadata": {},
   "outputs": [],
   "source": [
    "d = {1 : \"one\", 2 : \"two\"}"
   ]
  },
  {
   "cell_type": "code",
   "execution_count": 58,
   "id": "7dddbfcc-f381-44ff-af86-8136e690d8cc",
   "metadata": {},
   "outputs": [
    {
     "data": {
      "text/plain": [
       "{1: 'one', 2: 'two'}"
      ]
     },
     "execution_count": 58,
     "metadata": {},
     "output_type": "execute_result"
    }
   ],
   "source": [
    "d"
   ]
  },
  {
   "cell_type": "code",
   "execution_count": 59,
   "id": "79aa1b39-be54-4ffb-b11f-bf2d14906b9e",
   "metadata": {},
   "outputs": [],
   "source": [
    "a = 5"
   ]
  },
  {
   "cell_type": "code",
   "execution_count": 60,
   "id": "c2f8e79b-bf23-4ecd-936e-02619c1a567e",
   "metadata": {},
   "outputs": [
    {
     "data": {
      "text/plain": [
       "5.0"
      ]
     },
     "execution_count": 60,
     "metadata": {},
     "output_type": "execute_result"
    }
   ],
   "source": [
    "float(a)"
   ]
  },
  {
   "cell_type": "code",
   "execution_count": 61,
   "id": "9236a054-02da-4df3-b118-15928f223468",
   "metadata": {},
   "outputs": [],
   "source": [
    "list = [1,2,4,3,5,6]"
   ]
  },
  {
   "cell_type": "code",
   "execution_count": 62,
   "id": "c467cd70-c1af-4961-91c6-f12390217893",
   "metadata": {},
   "outputs": [],
   "source": [
    "tup = tuple(list)"
   ]
  },
  {
   "cell_type": "code",
   "execution_count": 63,
   "id": "505972f9-fd0b-4e79-91ab-0dab568c0555",
   "metadata": {},
   "outputs": [
    {
     "data": {
      "text/plain": [
       "(1, 2, 4, 3, 5, 6)"
      ]
     },
     "execution_count": 63,
     "metadata": {},
     "output_type": "execute_result"
    }
   ],
   "source": [
    "tup"
   ]
  },
  {
   "cell_type": "code",
   "execution_count": 64,
   "id": "d60196d5-ea9a-4720-8e19-2d352501ae66",
   "metadata": {},
   "outputs": [],
   "source": [
    "#tup[0] = 3  # list converted to tuple,it cannot assign values"
   ]
  },
  {
   "cell_type": "code",
   "execution_count": 65,
   "id": "d1798a9a-1040-42c4-a322-bdcc5a2f8aaf",
   "metadata": {},
   "outputs": [
    {
     "data": {
      "text/plain": [
       "'1'"
      ]
     },
     "execution_count": 65,
     "metadata": {},
     "output_type": "execute_result"
    }
   ],
   "source": [
    "str(1)"
   ]
  },
  {
   "cell_type": "markdown",
   "id": "598fbcda-d99e-4ecd-826c-522dc7373f1b",
   "metadata": {},
   "source": [
    "# Operators"
   ]
  },
  {
   "cell_type": "markdown",
   "id": "1c7c7ce6-090d-45f0-a451-bab72ea7da21",
   "metadata": {},
   "source": [
    "# 1. Arithematic operators\n",
    "- +, -, *, /, %, //, **"
   ]
  },
  {
   "cell_type": "code",
   "execution_count": 66,
   "id": "aa9a0d22-8b15-4441-80de-1cc9c0946e5f",
   "metadata": {},
   "outputs": [],
   "source": [
    "x,y = 10,3"
   ]
  },
  {
   "cell_type": "code",
   "execution_count": 67,
   "id": "bd6193b7-7639-4eae-a860-28acc2253bb8",
   "metadata": {},
   "outputs": [
    {
     "data": {
      "text/plain": [
       "(13, 7, 3.3333333333333335, 30, 3, 1, 1000)"
      ]
     },
     "execution_count": 67,
     "metadata": {},
     "output_type": "execute_result"
    }
   ],
   "source": [
    "(x+y), (x-y) , (x/y) , (x*y) , (x//y) , (x%y) , (x**y)"
   ]
  },
  {
   "cell_type": "markdown",
   "id": "5538f24e-55e7-451b-9ba2-b23e35cfbfc3",
   "metadata": {},
   "source": [
    "# Relational operators"
   ]
  },
  {
   "cell_type": "markdown",
   "id": "1d104c30-001b-4a4e-a21d-22d34db80120",
   "metadata": {},
   "source": [
    "# - <,>,<=>=,==,!="
   ]
  },
  {
   "cell_type": "code",
   "execution_count": 68,
   "id": "45806880-65bf-49e5-9534-9afe594607cc",
   "metadata": {},
   "outputs": [
    {
     "data": {
      "text/plain": [
       "(False, True, False, True, False, True)"
      ]
     },
     "execution_count": 68,
     "metadata": {},
     "output_type": "execute_result"
    }
   ],
   "source": [
    "(x<y),(x>y),(x<=y),(x>=y),(x==y),(x!=y)"
   ]
  },
  {
   "cell_type": "markdown",
   "id": "687bf1ff-f212-4ca0-8185-70f2cfa8246a",
   "metadata": {},
   "source": [
    "# Logical operator\n",
    "- and,or & not"
   ]
  },
  {
   "cell_type": "code",
   "execution_count": 69,
   "id": "44fa3a78-c175-47e0-9031-d8d1cbb36d92",
   "metadata": {},
   "outputs": [
    {
     "data": {
      "text/plain": [
       "False"
      ]
     },
     "execution_count": 69,
     "metadata": {},
     "output_type": "execute_result"
    }
   ],
   "source": [
    "(x==5) and (y==3)"
   ]
  },
  {
   "cell_type": "code",
   "execution_count": 70,
   "id": "72c9f57e-4c2d-46a4-afb7-50f664611cb4",
   "metadata": {},
   "outputs": [
    {
     "data": {
      "text/plain": [
       "True"
      ]
     },
     "execution_count": 70,
     "metadata": {},
     "output_type": "execute_result"
    }
   ],
   "source": [
    "(x==5) or (y==3)"
   ]
  },
  {
   "cell_type": "code",
   "execution_count": 71,
   "id": "81eb49ee-d35d-49a7-9026-0af3ccadc48d",
   "metadata": {},
   "outputs": [
    {
     "data": {
      "text/plain": [
       "False"
      ]
     },
     "execution_count": 71,
     "metadata": {},
     "output_type": "execute_result"
    }
   ],
   "source": [
    "not (y == 3)"
   ]
  },
  {
   "cell_type": "markdown",
   "id": "a6bda9b3-9f41-4d60-ae33-bab450a2f65d",
   "metadata": {},
   "source": [
    "# Bitwise operator\n",
    "- &,|,~,^,<<,>>"
   ]
  },
  {
   "cell_type": "markdown",
   "id": "4e23da6f-f6b7-4272-8074-37227de1e345",
   "metadata": {},
   "source": [
    "# Assignment operators\n",
    "- =,+=,(all arithmetic and bitwise operators execpt ~)"
   ]
  },
  {
   "cell_type": "code",
   "execution_count": 72,
   "id": "e18a989e-d10a-4258-bac1-dfa85932c2a4",
   "metadata": {},
   "outputs": [
    {
     "data": {
      "text/plain": [
       "15"
      ]
     },
     "execution_count": 72,
     "metadata": {},
     "output_type": "execute_result"
    }
   ],
   "source": [
    "x+=5\n",
    "x"
   ]
  },
  {
   "cell_type": "markdown",
   "id": "85ad2503-69cd-41f7-83f4-7898e9dd349d",
   "metadata": {},
   "source": [
    "# Special operator\n",
    "- identity operator"
   ]
  },
  {
   "cell_type": "code",
   "execution_count": 73,
   "id": "d9698369-9631-437a-9bbc-dc1dd424c3d4",
   "metadata": {},
   "outputs": [
    {
     "data": {
      "text/plain": [
       "(5, 5)"
      ]
     },
     "execution_count": 73,
     "metadata": {},
     "output_type": "execute_result"
    }
   ],
   "source": [
    "g = h = 5\n",
    "g,h"
   ]
  },
  {
   "cell_type": "code",
   "execution_count": 74,
   "id": "c4dfa756-9069-4910-93b5-eb355538f9c3",
   "metadata": {},
   "outputs": [
    {
     "data": {
      "text/plain": [
       "(140713646631480, 140713646631480)"
      ]
     },
     "execution_count": 74,
     "metadata": {},
     "output_type": "execute_result"
    }
   ],
   "source": [
    "id(g),id(h)"
   ]
  },
  {
   "cell_type": "markdown",
   "id": "0a1f83ca-4ee7-4ab3-82af-aef801bdf249",
   "metadata": {},
   "source": [
    "# membership operator"
   ]
  },
  {
   "cell_type": "code",
   "execution_count": 75,
   "id": "85d23091-0a95-4d3b-b300-9288f0eb7b87",
   "metadata": {},
   "outputs": [
    {
     "data": {
      "text/plain": [
       "False"
      ]
     },
     "execution_count": 75,
     "metadata": {},
     "output_type": "execute_result"
    }
   ],
   "source": [
    "1 in list1"
   ]
  },
  {
   "cell_type": "code",
   "execution_count": 76,
   "id": "664f2dd4-9065-4ac2-9347-2866f2f0c7de",
   "metadata": {},
   "outputs": [
    {
     "data": {
      "text/plain": [
       "[3, 2, 3, 4, 5.55, 'var1']"
      ]
     },
     "execution_count": 76,
     "metadata": {},
     "output_type": "execute_result"
    }
   ],
   "source": [
    "list1"
   ]
  },
  {
   "cell_type": "code",
   "execution_count": 77,
   "id": "c0137345-323d-4ed5-81d9-4bbd6a67681a",
   "metadata": {},
   "outputs": [
    {
     "data": {
      "text/plain": [
       "True"
      ]
     },
     "execution_count": 77,
     "metadata": {},
     "output_type": "execute_result"
    }
   ],
   "source": [
    "'var1' in list1"
   ]
  },
  {
   "cell_type": "code",
   "execution_count": 78,
   "id": "5c32beb6-0e1c-48f5-91a2-9cf49ca70eaf",
   "metadata": {},
   "outputs": [
    {
     "data": {
      "text/plain": [
       "(1, 5, 4)"
      ]
     },
     "execution_count": 78,
     "metadata": {},
     "output_type": "execute_result"
    }
   ],
   "source": [
    "9 & 5, 5 & 5, 5 & 4"
   ]
  },
  {
   "cell_type": "code",
   "execution_count": 79,
   "id": "dd863d86-e145-41d7-ada4-f6a7df25ea77",
   "metadata": {},
   "outputs": [
    {
     "name": "stdout",
     "output_type": "stream",
     "text": [
      "Number is larger\n",
      "elif condition example\n"
     ]
    }
   ],
   "source": [
    "num=11\n",
    "if num>10:\n",
    "    print(\"Number is larger\")\n",
    "elif num<10:\n",
    "    print(\"Number is not larger\")\n",
    "else:\n",
    "    print(\"numbers are equal\")\n",
    "print(\"elif condition example\")"
   ]
  },
  {
   "cell_type": "code",
   "execution_count": 80,
   "id": "ec09e238-1f42-42d4-bee1-9f0fc8507e77",
   "metadata": {},
   "outputs": [
    {
     "name": "stdout",
     "output_type": "stream",
     "text": [
      "0\n",
      "1\n",
      "2\n",
      "3\n",
      "4\n"
     ]
    }
   ],
   "source": [
    "i = 0        # Initialization\n",
    "while i < 5:   # Conditon for termination\n",
    "    print(i)\n",
    "    i+=1"
   ]
  },
  {
   "cell_type": "code",
   "execution_count": 81,
   "id": "3eb2340f-1817-4d79-856d-12952a16a26c",
   "metadata": {},
   "outputs": [
    {
     "name": "stdout",
     "output_type": "stream",
     "text": [
      "0\n",
      "1\n",
      "2\n",
      "3\n",
      "4\n"
     ]
    }
   ],
   "source": [
    "for i in range(5):\n",
    "    print(i)"
   ]
  },
  {
   "cell_type": "code",
   "execution_count": 82,
   "id": "859615bb-1e79-425a-8c00-73f4a8d305e9",
   "metadata": {},
   "outputs": [
    {
     "name": "stdout",
     "output_type": "stream",
     "text": [
      "0\n",
      "1\n",
      "2\n"
     ]
    }
   ],
   "source": [
    "for i in range(5):\n",
    "    \n",
    "    if i ==3:\n",
    "        break\n",
    "    print(i)"
   ]
  },
  {
   "cell_type": "code",
   "execution_count": 83,
   "id": "36dc3914-d95f-46aa-8925-9b94f69f015c",
   "metadata": {},
   "outputs": [
    {
     "name": "stdout",
     "output_type": "stream",
     "text": [
      "0\n",
      "1\n",
      "2\n",
      "4\n"
     ]
    }
   ],
   "source": [
    "for i in range(5):\n",
    "    \n",
    "    if i ==3:\n",
    "        continue\n",
    "    print(i)"
   ]
  },
  {
   "cell_type": "code",
   "execution_count": 84,
   "id": "e25ebf1c-8b48-4aa3-b9d5-3c6d1b033edb",
   "metadata": {},
   "outputs": [
    {
     "data": {
      "text/plain": [
       "6"
      ]
     },
     "execution_count": 84,
     "metadata": {},
     "output_type": "execute_result"
    }
   ],
   "source": [
    "# lenght of list\n",
    "len(list1)"
   ]
  },
  {
   "cell_type": "code",
   "execution_count": 85,
   "id": "438dd52b-4704-4526-97c7-93e18bc3a683",
   "metadata": {},
   "outputs": [
    {
     "data": {
      "text/plain": [
       "[[1, 2], [3, 4]]"
      ]
     },
     "execution_count": 85,
     "metadata": {},
     "output_type": "execute_result"
    }
   ],
   "source": [
    "lst = [[1,2],[3,4]]\n",
    "lst"
   ]
  },
  {
   "cell_type": "code",
   "execution_count": 86,
   "id": "d6abfb9c-8e88-4b78-b83a-a458d632e7ef",
   "metadata": {},
   "outputs": [
    {
     "data": {
      "text/plain": [
       "2"
      ]
     },
     "execution_count": 86,
     "metadata": {},
     "output_type": "execute_result"
    }
   ],
   "source": [
    "len(lst)"
   ]
  },
  {
   "cell_type": "code",
   "execution_count": 87,
   "id": "c09b5c66-5c28-454b-b75b-0241299c1b7f",
   "metadata": {},
   "outputs": [],
   "source": [
    "# adding elements to list append\n",
    "list1.append('var2')"
   ]
  },
  {
   "cell_type": "code",
   "execution_count": 88,
   "id": "e011b388-2d2d-4a4c-a3ee-dc6b0db62715",
   "metadata": {},
   "outputs": [
    {
     "data": {
      "text/plain": [
       "[3, 2, 3, 4, 5.55, 'var1', 'var2']"
      ]
     },
     "execution_count": 88,
     "metadata": {},
     "output_type": "execute_result"
    }
   ],
   "source": [
    "list1"
   ]
  },
  {
   "cell_type": "code",
   "execution_count": 89,
   "id": "6556977c-60c7-4b2d-b7e0-791f2aaeadfb",
   "metadata": {},
   "outputs": [
    {
     "data": {
      "text/plain": [
       "[3, 2, 3, 4, 5.55, 'var0', 'var1', 'var2']"
      ]
     },
     "execution_count": 89,
     "metadata": {},
     "output_type": "execute_result"
    }
   ],
   "source": [
    "# insert\n",
    "list1.insert(5, 'var0')\n",
    "list1"
   ]
  },
  {
   "cell_type": "code",
   "execution_count": 90,
   "id": "6e92362c-570f-4eb6-8733-c705a7e89f14",
   "metadata": {},
   "outputs": [
    {
     "data": {
      "text/plain": [
       "[3, 2, 3, 4, 5.55, 'var0', 'var0', 'var1', 'var2']"
      ]
     },
     "execution_count": 90,
     "metadata": {},
     "output_type": "execute_result"
    }
   ],
   "source": [
    "# insert\n",
    "list1.insert(-2, 'var0')\n",
    "list1"
   ]
  },
  {
   "cell_type": "code",
   "execution_count": 91,
   "id": "d61bdae1-fc38-42aa-803f-f2e1161e205d",
   "metadata": {},
   "outputs": [
    {
     "data": {
      "text/plain": [
       "[3, 2, 3, 4, 5.55, 'var0', 'var1', 'var2']"
      ]
     },
     "execution_count": 91,
     "metadata": {},
     "output_type": "execute_result"
    }
   ],
   "source": [
    "#remove\n",
    "list1.remove('var0')\n",
    "list1"
   ]
  },
  {
   "cell_type": "code",
   "execution_count": 92,
   "id": "a30f7f2e-3483-4552-bb6d-7b39792eda99",
   "metadata": {},
   "outputs": [
    {
     "data": {
      "text/plain": [
       "[3, 2, 3, 4, 5.55, 'var0', 'var1', 'var2', [6, 7, 8]]"
      ]
     },
     "execution_count": 92,
     "metadata": {},
     "output_type": "execute_result"
    }
   ],
   "source": [
    "list1.append([6,7,8])\n",
    "list1"
   ]
  },
  {
   "cell_type": "code",
   "execution_count": 93,
   "id": "cc073374-b1c0-433b-9612-848345696a24",
   "metadata": {},
   "outputs": [],
   "source": [
    "list1.remove([6,7,8])"
   ]
  },
  {
   "cell_type": "code",
   "execution_count": 94,
   "id": "1e617f24-0334-4b86-a118-8ed26a2aedf7",
   "metadata": {},
   "outputs": [
    {
     "data": {
      "text/plain": [
       "[3, 2, 3, 4, 5.55, 'var0', 'var1', 'var2', 6, 7, 8]"
      ]
     },
     "execution_count": 94,
     "metadata": {},
     "output_type": "execute_result"
    }
   ],
   "source": [
    "# extend to add multiple elements\n",
    "list1.extend([6,7,8])\n",
    "list1"
   ]
  },
  {
   "cell_type": "code",
   "execution_count": 95,
   "id": "0fdd3228-ec68-4bfb-94b6-a747fe42e993",
   "metadata": {},
   "outputs": [
    {
     "data": {
      "text/plain": [
       "[1, 2, 3, 4, 5.55, 'var0', 'var1', 'var2', 6, 7, 8]"
      ]
     },
     "execution_count": 95,
     "metadata": {},
     "output_type": "execute_result"
    }
   ],
   "source": [
    "list1[0]=1\n",
    "list1"
   ]
  },
  {
   "cell_type": "code",
   "execution_count": 96,
   "id": "c4a525a8-4e9b-44c3-a9ab-3b79da8415d4",
   "metadata": {},
   "outputs": [
    {
     "data": {
      "text/plain": [
       "(1, [2, 3, 4, 5.55, 'var0', 'var1', 'var2', 6, 7, 8])"
      ]
     },
     "execution_count": 96,
     "metadata": {},
     "output_type": "execute_result"
    }
   ],
   "source": [
    "item = list1.pop(0)\n",
    "item , list1"
   ]
  },
  {
   "cell_type": "code",
   "execution_count": 97,
   "id": "43799ec3-57e0-486e-92fa-783a9d0b2d90",
   "metadata": {},
   "outputs": [
    {
     "data": {
      "text/plain": [
       "8"
      ]
     },
     "execution_count": 97,
     "metadata": {},
     "output_type": "execute_result"
    }
   ],
   "source": [
    "list1.pop(-1)   # it returns a value"
   ]
  },
  {
   "cell_type": "code",
   "execution_count": 98,
   "id": "a3320bb9-096c-4994-81f2-a23317085fcb",
   "metadata": {},
   "outputs": [
    {
     "data": {
      "text/plain": [
       "[2, 3, 4, 5.55, 'var0', 'var1', 'var2', 6]"
      ]
     },
     "execution_count": 98,
     "metadata": {},
     "output_type": "execute_result"
    }
   ],
   "source": [
    "list1.pop(-1)\n",
    "list1"
   ]
  },
  {
   "cell_type": "code",
   "execution_count": 99,
   "id": "9b20eb03-9f97-43b3-8269-1ebf2b8ce583",
   "metadata": {},
   "outputs": [
    {
     "name": "stdout",
     "output_type": "stream",
     "text": [
      "var 1 found\n",
      "var0 found\n"
     ]
    }
   ],
   "source": [
    "if 'var1' in list1:\n",
    "    print(\"var 1 found\")\n",
    "if 'var0' not in list1:\n",
    "    print(\"Var0 not found\")\n",
    "else:\n",
    "    print(\"var0 found\")"
   ]
  },
  {
   "cell_type": "code",
   "execution_count": 100,
   "id": "4e487bab-ed62-41ea-a7ed-46b442232624",
   "metadata": {},
   "outputs": [],
   "source": [
    "list1.append('var0')\n",
    "list1.remove('var1')"
   ]
  },
  {
   "cell_type": "code",
   "execution_count": 101,
   "id": "6951fdea-00ca-45dd-b5a9-9a7b9250ec46",
   "metadata": {},
   "outputs": [
    {
     "name": "stdout",
     "output_type": "stream",
     "text": [
      "var0 found\n"
     ]
    }
   ],
   "source": [
    "if 'var1' in list1:\n",
    "    print(\"var 1 found\")\n",
    "if 'var0' not in list1:\n",
    "    print(\"Var0 not found\")\n",
    "else:\n",
    "    print(\"var0 found\")"
   ]
  },
  {
   "cell_type": "code",
   "execution_count": 102,
   "id": "51af4c2f-38a8-49d4-9b2d-65500b1c1bb2",
   "metadata": {},
   "outputs": [],
   "source": [
    "list1.append('var1')"
   ]
  },
  {
   "cell_type": "code",
   "execution_count": 103,
   "id": "c0a939f7-063d-4ad9-9584-6d7b92722e17",
   "metadata": {},
   "outputs": [
    {
     "name": "stdout",
     "output_type": "stream",
     "text": [
      "var 1 found\n",
      "var0 found\n"
     ]
    }
   ],
   "source": [
    "if 'var1' in list1:\n",
    "    print(\"var 1 found\")\n",
    "if 'var0' not in list1:\n",
    "    print(\"Var0 not found\")\n",
    "else:\n",
    "    print(\"var0 found\")"
   ]
  },
  {
   "cell_type": "code",
   "execution_count": 104,
   "id": "0e3c91ac-b4d1-4f59-8a63-f23745bbdd68",
   "metadata": {},
   "outputs": [
    {
     "data": {
      "text/plain": [
       "[[3, 4], [1, 2]]"
      ]
     },
     "execution_count": 104,
     "metadata": {},
     "output_type": "execute_result"
    }
   ],
   "source": [
    "lst.reverse()\n",
    "lst"
   ]
  },
  {
   "cell_type": "code",
   "execution_count": 105,
   "id": "49f47883-8908-4dd4-9665-692e91ec825e",
   "metadata": {},
   "outputs": [
    {
     "data": {
      "text/plain": [
       "['var1', 'var0', 6, 'var2', 'var0', 5.55, 4, 3, 2]"
      ]
     },
     "execution_count": 105,
     "metadata": {},
     "output_type": "execute_result"
    }
   ],
   "source": [
    "list1.reverse()\n",
    "list1"
   ]
  },
  {
   "cell_type": "code",
   "execution_count": 106,
   "id": "a7887f27-08ff-47e4-b1ea-830924558900",
   "metadata": {},
   "outputs": [
    {
     "data": {
      "text/plain": [
       "'var1'"
      ]
     },
     "execution_count": 106,
     "metadata": {},
     "output_type": "execute_result"
    }
   ],
   "source": [
    "list1.pop(0)"
   ]
  },
  {
   "cell_type": "code",
   "execution_count": 107,
   "id": "5d8d8465-7edb-483e-a8fd-f3eb6cdfa218",
   "metadata": {},
   "outputs": [],
   "source": [
    "#sorted(list1)"
   ]
  },
  {
   "cell_type": "code",
   "execution_count": 108,
   "id": "7a8a65b2-9105-42d0-aae1-c9017184f344",
   "metadata": {},
   "outputs": [
    {
     "data": {
      "text/plain": [
       "4"
      ]
     },
     "execution_count": 108,
     "metadata": {},
     "output_type": "execute_result"
    }
   ],
   "source": [
    "lst[0][1]"
   ]
  },
  {
   "cell_type": "code",
   "execution_count": 109,
   "id": "bb558527-ee25-45bc-a941-84e9c088496e",
   "metadata": {},
   "outputs": [
    {
     "data": {
      "text/plain": [
       "['var0', 6, 'var2', 'var0', 5.55, 4, 3, 2]"
      ]
     },
     "execution_count": 109,
     "metadata": {},
     "output_type": "execute_result"
    }
   ],
   "source": [
    "list1     # the sorted did not modify the list "
   ]
  },
  {
   "cell_type": "code",
   "execution_count": 110,
   "id": "e5935862-1fb3-4c57-aa55-7155ddebc80a",
   "metadata": {},
   "outputs": [],
   "source": [
    "# list1.sort()\n",
    "# list1"
   ]
  },
  {
   "cell_type": "code",
   "execution_count": 111,
   "id": "a728f330-fcac-4d85-8ab6-3c65b144084b",
   "metadata": {},
   "outputs": [
    {
     "name": "stdout",
     "output_type": "stream",
     "text": [
      "var0\n",
      "6\n",
      "var2\n",
      "var0\n",
      "5.55\n",
      "4\n",
      "3\n",
      "2\n"
     ]
    }
   ],
   "source": [
    "for item in list1:\n",
    "    print(item)"
   ]
  },
  {
   "cell_type": "code",
   "execution_count": 112,
   "id": "c22e842f-b597-4764-a6cd-0095837216be",
   "metadata": {},
   "outputs": [
    {
     "name": "stdin",
     "output_type": "stream",
     "text": [
      "Enter a integer: 12\n",
      "Enter a integer: 23\n",
      "Enter a integer: 34\n"
     ]
    },
    {
     "data": {
      "text/plain": [
       "[12, 23, 34]"
      ]
     },
     "execution_count": 112,
     "metadata": {},
     "output_type": "execute_result"
    }
   ],
   "source": [
    "list2=[]\n",
    "for i in range(3):\n",
    "    item = int(input(\"Enter a integer:\"))\n",
    "    list2.append(item)\n",
    "list2"
   ]
  },
  {
   "cell_type": "code",
   "execution_count": 113,
   "id": "905a297d-3ab1-4558-803a-22d591dcb9ab",
   "metadata": {},
   "outputs": [
    {
     "data": {
      "text/plain": [
       "['1', '2', '3', '4', '5', '6', '7', '8', '9', '0']"
      ]
     },
     "execution_count": 113,
     "metadata": {},
     "output_type": "execute_result"
    }
   ],
   "source": [
    "# convert string into list\n",
    "s=\"1,2,3,4,5,6,7,8,9,0\"\n",
    "slist = s.split(\",\")\n",
    "slist          "
   ]
  },
  {
   "cell_type": "code",
   "execution_count": 114,
   "id": "5f53aaf0-3431-401e-be8c-2230d20d13a4",
   "metadata": {},
   "outputs": [],
   "source": [
    "string = \"This is intro to py\""
   ]
  },
  {
   "cell_type": "code",
   "execution_count": 115,
   "id": "742ca9d7-68ea-40dd-8b57-45a0fc909026",
   "metadata": {},
   "outputs": [
    {
     "data": {
      "text/plain": [
       "['This', 'is', 'intro', 'to', 'py']"
      ]
     },
     "execution_count": 115,
     "metadata": {},
     "output_type": "execute_result"
    }
   ],
   "source": [
    "str_lst = string.split()   # supperator is by default space\n",
    "str_lst"
   ]
  },
  {
   "cell_type": "code",
   "execution_count": 116,
   "id": "54914584-f1cc-4294-b906-b1eda1bb3372",
   "metadata": {},
   "outputs": [],
   "source": [
    "#list(string)    # It gives each char as element"
   ]
  },
  {
   "cell_type": "code",
   "execution_count": 117,
   "id": "fda6d495-42b0-4f31-b661-de1297579c38",
   "metadata": {},
   "outputs": [
    {
     "data": {
      "text/plain": [
       "['var0', 6, 'var2', 'var0', 5.55, 4, 3, 2]"
      ]
     },
     "execution_count": 117,
     "metadata": {},
     "output_type": "execute_result"
    }
   ],
   "source": [
    "list1"
   ]
  },
  {
   "cell_type": "code",
   "execution_count": 118,
   "id": "2bdfb325-a43d-4e98-9050-acfb093cd1e5",
   "metadata": {},
   "outputs": [
    {
     "data": {
      "text/plain": [
       "['var0', 6, 'var2']"
      ]
     },
     "execution_count": 118,
     "metadata": {},
     "output_type": "execute_result"
    }
   ],
   "source": [
    "list1[:3]"
   ]
  },
  {
   "cell_type": "code",
   "execution_count": 119,
   "id": "4af51f24-81ea-4063-a745-d8e7b9466921",
   "metadata": {},
   "outputs": [
    {
     "data": {
      "text/plain": [
       "['var0', 'var2', 5.55, 3]"
      ]
     },
     "execution_count": 119,
     "metadata": {},
     "output_type": "execute_result"
    }
   ],
   "source": [
    "list1[::2]"
   ]
  },
  {
   "cell_type": "code",
   "execution_count": 120,
   "id": "b6c48c5c-8f84-46ee-ba82-ae5713477462",
   "metadata": {},
   "outputs": [],
   "source": [
    "list1.extend([4,4,4])"
   ]
  },
  {
   "cell_type": "code",
   "execution_count": 121,
   "id": "b60e7eeb-c794-4952-a76a-7c25ac3b6bd9",
   "metadata": {},
   "outputs": [
    {
     "data": {
      "text/plain": [
       "4"
      ]
     },
     "execution_count": 121,
     "metadata": {},
     "output_type": "execute_result"
    }
   ],
   "source": [
    "list1.count(4)"
   ]
  },
  {
   "cell_type": "code",
   "execution_count": 122,
   "id": "fc827ff0-d8dd-49e8-a882-b36c9664ef4b",
   "metadata": {},
   "outputs": [
    {
     "data": {
      "text/plain": [
       "['var0', 6, 'var2', 'var0', 5.55, 4, 3, 2, 4, 4, 4]"
      ]
     },
     "execution_count": 122,
     "metadata": {},
     "output_type": "execute_result"
    }
   ],
   "source": [
    "list1"
   ]
  },
  {
   "cell_type": "code",
   "execution_count": 123,
   "id": "d8165aec-b06c-42c9-aaf5-e294abfa8ed0",
   "metadata": {},
   "outputs": [
    {
     "data": {
      "text/plain": [
       "['var0',\n",
       " 6,\n",
       " 'var2',\n",
       " 'var0',\n",
       " 5.55,\n",
       " 4,\n",
       " 3,\n",
       " 2,\n",
       " 4,\n",
       " 4,\n",
       " 4,\n",
       " 1,\n",
       " 2,\n",
       " 3,\n",
       " 4,\n",
       " 5,\n",
       " 6,\n",
       " 7,\n",
       " 8,\n",
       " 9,\n",
       " 0]"
      ]
     },
     "execution_count": 123,
     "metadata": {},
     "output_type": "execute_result"
    }
   ],
   "source": [
    "# extend can be done in easy way\n",
    "list1 + [1,2,3,4,5,6,7,8,9,0]"
   ]
  },
  {
   "cell_type": "code",
   "execution_count": 124,
   "id": "d1d4ce68-3639-4a26-9fbf-10bf154b3c88",
   "metadata": {},
   "outputs": [],
   "source": [
    "#Activity\n",
    "#Transpose of a matrix\n",
    "lst = [[3, 4], [1, 2]]"
   ]
  },
  {
   "cell_type": "code",
   "execution_count": 125,
   "id": "0786f068-d321-4672-b690-8f6c4a28daff",
   "metadata": {},
   "outputs": [],
   "source": [
    "# list[start:stop:step]  -  Default = 0"
   ]
  },
  {
   "cell_type": "code",
   "execution_count": 126,
   "id": "6669d7a8-4d7a-4398-b29c-56f15b332c45",
   "metadata": {},
   "outputs": [
    {
     "data": {
      "text/plain": [
       "[[3, 1], [1, 2]]"
      ]
     },
     "execution_count": 126,
     "metadata": {},
     "output_type": "execute_result"
    }
   ],
   "source": [
    "for i in range(2):\n",
    "    for j in range(2):\n",
    "        lst[i][j]=lst[j][i]\n",
    "lst"
   ]
  },
  {
   "cell_type": "markdown",
   "id": "e9fe14d4-2d14-46a7-8e52-f103070b2b18",
   "metadata": {},
   "source": [
    "# TUPLES"
   ]
  },
  {
   "cell_type": "code",
   "execution_count": 127,
   "id": "75d0f643-82d1-4126-a6c9-2555fcaa0924",
   "metadata": {},
   "outputs": [
    {
     "data": {
      "text/plain": [
       "(1, 2, 4, 3, 5, 6)"
      ]
     },
     "execution_count": 127,
     "metadata": {},
     "output_type": "execute_result"
    }
   ],
   "source": [
    "tup"
   ]
  },
  {
   "cell_type": "code",
   "execution_count": 128,
   "id": "94bff861-10fd-4302-ae30-4ca3296306b6",
   "metadata": {},
   "outputs": [
    {
     "data": {
      "text/plain": [
       "4"
      ]
     },
     "execution_count": 128,
     "metadata": {},
     "output_type": "execute_result"
    }
   ],
   "source": [
    "tup.index(5)"
   ]
  },
  {
   "cell_type": "code",
   "execution_count": 129,
   "id": "783b7936-7a28-4afe-9b54-ffcc2c45e022",
   "metadata": {},
   "outputs": [
    {
     "data": {
      "text/plain": [
       "(1, 2, 4, 3, 5, 6, 7, 8)"
      ]
     },
     "execution_count": 129,
     "metadata": {},
     "output_type": "execute_result"
    }
   ],
   "source": [
    "tup + (7,8)"
   ]
  },
  {
   "cell_type": "code",
   "execution_count": 130,
   "id": "2815c355-c10f-4d3b-b740-1badda27c75a",
   "metadata": {},
   "outputs": [
    {
     "data": {
      "text/plain": [
       "tuple"
      ]
     },
     "execution_count": 130,
     "metadata": {},
     "output_type": "execute_result"
    }
   ],
   "source": [
    "type(tup)"
   ]
  },
  {
   "cell_type": "code",
   "execution_count": 131,
   "id": "a5e19651-8c3b-4999-bc99-2652fe288824",
   "metadata": {},
   "outputs": [
    {
     "data": {
      "text/plain": [
       "(1, 2, 4, 3, 5, 6)"
      ]
     },
     "execution_count": 131,
     "metadata": {},
     "output_type": "execute_result"
    }
   ],
   "source": [
    "tup"
   ]
  },
  {
   "cell_type": "code",
   "execution_count": 132,
   "id": "a5768c0a-9cc4-445e-a3a1-69062b456eea",
   "metadata": {},
   "outputs": [
    {
     "data": {
      "text/plain": [
       "1536784334912"
      ]
     },
     "execution_count": 132,
     "metadata": {},
     "output_type": "execute_result"
    }
   ],
   "source": [
    "id(tup)"
   ]
  },
  {
   "cell_type": "code",
   "execution_count": 133,
   "id": "7bfe41f3-b7b8-427f-9bde-a0ce88b991f7",
   "metadata": {},
   "outputs": [],
   "source": [
    "tup=(1,2,3,4,[1,2,3,4],(6,7,8))"
   ]
  },
  {
   "cell_type": "code",
   "execution_count": 134,
   "id": "8db1310c-2e62-404f-ba30-eab4c6868e1b",
   "metadata": {},
   "outputs": [],
   "source": [
    "tup[-2][0]=5\n",
    "#tup[-1][0]=5 throws up an error \n",
    "# Tuples() are inmutable"
   ]
  },
  {
   "cell_type": "code",
   "execution_count": 135,
   "id": "ba3c39df-d6a6-4112-a347-4e6c5b063f80",
   "metadata": {},
   "outputs": [
    {
     "data": {
      "text/plain": [
       "(1, 2, 3, 4, [5, 2, 3, 4], (6, 7, 8))"
      ]
     },
     "execution_count": 135,
     "metadata": {},
     "output_type": "execute_result"
    }
   ],
   "source": [
    "tup"
   ]
  },
  {
   "cell_type": "code",
   "execution_count": 136,
   "id": "33bb9297-152f-4d8d-b8e6-4b3172ff08ef",
   "metadata": {},
   "outputs": [
    {
     "data": {
      "text/plain": [
       "1"
      ]
     },
     "execution_count": 136,
     "metadata": {},
     "output_type": "execute_result"
    }
   ],
   "source": [
    "tup.count(1)"
   ]
  },
  {
   "cell_type": "code",
   "execution_count": 137,
   "id": "be02e307-1ab9-4297-9ef6-c445d12952dd",
   "metadata": {},
   "outputs": [
    {
     "data": {
      "text/plain": [
       "2"
      ]
     },
     "execution_count": 137,
     "metadata": {},
     "output_type": "execute_result"
    }
   ],
   "source": [
    "tup.index(3)"
   ]
  },
  {
   "cell_type": "code",
   "execution_count": 138,
   "id": "fcc0a666-b859-46ad-a745-062506f1bd72",
   "metadata": {},
   "outputs": [],
   "source": [
    "#tup.delete()"
   ]
  },
  {
   "cell_type": "markdown",
   "id": "cb1ec163-4c78-41ea-9303-682a428f12fc",
   "metadata": {},
   "source": [
    "# SETS"
   ]
  },
  {
   "cell_type": "code",
   "execution_count": 139,
   "id": "292195c1-0706-4979-beda-629d7d428cbe",
   "metadata": {},
   "outputs": [
    {
     "data": {
      "text/plain": [
       "{1, 2, 3, 4, 5, 9}"
      ]
     },
     "execution_count": 139,
     "metadata": {},
     "output_type": "execute_result"
    }
   ],
   "source": [
    "set1 = {1,2,3,4,2,3,5,1,1,9}\n",
    "set1"
   ]
  },
  {
   "cell_type": "code",
   "execution_count": 140,
   "id": "f7b0414f-7427-4c92-be94-8468e98fdf33",
   "metadata": {},
   "outputs": [
    {
     "data": {
      "text/plain": [
       "{1, 2, 3, 4, 5, 9, 10}"
      ]
     },
     "execution_count": 140,
     "metadata": {},
     "output_type": "execute_result"
    }
   ],
   "source": [
    "set1.add(10)\n",
    "set1"
   ]
  },
  {
   "cell_type": "code",
   "execution_count": 141,
   "id": "9884c391-83ff-43bb-ab9a-50bcca995694",
   "metadata": {},
   "outputs": [
    {
     "data": {
      "text/plain": [
       "{1, 2, 3, 4, 5, 6, 7, 8, 9, 10}"
      ]
     },
     "execution_count": 141,
     "metadata": {},
     "output_type": "execute_result"
    }
   ],
   "source": [
    "set1.update({6,7,8})\n",
    "set1"
   ]
  },
  {
   "cell_type": "code",
   "execution_count": 142,
   "id": "a641823f-1660-4a8d-b82f-d1f8d7fee30d",
   "metadata": {},
   "outputs": [
    {
     "data": {
      "text/plain": [
       "{1, 2, 3, 4, 5, 6, 7, 8, 9}"
      ]
     },
     "execution_count": 142,
     "metadata": {},
     "output_type": "execute_result"
    }
   ],
   "source": [
    "set1.discard(10)\n",
    "set1"
   ]
  },
  {
   "cell_type": "code",
   "execution_count": 143,
   "id": "65b17141-a99e-4633-ab8b-24bc518a65f9",
   "metadata": {},
   "outputs": [
    {
     "data": {
      "text/plain": [
       "{1, 2, 3, 4, 5, 6, 7, 8}"
      ]
     },
     "execution_count": 143,
     "metadata": {},
     "output_type": "execute_result"
    }
   ],
   "source": [
    "set1.remove(9)\n",
    "set1"
   ]
  },
  {
   "cell_type": "code",
   "execution_count": 144,
   "id": "58a2854a-fbd7-496e-8110-390d94ed7e25",
   "metadata": {},
   "outputs": [
    {
     "data": {
      "text/plain": [
       "1"
      ]
     },
     "execution_count": 144,
     "metadata": {},
     "output_type": "execute_result"
    }
   ],
   "source": [
    "set1.pop()"
   ]
  },
  {
   "cell_type": "markdown",
   "id": "4aa6cbcf-417e-413f-ae16-54ab79cfb0de",
   "metadata": {},
   "source": [
    "# UNION & INTERSECTION OF SETS"
   ]
  },
  {
   "cell_type": "code",
   "execution_count": 145,
   "id": "3232a432-6e70-423b-b5d4-93c095024fc4",
   "metadata": {},
   "outputs": [],
   "source": [
    "set2 = {1,2,3,9,10}"
   ]
  },
  {
   "cell_type": "code",
   "execution_count": 146,
   "id": "9261d6b8-c4fb-4065-b005-10402db7af15",
   "metadata": {},
   "outputs": [
    {
     "data": {
      "text/plain": [
       "{1, 2, 3, 4, 5, 6, 7, 8, 9, 10}"
      ]
     },
     "execution_count": 146,
     "metadata": {},
     "output_type": "execute_result"
    }
   ],
   "source": [
    "set1 | set2"
   ]
  },
  {
   "cell_type": "code",
   "execution_count": 147,
   "id": "c3371c58-648e-4ab6-82b5-fb332cb70ba4",
   "metadata": {},
   "outputs": [
    {
     "data": {
      "text/plain": [
       "{1, 2, 3, 4, 5, 6, 7, 8, 9, 10}"
      ]
     },
     "execution_count": 147,
     "metadata": {},
     "output_type": "execute_result"
    }
   ],
   "source": [
    "set1.union(set2)"
   ]
  },
  {
   "cell_type": "code",
   "execution_count": 148,
   "id": "09b35263-dfa5-4c12-ae88-52698f00e5be",
   "metadata": {},
   "outputs": [
    {
     "data": {
      "text/plain": [
       "{2, 3}"
      ]
     },
     "execution_count": 148,
     "metadata": {},
     "output_type": "execute_result"
    }
   ],
   "source": [
    "set1 & set2"
   ]
  },
  {
   "cell_type": "code",
   "execution_count": 149,
   "id": "a8fba956-bc5b-490e-ad73-c1c1af270114",
   "metadata": {},
   "outputs": [
    {
     "data": {
      "text/plain": [
       "{2, 3}"
      ]
     },
     "execution_count": 149,
     "metadata": {},
     "output_type": "execute_result"
    }
   ],
   "source": [
    "set1.intersection(set2)"
   ]
  },
  {
   "cell_type": "code",
   "execution_count": 150,
   "id": "3bdb4c2d-277f-4f61-a32c-8b67d7134eca",
   "metadata": {},
   "outputs": [
    {
     "data": {
      "text/plain": [
       "{1, 4, 5, 6, 7, 8, 9, 10}"
      ]
     },
     "execution_count": 150,
     "metadata": {},
     "output_type": "execute_result"
    }
   ],
   "source": [
    "set1.symmetric_difference(set2)"
   ]
  },
  {
   "cell_type": "code",
   "execution_count": 151,
   "id": "fea8169e-682a-4561-8a5e-3518e175ec72",
   "metadata": {},
   "outputs": [
    {
     "data": {
      "text/plain": [
       "{4, 5, 6, 7, 8}"
      ]
     },
     "execution_count": 151,
     "metadata": {},
     "output_type": "execute_result"
    }
   ],
   "source": [
    "set1 - set2    # difference"
   ]
  },
  {
   "cell_type": "code",
   "execution_count": 152,
   "id": "e3043e99-60f2-41e1-a472-930a317438e4",
   "metadata": {},
   "outputs": [
    {
     "data": {
      "text/plain": [
       "{4, 5, 6, 7, 8}"
      ]
     },
     "execution_count": 152,
     "metadata": {},
     "output_type": "execute_result"
    }
   ],
   "source": [
    "set1.difference(set2)"
   ]
  },
  {
   "cell_type": "code",
   "execution_count": 153,
   "id": "65411407-4b65-479f-a6f7-0a46134d566d",
   "metadata": {},
   "outputs": [
    {
     "data": {
      "text/plain": [
       "{1, 4, 5, 6, 7, 8, 9, 10}"
      ]
     },
     "execution_count": 153,
     "metadata": {},
     "output_type": "execute_result"
    }
   ],
   "source": [
    "set1 ^ set2   # symmetric difference"
   ]
  },
  {
   "cell_type": "code",
   "execution_count": 154,
   "id": "51d52014-6209-4c06-bbc5-79590c6d8239",
   "metadata": {},
   "outputs": [],
   "source": [
    "s1 = frozenset([1,2,3,4])\n",
    "s2 = frozenset([5,6,7,8])"
   ]
  },
  {
   "cell_type": "code",
   "execution_count": 155,
   "id": "adde8013-7470-449e-ae15-dd722a415c2a",
   "metadata": {},
   "outputs": [],
   "source": [
    "# s1.add(5)   # cannot add value to frozenset"
   ]
  },
  {
   "cell_type": "code",
   "execution_count": 156,
   "id": "034fc116-300f-4ea2-87c1-2d90aaa93782",
   "metadata": {},
   "outputs": [
    {
     "data": {
      "text/plain": [
       "True"
      ]
     },
     "execution_count": 156,
     "metadata": {},
     "output_type": "execute_result"
    }
   ],
   "source": [
    "set1.issuperset(s2)"
   ]
  },
  {
   "cell_type": "code",
   "execution_count": 157,
   "id": "88299787-b009-439f-a5bc-c800765ce136",
   "metadata": {},
   "outputs": [
    {
     "data": {
      "text/plain": [
       "{1: 'one', 2: 'two'}"
      ]
     },
     "execution_count": 157,
     "metadata": {},
     "output_type": "execute_result"
    }
   ],
   "source": [
    "d"
   ]
  },
  {
   "cell_type": "code",
   "execution_count": 158,
   "id": "3058b35a-3aa2-4a1c-8a12-46b3f634d206",
   "metadata": {},
   "outputs": [
    {
     "data": {
      "text/plain": [
       "'one'"
      ]
     },
     "execution_count": 158,
     "metadata": {},
     "output_type": "execute_result"
    }
   ],
   "source": [
    "d[1]"
   ]
  },
  {
   "cell_type": "code",
   "execution_count": 159,
   "id": "14278a00-cbb6-42be-87b1-19d187653e1d",
   "metadata": {},
   "outputs": [],
   "source": [
    "d[3] = \"three\""
   ]
  },
  {
   "cell_type": "code",
   "execution_count": 160,
   "id": "25c14405-a5bc-4681-aa29-715d84457140",
   "metadata": {},
   "outputs": [
    {
     "data": {
      "text/plain": [
       "{1: 'one', 2: 'two', 3: 'three'}"
      ]
     },
     "execution_count": 160,
     "metadata": {},
     "output_type": "execute_result"
    }
   ],
   "source": [
    "d"
   ]
  },
  {
   "cell_type": "code",
   "execution_count": 161,
   "id": "fd09ad2d-61e0-45aa-9cb0-f8830499a3a5",
   "metadata": {},
   "outputs": [],
   "source": [
    "d[3] = '3'"
   ]
  },
  {
   "cell_type": "code",
   "execution_count": 162,
   "id": "faf98165-0bed-40d7-b456-0d3d8170ae3a",
   "metadata": {},
   "outputs": [
    {
     "data": {
      "text/plain": [
       "{1: 'one', 2: 'two', 3: '3'}"
      ]
     },
     "execution_count": 162,
     "metadata": {},
     "output_type": "execute_result"
    }
   ],
   "source": [
    "d"
   ]
  },
  {
   "cell_type": "code",
   "execution_count": 163,
   "id": "d5836164-25a0-44ef-b1d7-f33bb08803da",
   "metadata": {},
   "outputs": [
    {
     "data": {
      "text/plain": [
       "'3'"
      ]
     },
     "execution_count": 163,
     "metadata": {},
     "output_type": "execute_result"
    }
   ],
   "source": [
    "d.pop(3)"
   ]
  },
  {
   "cell_type": "code",
   "execution_count": 164,
   "id": "4f77eecb-1450-4b7a-b9aa-618937bc183a",
   "metadata": {},
   "outputs": [
    {
     "data": {
      "text/plain": [
       "{1: 'one', 2: 'two'}"
      ]
     },
     "execution_count": 164,
     "metadata": {},
     "output_type": "execute_result"
    }
   ],
   "source": [
    "d"
   ]
  },
  {
   "cell_type": "code",
   "execution_count": 165,
   "id": "f260ddd8-0b4e-45c3-a0b2-e0e89fb7da28",
   "metadata": {},
   "outputs": [
    {
     "data": {
      "text/plain": [
       "{1: 'one', 2: 'two'}"
      ]
     },
     "execution_count": 165,
     "metadata": {},
     "output_type": "execute_result"
    }
   ],
   "source": [
    "d"
   ]
  },
  {
   "cell_type": "code",
   "execution_count": 167,
   "id": "9e1b140f-ae62-4caf-8039-1465e4cd2cd4",
   "metadata": {},
   "outputs": [],
   "source": [
    "# d.pop(item)"
   ]
  },
  {
   "cell_type": "code",
   "execution_count": 168,
   "id": "da462624-4a86-40b8-8fe5-8121caa970d5",
   "metadata": {},
   "outputs": [],
   "source": [
    "d[3]=\"three\"\n",
    "d[1]=\"one\"\n",
    "d[2]=\"two\""
   ]
  },
  {
   "cell_type": "code",
   "execution_count": 169,
   "id": "948ffa65-1445-4c6f-88ef-2e6da3839a07",
   "metadata": {},
   "outputs": [
    {
     "data": {
      "text/plain": [
       "{1: 'one', 2: 'two', 3: 'three'}"
      ]
     },
     "execution_count": 169,
     "metadata": {},
     "output_type": "execute_result"
    }
   ],
   "source": [
    "d"
   ]
  },
  {
   "cell_type": "code",
   "execution_count": 170,
   "id": "306d1d1f-0a71-4b1a-8e97-661fda70e639",
   "metadata": {},
   "outputs": [],
   "source": [
    "dictionary = d"
   ]
  },
  {
   "cell_type": "code",
   "execution_count": 173,
   "id": "69751d65-ab83-48b5-80b0-f04fd447e0bb",
   "metadata": {},
   "outputs": [],
   "source": [
    "# dictionary.pop(item)"
   ]
  },
  {
   "cell_type": "code",
   "execution_count": 174,
   "id": "1c65049a-535a-412d-973b-a6f595edb0e9",
   "metadata": {},
   "outputs": [
    {
     "data": {
      "text/plain": [
       "{1: 'one', 2: 'two', 3: 'three'}"
      ]
     },
     "execution_count": 174,
     "metadata": {},
     "output_type": "execute_result"
    }
   ],
   "source": [
    "dictionary"
   ]
  },
  {
   "cell_type": "code",
   "execution_count": 175,
   "id": "bb34eafb-7f90-4df7-9825-9a19e2b3f765",
   "metadata": {},
   "outputs": [
    {
     "data": {
      "text/plain": [
       "True"
      ]
     },
     "execution_count": 175,
     "metadata": {},
     "output_type": "execute_result"
    }
   ],
   "source": [
    "dictionary == d"
   ]
  },
  {
   "cell_type": "code",
   "execution_count": 176,
   "id": "5db6fff2-23bf-4497-9aa9-6230dcb04624",
   "metadata": {},
   "outputs": [],
   "source": [
    "dic = d.copy()"
   ]
  },
  {
   "cell_type": "code",
   "execution_count": 177,
   "id": "b41f38fc-ed33-4bb3-a6c6-ad5a3a18c3a9",
   "metadata": {},
   "outputs": [],
   "source": [
    "dic[4]= \"four\""
   ]
  },
  {
   "cell_type": "code",
   "execution_count": 178,
   "id": "5693da63-1283-4ef3-aca6-4658a68bd7c2",
   "metadata": {},
   "outputs": [
    {
     "data": {
      "text/plain": [
       "{1: 'one', 2: 'two', 3: 'three', 4: 'four'}"
      ]
     },
     "execution_count": 178,
     "metadata": {},
     "output_type": "execute_result"
    }
   ],
   "source": [
    "dic"
   ]
  },
  {
   "cell_type": "code",
   "execution_count": 179,
   "id": "7570f31d-44be-4fe4-a6c4-4ac3cd789118",
   "metadata": {},
   "outputs": [
    {
     "data": {
      "text/plain": [
       "{1: 'one', 2: 'two', 3: 'three'}"
      ]
     },
     "execution_count": 179,
     "metadata": {},
     "output_type": "execute_result"
    }
   ],
   "source": [
    "d"
   ]
  },
  {
   "cell_type": "code",
   "execution_count": 180,
   "id": "d75b34b2-a319-4a62-bbc1-dfa0f7fe9ad7",
   "metadata": {},
   "outputs": [
    {
     "data": {
      "text/plain": [
       "{1: None, 2: None, 3: None}"
      ]
     },
     "execution_count": 180,
     "metadata": {},
     "output_type": "execute_result"
    }
   ],
   "source": [
    "d.fromkeys([1,2,3])"
   ]
  },
  {
   "cell_type": "code",
   "execution_count": 181,
   "id": "06cf24b4-fac4-4c3a-916e-baa8cdbdd1e8",
   "metadata": {},
   "outputs": [
    {
     "data": {
      "text/plain": [
       "'1,2,3,4,5,6,7,8,9,0'"
      ]
     },
     "execution_count": 181,
     "metadata": {},
     "output_type": "execute_result"
    }
   ],
   "source": [
    "s = \"1,2,3,4,5,6,7,8,9,0\"\n",
    "s"
   ]
  },
  {
   "cell_type": "code",
   "execution_count": 182,
   "id": "bdb86118-7a52-436b-9a03-09e1b755ff58",
   "metadata": {},
   "outputs": [],
   "source": [
    "#s[0] = 0"
   ]
  },
  {
   "cell_type": "code",
   "execution_count": 183,
   "id": "202739e6-167b-4318-8f1c-d345920f2daa",
   "metadata": {},
   "outputs": [],
   "source": [
    "string = \"This is an intro to python\""
   ]
  },
  {
   "cell_type": "code",
   "execution_count": 184,
   "id": "b7c8297c-f188-41fa-81a3-a3bc8fc84cc8",
   "metadata": {},
   "outputs": [
    {
     "data": {
      "text/plain": [
       "'1,2,3,4,5,6,7,8,9,0This is an intro to python'"
      ]
     },
     "execution_count": 184,
     "metadata": {},
     "output_type": "execute_result"
    }
   ],
   "source": [
    "s + string"
   ]
  },
  {
   "cell_type": "code",
   "execution_count": 185,
   "id": "d89e02ef-10e8-490d-a368-9f222d0bfe9e",
   "metadata": {},
   "outputs": [
    {
     "name": "stdout",
     "output_type": "stream",
     "text": [
      "3 is number of 'i's in the string\n"
     ]
    }
   ],
   "source": [
    "count = 0\n",
    "for char in string:\n",
    "    if char == 'i':\n",
    "        count+=1\n",
    "print(str(count) + \" is number of 'i's in the string\")"
   ]
  },
  {
   "cell_type": "code",
   "execution_count": 186,
   "id": "5323f7ef-09f1-4935-9dbe-793abc7b0e12",
   "metadata": {},
   "outputs": [
    {
     "data": {
      "text/plain": [
       "True"
      ]
     },
     "execution_count": 186,
     "metadata": {},
     "output_type": "execute_result"
    }
   ],
   "source": [
    "'i' in string"
   ]
  },
  {
   "cell_type": "code",
   "execution_count": 187,
   "id": "31728213-837a-49b4-982b-72e93045ec87",
   "metadata": {},
   "outputs": [
    {
     "data": {
      "text/plain": [
       "'this is an intro to python'"
      ]
     },
     "execution_count": 187,
     "metadata": {},
     "output_type": "execute_result"
    }
   ],
   "source": [
    "string.lower()"
   ]
  },
  {
   "cell_type": "code",
   "execution_count": 188,
   "id": "f5fc35af-e3ee-41ff-b1d8-02d5806775a1",
   "metadata": {},
   "outputs": [
    {
     "data": {
      "text/plain": [
       "False"
      ]
     },
     "execution_count": 188,
     "metadata": {},
     "output_type": "execute_result"
    }
   ],
   "source": [
    "string.islower()"
   ]
  },
  {
   "cell_type": "code",
   "execution_count": 189,
   "id": "41483759-731a-4799-92d3-36dcfca7acbb",
   "metadata": {},
   "outputs": [
    {
     "name": "stdout",
     "output_type": "stream",
     "text": [
      "Hi There\n"
     ]
    }
   ],
   "source": [
    "def greet(name = \"There\"):\n",
    "    \"\"\"DocString\"\"\"\n",
    "    print(\"Hi \" + name)\n",
    "greet()"
   ]
  },
  {
   "cell_type": "code",
   "execution_count": 190,
   "id": "54b0d60b-363b-4a34-823d-9cd76fb9330f",
   "metadata": {},
   "outputs": [
    {
     "name": "stdout",
     "output_type": "stream",
     "text": [
      "Hi adam\n"
     ]
    }
   ],
   "source": [
    "greet(\"adam\")"
   ]
  },
  {
   "cell_type": "code",
   "execution_count": 191,
   "id": "90544252-1e9a-4ed3-9513-3cdb2ac6f5ad",
   "metadata": {},
   "outputs": [
    {
     "data": {
      "text/plain": [
       "'DocString'"
      ]
     },
     "execution_count": 191,
     "metadata": {},
     "output_type": "execute_result"
    }
   ],
   "source": [
    "greet.__doc__"
   ]
  },
  {
   "cell_type": "code",
   "execution_count": 192,
   "id": "be7beb42-5863-41a6-9991-06f3bfc26113",
   "metadata": {},
   "outputs": [
    {
     "name": "stdout",
     "output_type": "stream",
     "text": [
      "DocString\n"
     ]
    }
   ],
   "source": [
    "print(greet.__doc__)"
   ]
  },
  {
   "cell_type": "code",
   "execution_count": 193,
   "id": "bd32af19-4d0e-4647-b79d-f1af065575c3",
   "metadata": {},
   "outputs": [],
   "source": [
    "lst = [1,2,3,4,5,6,7,8]"
   ]
  },
  {
   "cell_type": "code",
   "execution_count": 194,
   "id": "245d282d-84ff-4fbf-b3aa-9ab3f44b0edc",
   "metadata": {},
   "outputs": [],
   "source": [
    "def sum_list(lst):\n",
    "    sum = 0\n",
    "    for i in lst:\n",
    "        sum+=i\n",
    "    if sum!=0:\n",
    "        return True, sum\n",
    "    else:\n",
    "        return False, sum"
   ]
  },
  {
   "cell_type": "code",
   "execution_count": 195,
   "id": "83923992-d271-4058-a8f7-5b6dbaea2c60",
   "metadata": {},
   "outputs": [
    {
     "data": {
      "text/plain": [
       "(True, 36)"
      ]
     },
     "execution_count": 195,
     "metadata": {},
     "output_type": "execute_result"
    }
   ],
   "source": [
    "sum_list(lst)"
   ]
  },
  {
   "cell_type": "code",
   "execution_count": 196,
   "id": "803117c3-2bc9-4dd9-ad02-8882659e7375",
   "metadata": {},
   "outputs": [],
   "source": [
    "status, sum = sum_list([0])"
   ]
  },
  {
   "cell_type": "code",
   "execution_count": 197,
   "id": "a90564a6-09b0-4de7-b4b3-81e4d83964f3",
   "metadata": {},
   "outputs": [
    {
     "name": "stdout",
     "output_type": "stream",
     "text": [
      "The status of list addition is False and value is 0\n"
     ]
    }
   ],
   "source": [
    "print(f\"The status of list addition is {status} and value is {sum}\")"
   ]
  },
  {
   "cell_type": "code",
   "execution_count": 198,
   "id": "800dde1c-68ba-4648-8a3d-3b40b7698efa",
   "metadata": {},
   "outputs": [],
   "source": [
    "double = lambda x: x*2"
   ]
  },
  {
   "cell_type": "code",
   "execution_count": 199,
   "id": "5e299881-a53d-480b-9a61-92f9470855dd",
   "metadata": {},
   "outputs": [
    {
     "data": {
      "text/plain": [
       "200"
      ]
     },
     "execution_count": 199,
     "metadata": {},
     "output_type": "execute_result"
    }
   ],
   "source": [
    "double(100)"
   ]
  },
  {
   "cell_type": "code",
   "execution_count": 200,
   "id": "eab42b91-0e1a-4d0d-a33a-9f8103ec28af",
   "metadata": {},
   "outputs": [],
   "source": [
    "greetings = lambda name: print(\"Hi \" + name)"
   ]
  },
  {
   "cell_type": "code",
   "execution_count": 202,
   "id": "dd7cd7ca-ee11-41b5-821f-802f9bcaab14",
   "metadata": {},
   "outputs": [
    {
     "name": "stdout",
     "output_type": "stream",
     "text": [
      "Hi John\n"
     ]
    }
   ],
   "source": [
    "greetings(\"John\")"
   ]
  },
  {
   "cell_type": "code",
   "execution_count": 203,
   "id": "e77b1b62-49c6-4dd1-ab7e-1a00b1e22478",
   "metadata": {},
   "outputs": [],
   "source": [
    "def factorial(num):\n",
    "    return 1 if num == 1 else (num*factorial(num-1))"
   ]
  },
  {
   "cell_type": "code",
   "execution_count": 204,
   "id": "c2ee8eb5-c55b-4969-9c26-f5f67548cde9",
   "metadata": {},
   "outputs": [
    {
     "data": {
      "text/plain": [
       "120"
      ]
     },
     "execution_count": 204,
     "metadata": {},
     "output_type": "execute_result"
    }
   ],
   "source": [
    "factorial(5)"
   ]
  },
  {
   "cell_type": "code",
   "execution_count": 208,
   "id": "8457d0d3-6777-45c2-b2d0-8afef7c04696",
   "metadata": {},
   "outputs": [],
   "source": [
    "factorial = lambda num: 1 if num == 1 else (num*factorial(num-1))"
   ]
  },
  {
   "cell_type": "code",
   "execution_count": 209,
   "id": "e92ac296-b53a-4f52-84fd-bb2449beb33c",
   "metadata": {},
   "outputs": [
    {
     "data": {
      "text/plain": [
       "720"
      ]
     },
     "execution_count": 209,
     "metadata": {},
     "output_type": "execute_result"
    }
   ],
   "source": [
    "factorial(6)"
   ]
  },
  {
   "cell_type": "code",
   "execution_count": 210,
   "id": "f05bb8b8-6340-42c3-8059-7fb403fa6650",
   "metadata": {},
   "outputs": [],
   "source": [
    "import math"
   ]
  },
  {
   "cell_type": "code",
   "execution_count": 213,
   "id": "ddacb693-ef31-4bd4-99da-3e64e243cb78",
   "metadata": {},
   "outputs": [
    {
     "name": "stdout",
     "output_type": "stream",
     "text": [
      "['__doc__', '__loader__', '__name__', '__package__', '__spec__', 'acos', 'acosh', 'asin', 'asinh', 'atan', 'atan2', 'atanh', 'cbrt', 'ceil', 'comb', 'copysign', 'cos', 'cosh', 'degrees', 'dist', 'e', 'erf', 'erfc', 'exp', 'exp2', 'expm1', 'fabs', 'factorial', 'floor', 'fmod', 'frexp', 'fsum', 'gamma', 'gcd', 'hypot', 'inf', 'isclose', 'isfinite', 'isinf', 'isnan', 'isqrt', 'lcm', 'ldexp', 'lgamma', 'log', 'log10', 'log1p', 'log2', 'modf', 'nan', 'nextafter', 'perm', 'pi', 'pow', 'prod', 'radians', 'remainder', 'sin', 'sinh', 'sqrt', 'sumprod', 'tan', 'tanh', 'tau', 'trunc', 'ulp']\n"
     ]
    }
   ],
   "source": [
    "print(dir(math))"
   ]
  },
  {
   "cell_type": "code",
   "execution_count": 215,
   "id": "50e1193a-6291-479f-a12d-76b6b3aee1bd",
   "metadata": {},
   "outputs": [],
   "source": [
    "import random"
   ]
  },
  {
   "cell_type": "code",
   "execution_count": 216,
   "id": "04283ec9-a82a-4cae-930c-f2ca58f6b33c",
   "metadata": {},
   "outputs": [
    {
     "name": "stdout",
     "output_type": "stream",
     "text": [
      "['BPF', 'LOG4', 'NV_MAGICCONST', 'RECIP_BPF', 'Random', 'SG_MAGICCONST', 'SystemRandom', 'TWOPI', '_ONE', '_Sequence', '__all__', '__builtins__', '__cached__', '__doc__', '__file__', '__loader__', '__name__', '__package__', '__spec__', '_accumulate', '_acos', '_bisect', '_ceil', '_cos', '_e', '_exp', '_fabs', '_floor', '_index', '_inst', '_isfinite', '_lgamma', '_log', '_log2', '_os', '_pi', '_random', '_repeat', '_sha512', '_sin', '_sqrt', '_test', '_test_generator', '_urandom', '_warn', 'betavariate', 'binomialvariate', 'choice', 'choices', 'expovariate', 'gammavariate', 'gauss', 'getrandbits', 'getstate', 'lognormvariate', 'normalvariate', 'paretovariate', 'randbytes', 'randint', 'random', 'randrange', 'sample', 'seed', 'setstate', 'shuffle', 'triangular', 'uniform', 'vonmisesvariate', 'weibullvariate']\n"
     ]
    }
   ],
   "source": [
    "print(dir(random))"
   ]
  },
  {
   "cell_type": "code",
   "execution_count": 217,
   "id": "e583c5a3-a5fe-40c0-bfe8-172781616e41",
   "metadata": {},
   "outputs": [],
   "source": [
    "import os"
   ]
  },
  {
   "cell_type": "code",
   "execution_count": 218,
   "id": "d1f3e7e3-120a-451b-9d69-6053d23091c1",
   "metadata": {},
   "outputs": [
    {
     "name": "stdout",
     "output_type": "stream",
     "text": [
      "['DirEntry', 'EX_OK', 'F_OK', 'GenericAlias', 'Mapping', 'MutableMapping', 'O_APPEND', 'O_BINARY', 'O_CREAT', 'O_EXCL', 'O_NOINHERIT', 'O_RANDOM', 'O_RDONLY', 'O_RDWR', 'O_SEQUENTIAL', 'O_SHORT_LIVED', 'O_TEMPORARY', 'O_TEXT', 'O_TRUNC', 'O_WRONLY', 'P_DETACH', 'P_NOWAIT', 'P_NOWAITO', 'P_OVERLAY', 'P_WAIT', 'PathLike', 'R_OK', 'SEEK_CUR', 'SEEK_END', 'SEEK_SET', 'TMP_MAX', 'W_OK', 'X_OK', '_AddedDllDirectory', '_Environ', '__all__', '__builtins__', '__doc__', '__file__', '__loader__', '__name__', '__package__', '__spec__', '_check_methods', '_execvpe', '_exists', '_exit', '_fspath', '_get_exports_list', '_walk_symlinks_as_files', '_wrap_close', 'abc', 'abort', 'access', 'add_dll_directory', 'altsep', 'chdir', 'chmod', 'close', 'closerange', 'cpu_count', 'curdir', 'defpath', 'device_encoding', 'devnull', 'dup', 'dup2', 'environ', 'error', 'execl', 'execle', 'execlp', 'execlpe', 'execv', 'execve', 'execvp', 'execvpe', 'extsep', 'fdopen', 'fsdecode', 'fsencode', 'fspath', 'fstat', 'fsync', 'ftruncate', 'get_blocking', 'get_exec_path', 'get_handle_inheritable', 'get_inheritable', 'get_terminal_size', 'getcwd', 'getcwdb', 'getenv', 'getlogin', 'getpid', 'getppid', 'isatty', 'kill', 'linesep', 'link', 'listdir', 'listdrives', 'listmounts', 'listvolumes', 'lseek', 'lstat', 'makedirs', 'mkdir', 'name', 'open', 'pardir', 'path', 'pathsep', 'pipe', 'popen', 'putenv', 'read', 'readlink', 'remove', 'removedirs', 'rename', 'renames', 'replace', 'rmdir', 'scandir', 'sep', 'set_blocking', 'set_handle_inheritable', 'set_inheritable', 'spawnl', 'spawnle', 'spawnv', 'spawnve', 'st', 'startfile', 'stat', 'stat_result', 'statvfs_result', 'strerror', 'supports_bytes_environ', 'supports_dir_fd', 'supports_effective_ids', 'supports_fd', 'supports_follow_symlinks', 'symlink', 'sys', 'system', 'terminal_size', 'times', 'times_result', 'truncate', 'umask', 'uname_result', 'unlink', 'unsetenv', 'urandom', 'utime', 'waitpid', 'waitstatus_to_exitcode', 'walk', 'write']\n"
     ]
    }
   ],
   "source": [
    "print(dir(os))"
   ]
  },
  {
   "cell_type": "code",
   "execution_count": 219,
   "id": "e5d3c25b-253d-4eda-a01c-365f456b700d",
   "metadata": {},
   "outputs": [],
   "source": [
    "import sys"
   ]
  },
  {
   "cell_type": "code",
   "execution_count": 220,
   "id": "1c34c247-736a-4550-80b8-2adaf1fd2667",
   "metadata": {},
   "outputs": [
    {
     "name": "stdout",
     "output_type": "stream",
     "text": [
      "['__breakpointhook__', '__displayhook__', '__doc__', '__excepthook__', '__interactivehook__', '__loader__', '__name__', '__package__', '__spec__', '__stderr__', '__stdin__', '__stdout__', '__unraisablehook__', '_base_executable', '_clear_type_cache', '_current_exceptions', '_current_frames', '_debugmallocstats', '_enablelegacywindowsfsencoding', '_framework', '_getframe', '_getframemodulename', '_git', '_home', '_setprofileallthreads', '_settraceallthreads', '_stdlib_dir', '_vpath', '_xoptions', 'activate_stack_trampoline', 'addaudithook', 'api_version', 'argv', 'audit', 'base_exec_prefix', 'base_prefix', 'breakpointhook', 'builtin_module_names', 'byteorder', 'call_tracing', 'copyright', 'deactivate_stack_trampoline', 'displayhook', 'dllhandle', 'dont_write_bytecode', 'exc_info', 'excepthook', 'exception', 'exec_prefix', 'executable', 'exit', 'flags', 'float_info', 'float_repr_style', 'get_asyncgen_hooks', 'get_coroutine_origin_tracking_depth', 'get_int_max_str_digits', 'getallocatedblocks', 'getdefaultencoding', 'getfilesystemencodeerrors', 'getfilesystemencoding', 'getprofile', 'getrecursionlimit', 'getrefcount', 'getsizeof', 'getswitchinterval', 'gettrace', 'getunicodeinternedsize', 'getwindowsversion', 'hash_info', 'hexversion', 'implementation', 'int_info', 'intern', 'is_finalizing', 'is_stack_trampoline_active', 'last_traceback', 'last_type', 'last_value', 'maxsize', 'maxunicode', 'meta_path', 'modules', 'monitoring', 'orig_argv', 'path', 'path_hooks', 'path_importer_cache', 'platform', 'platlibdir', 'prefix', 'ps1', 'ps2', 'ps3', 'pycache_prefix', 'set_asyncgen_hooks', 'set_coroutine_origin_tracking_depth', 'set_int_max_str_digits', 'setprofile', 'setrecursionlimit', 'setswitchinterval', 'settrace', 'stderr', 'stdin', 'stdlib_module_names', 'stdout', 'thread_info', 'unraisablehook', 'version', 'version_info', 'warnoptions', 'winver']\n"
     ]
    }
   ],
   "source": [
    "print(dir(sys))"
   ]
  },
  {
   "cell_type": "code",
   "execution_count": 221,
   "id": "9383616a-6c5b-415e-b5bc-4a5287c40ba4",
   "metadata": {},
   "outputs": [],
   "source": [
    "import datetime"
   ]
  },
  {
   "cell_type": "code",
   "execution_count": 222,
   "id": "0c4805e8-e917-4678-b3c7-eb9e83556725",
   "metadata": {},
   "outputs": [
    {
     "name": "stdout",
     "output_type": "stream",
     "text": [
      "['MAXYEAR', 'MINYEAR', 'UTC', '__all__', '__builtins__', '__cached__', '__doc__', '__file__', '__loader__', '__name__', '__package__', '__spec__', 'date', 'datetime', 'datetime_CAPI', 'time', 'timedelta', 'timezone', 'tzinfo']\n"
     ]
    }
   ],
   "source": [
    "print(dir(datetime))"
   ]
  },
  {
   "cell_type": "code",
   "execution_count": 224,
   "id": "38651f3b-2673-40bd-8bc1-083f387a5c7f",
   "metadata": {},
   "outputs": [
    {
     "name": "stdout",
     "output_type": "stream",
     "text": [
      "Requirement already satisfied: numpy in c:\\users\\vijay\\anaconda3\\lib\\site-packages (1.26.4)\n",
      "Requirement already satisfied: pandas in c:\\users\\vijay\\anaconda3\\lib\\site-packages (2.2.2)\n",
      "Requirement already satisfied: numpy>=1.26.0 in c:\\users\\vijay\\anaconda3\\lib\\site-packages (from pandas) (1.26.4)\n",
      "Requirement already satisfied: python-dateutil>=2.8.2 in c:\\users\\vijay\\anaconda3\\lib\\site-packages (from pandas) (2.9.0.post0)\n",
      "Requirement already satisfied: pytz>=2020.1 in c:\\users\\vijay\\anaconda3\\lib\\site-packages (from pandas) (2024.1)\n",
      "Requirement already satisfied: tzdata>=2022.7 in c:\\users\\vijay\\anaconda3\\lib\\site-packages (from pandas) (2023.3)\n",
      "Requirement already satisfied: six>=1.5 in c:\\users\\vijay\\anaconda3\\lib\\site-packages (from python-dateutil>=2.8.2->pandas) (1.16.0)\n",
      "Requirement already satisfied: matplotlib in c:\\users\\vijay\\anaconda3\\lib\\site-packages (3.9.2)\n",
      "Requirement already satisfied: contourpy>=1.0.1 in c:\\users\\vijay\\anaconda3\\lib\\site-packages (from matplotlib) (1.2.0)\n",
      "Requirement already satisfied: cycler>=0.10 in c:\\users\\vijay\\anaconda3\\lib\\site-packages (from matplotlib) (0.11.0)\n",
      "Requirement already satisfied: fonttools>=4.22.0 in c:\\users\\vijay\\anaconda3\\lib\\site-packages (from matplotlib) (4.51.0)\n",
      "Requirement already satisfied: kiwisolver>=1.3.1 in c:\\users\\vijay\\anaconda3\\lib\\site-packages (from matplotlib) (1.4.4)\n",
      "Requirement already satisfied: numpy>=1.23 in c:\\users\\vijay\\anaconda3\\lib\\site-packages (from matplotlib) (1.26.4)\n",
      "Requirement already satisfied: packaging>=20.0 in c:\\users\\vijay\\anaconda3\\lib\\site-packages (from matplotlib) (24.1)\n",
      "Requirement already satisfied: pillow>=8 in c:\\users\\vijay\\anaconda3\\lib\\site-packages (from matplotlib) (10.4.0)\n",
      "Requirement already satisfied: pyparsing>=2.3.1 in c:\\users\\vijay\\anaconda3\\lib\\site-packages (from matplotlib) (3.1.2)\n",
      "Requirement already satisfied: python-dateutil>=2.7 in c:\\users\\vijay\\anaconda3\\lib\\site-packages (from matplotlib) (2.9.0.post0)\n",
      "Requirement already satisfied: six>=1.5 in c:\\users\\vijay\\anaconda3\\lib\\site-packages (from python-dateutil>=2.7->matplotlib) (1.16.0)\n"
     ]
    }
   ],
   "source": [
    "!pip install numpy\n",
    "!pip install pandas\n",
    "!pip install matplotlib"
   ]
  },
  {
   "cell_type": "code",
   "execution_count": 225,
   "id": "3e79beb2-e51e-4ca6-bf70-8bdc768503c8",
   "metadata": {},
   "outputs": [
    {
     "data": {
      "text/plain": [
       "[1, 2, 3, 4, 5, 6, 7, 8]"
      ]
     },
     "execution_count": 225,
     "metadata": {},
     "output_type": "execute_result"
    }
   ],
   "source": [
    "lst"
   ]
  },
  {
   "cell_type": "code",
   "execution_count": 226,
   "id": "96e6c6e2-3e6f-437c-aaef-c862a8fb6eb5",
   "metadata": {},
   "outputs": [
    {
     "data": {
      "text/plain": [
       "[1, 2, 3, 4, 5, 6, 7, 8, 1, 2, 3, 4, 5, 6, 7, 8]"
      ]
     },
     "execution_count": 226,
     "metadata": {},
     "output_type": "execute_result"
    }
   ],
   "source": [
    "lst * 2"
   ]
  },
  {
   "cell_type": "markdown",
   "id": "14fd9da9-ab56-4e1f-9d24-0e3a8c63b35b",
   "metadata": {},
   "source": [
    "# Pandas"
   ]
  },
  {
   "cell_type": "code",
   "execution_count": 3,
   "id": "6b4d0d6d-0c20-4bd5-a05a-a6528e421d74",
   "metadata": {},
   "outputs": [],
   "source": [
    "import pandas as pd"
   ]
  },
  {
   "cell_type": "code",
   "execution_count": 4,
   "id": "a5312a05-9b29-42bc-aadb-34e7ebe23c26",
   "metadata": {},
   "outputs": [],
   "source": [
    "array = [0,1,2,3,4]"
   ]
  },
  {
   "cell_type": "code",
   "execution_count": 6,
   "id": "d988e222-1685-4dab-8eb4-a82e4e7f8d60",
   "metadata": {},
   "outputs": [
    {
     "data": {
      "text/plain": [
       "0    0\n",
       "1    1\n",
       "2    2\n",
       "3    3\n",
       "4    4\n",
       "dtype: int64"
      ]
     },
     "execution_count": 6,
     "metadata": {},
     "output_type": "execute_result"
    }
   ],
   "source": [
    "s1 = pd.Series(array)\n",
    "s1"
   ]
  },
  {
   "cell_type": "code",
   "execution_count": 7,
   "id": "10bb622c-df47-4654-9ab5-577a94122bc3",
   "metadata": {},
   "outputs": [
    {
     "data": {
      "text/plain": [
       "1    0\n",
       "2    1\n",
       "3    2\n",
       "4    3\n",
       "5    4\n",
       "dtype: int64"
      ]
     },
     "execution_count": 7,
     "metadata": {},
     "output_type": "execute_result"
    }
   ],
   "source": [
    "order = [1,2,3,4,5]\n",
    "s2 = pd.Series(array, index=order)\n",
    "s2"
   ]
  },
  {
   "cell_type": "code",
   "execution_count": 8,
   "id": "d72405f5-7973-4111-8d23-5de0555da8da",
   "metadata": {},
   "outputs": [],
   "source": [
    "import numpy as np"
   ]
  },
  {
   "cell_type": "code",
   "execution_count": 19,
   "id": "bd3c1104-9067-4a10-86f9-4daeecfa7846",
   "metadata": {},
   "outputs": [
    {
     "data": {
      "text/plain": [
       "a   -1.222407\n",
       "b   -0.984454\n",
       "c   -0.976022\n",
       "d    1.066336\n",
       "e    0.122631\n",
       "dtype: float64"
      ]
     },
     "execution_count": 19,
     "metadata": {},
     "output_type": "execute_result"
    }
   ],
   "source": [
    "n=np.random.randn(5)\n",
    "index = ['a','b','c','d','e']\n",
    "s3 = pd.Series(n,index=index)\n",
    "s3"
   ]
  },
  {
   "cell_type": "code",
   "execution_count": 21,
   "id": "5b68d9ea-2d9c-469d-a3ef-bd708e362b13",
   "metadata": {},
   "outputs": [],
   "source": [
    "s1.index = [\"A\",\"B\",\"C\",\"D\",\"E\"]"
   ]
  },
  {
   "cell_type": "code",
   "execution_count": 16,
   "id": "b3893319-9ddb-4003-8181-90f67546807a",
   "metadata": {},
   "outputs": [
    {
     "data": {
      "text/plain": [
       "A    0\n",
       "B    1\n",
       "C    2\n",
       "D    3\n",
       "dtype: int64"
      ]
     },
     "execution_count": 16,
     "metadata": {},
     "output_type": "execute_result"
    }
   ],
   "source": [
    "# Slicing\n",
    "s1[:-1]"
   ]
  },
  {
   "cell_type": "code",
   "execution_count": 17,
   "id": "40a4ae0e-0fda-4e59-ad19-df9491941c2a",
   "metadata": {},
   "outputs": [
    {
     "data": {
      "text/plain": [
       "C    2\n",
       "dtype: int64"
      ]
     },
     "execution_count": 17,
     "metadata": {},
     "output_type": "execute_result"
    }
   ],
   "source": [
    "s1[2:-2]"
   ]
  },
  {
   "cell_type": "code",
   "execution_count": 23,
   "id": "6201bc27-9c23-4bcd-84f2-96f934d74752",
   "metadata": {},
   "outputs": [],
   "source": [
    "# s4 = s1.append(s3)\n",
    "# s4"
   ]
  },
  {
   "cell_type": "code",
   "execution_count": 25,
   "id": "2142a18a-7953-4c56-b04d-c4cdb691e781",
   "metadata": {},
   "outputs": [
    {
     "data": {
      "text/plain": [
       "A    0\n",
       "B    1\n",
       "C    2\n",
       "D    3\n",
       "dtype: int64"
      ]
     },
     "execution_count": 25,
     "metadata": {},
     "output_type": "execute_result"
    }
   ],
   "source": [
    "s1.drop('E')"
   ]
  },
  {
   "cell_type": "code",
   "execution_count": 26,
   "id": "c096f12e-f577-480f-adb9-efcb4822b50e",
   "metadata": {},
   "outputs": [
    {
     "data": {
      "text/plain": [
       "A    0\n",
       "B    1\n",
       "C    2\n",
       "D    3\n",
       "E    4\n",
       "dtype: int64"
      ]
     },
     "execution_count": 26,
     "metadata": {},
     "output_type": "execute_result"
    }
   ],
   "source": [
    "s1"
   ]
  },
  {
   "cell_type": "code",
   "execution_count": null,
   "id": "3fb57fdb-dcee-418a-a4d4-cca1e7f7247d",
   "metadata": {},
   "outputs": [],
   "source": []
  }
 ],
 "metadata": {
  "kernelspec": {
   "display_name": "Python 3 (ipykernel)",
   "language": "python",
   "name": "python3"
  },
  "language_info": {
   "codemirror_mode": {
    "name": "ipython",
    "version": 3
   },
   "file_extension": ".py",
   "mimetype": "text/x-python",
   "name": "python",
   "nbconvert_exporter": "python",
   "pygments_lexer": "ipython3",
   "version": "3.12.7"
  }
 },
 "nbformat": 4,
 "nbformat_minor": 5
}
